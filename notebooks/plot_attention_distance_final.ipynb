{
 "cells": [
  {
   "cell_type": "markdown",
   "metadata": {},
   "source": [
    "# Plot Scratchpad Results"
   ]
  },
  {
   "cell_type": "markdown",
   "metadata": {},
   "source": [
    "## Prerequisites"
   ]
  },
  {
   "cell_type": "code",
   "execution_count": 1,
   "metadata": {
    "ExecuteTime": {
     "start_time": "2023-05-30T10:36:02.491513Z",
     "end_time": "2023-05-30T10:36:13.326386Z"
    }
   },
   "outputs": [],
   "source": [
    "import copy\n",
    "import datetime\n",
    "import importlib\n",
    "import re\n",
    "\n",
    "from pathlib import Path\n",
    "from typing import List, Dict, Any\n",
    "\n",
    "\n",
    "\n",
    "import numpy as np\n",
    "from tqdm.auto import tqdm\n",
    "\n",
    "import plotnine as p9\n",
    "\n",
    "import pandas as pd\n",
    "from collections import deque\n",
    "\n",
    "from utils import add_src_to_sys_path\n",
    "\n",
    "add_src_to_sys_path()\n",
    "\n",
    "from common import wandb_utils, nest\n",
    "from common import plotnine_utils as p9u\n",
    "import re\n",
    "\n",
    "from plotting import attention_analysis_utils as aa_utils\n",
    "\n",
    "wandb_utils = importlib.reload(wandb_utils)\n",
    "p9u = importlib.reload(p9u)\n",
    "# aa_utils = importlib.reload(aa_utils)\n",
    "\n",
    "wandb_api = wandb_utils.get_wandb_api()"
   ]
  },
  {
   "cell_type": "markdown",
   "metadata": {},
   "source": [
    "## Load the experiments"
   ]
  },
  {
   "cell_type": "code",
   "execution_count": 5,
   "metadata": {
    "ExecuteTime": {
     "start_time": "2023-05-30T10:40:38.746688Z",
     "end_time": "2023-05-30T10:40:38.771052Z"
    }
   },
   "outputs": [],
   "source": [
    "tags = [\"scratch_for_attn\"]"
   ]
  },
  {
   "cell_type": "code",
   "execution_count": 3,
   "metadata": {
    "ExecuteTime": {
     "start_time": "2023-05-30T10:36:15.236897Z",
     "end_time": "2023-05-30T10:36:15.246400Z"
    }
   },
   "outputs": [],
   "source": [
    "plot_dir_name = \"__\".join(tags)\n",
    "output_dir = Path(\"output_plots\") / f\"{plot_dir_name}_ind\"\n",
    "output_dir.mkdir(parents=True, exist_ok=True)"
   ]
  },
  {
   "cell_type": "code",
   "execution_count": 6,
   "metadata": {
    "ExecuteTime": {
     "start_time": "2023-05-30T10:40:47.444383Z",
     "end_time": "2023-05-30T10:40:50.523441Z"
    }
   },
   "outputs": [
    {
     "data": {
      "text/plain": "  0%|          | 0/56 [00:00<?, ?it/s]",
      "application/vnd.jupyter.widget-view+json": {
       "version_major": 2,
       "version_minor": 0,
       "model_id": "3179b16970634e64b8bd19e3b8f219b4"
      }
     },
     "metadata": {},
     "output_type": "display_data"
    },
    {
     "name": "stdout",
     "output_type": "stream",
     "text": [
      "Building dataframe...\n",
      "Saving results to /Users/amirhosein/Development/PycharmProjects/len_gen/results/scratch_for_attn.jsonl\n"
     ]
    },
    {
     "data": {
      "text/plain": "13"
     },
     "execution_count": 6,
     "metadata": {},
     "output_type": "execute_result"
    }
   ],
   "source": [
    "df = wandb_utils.download_and_load_results(\n",
    "    tags=tags,\n",
    "    # force_download=True,\n",
    "    force_download=False,\n",
    ")\n",
    "\n",
    "df = df[df[\"job_type\"] == \"attn_analysis_aggr\"]\n",
    "len(df)"
   ]
  },
  {
   "cell_type": "markdown",
   "metadata": {},
   "source": [
    "## Load the data"
   ]
  },
  {
   "cell_type": "code",
   "execution_count": 5,
   "metadata": {},
   "outputs": [
    {
     "data": {
      "text/plain": [
       "array(['s2s_sum', 's2s_copy', 'pcfg', 's2s_reverse', 'scan'], dtype=object)"
      ]
     },
     "execution_count": 5,
     "metadata": {},
     "output_type": "execute_result"
    }
   ],
   "source": [
    "df[\"cfg__dataset.name\"].unique()"
   ]
  },
  {
   "cell_type": "code",
   "execution_count": 6,
   "metadata": {},
   "outputs": [
    {
     "data": {
      "text/plain": [
       "array(['len_tr8_ts16', 'cmc2x_tr20_ts40', 'rsc2x_tr20_ts40',\n",
       "       'md_productivity', 'rdc_tr20_ts40', 'cmc_tr20_ts40',\n",
       "       'mc2x_tr20_ts40', 'mcrv_tr20_ts40', 'mc_tr20_ts40',\n",
       "       'rsc_tr20_ts40', 'len_tr25_ts48'], dtype=object)"
      ]
     },
     "execution_count": 6,
     "metadata": {},
     "output_type": "execute_result"
    }
   ],
   "source": [
    "df[\"cfg__dataset.split\"].unique()"
   ]
  },
  {
   "cell_type": "code",
   "execution_count": 5,
   "metadata": {
    "ExecuteTime": {
     "end_time": "2023-04-23T09:42:12.887648Z",
     "start_time": "2023-04-23T09:42:12.876179Z"
    }
   },
   "outputs": [],
   "source": [
    "DATASET = \"s2s_addition\"\n",
    "SPLIT = \"len_tr8_ts16\"\n",
    "TARGET_ATTN_MAP = [\"scores\", \"scores_before\"]\n",
    "# TARGET_ATTN_MAP = [\"scores_pass\", \"scores_rot\"]\n",
    "TARGET_SCRATCHPAD_CONFIG = \"i1_c1_o1_v1_r1\""
   ]
  },
  {
   "cell_type": "code",
   "execution_count": 20,
   "metadata": {},
   "outputs": [
    {
     "data": {
      "text/plain": [
       "36"
      ]
     },
     "execution_count": 20,
     "metadata": {},
     "output_type": "execute_result"
    }
   ],
   "source": [
    "df = df[(df[\"cfg__dataset.name\"] == DATASET) & (df[\"cfg__dataset.split\"] == SPLIT)]\n",
    "len(df)"
   ]
  },
  {
   "cell_type": "code",
   "execution_count": 12,
   "metadata": {},
   "outputs": [
    {
     "data": {
      "text/plain": [
       "array([256788., 234054., 146317.])"
      ]
     },
     "execution_count": 12,
     "metadata": {},
     "output_type": "execute_result"
    }
   ],
   "source": [
    "df[\"cfg__global_vars.seed\"].unique()"
   ]
  },
  {
   "cell_type": "code",
   "execution_count": 21,
   "metadata": {},
   "outputs": [
    {
     "data": {
      "application/json": {
       "ascii": false,
       "bar_format": null,
       "colour": null,
       "elapsed": 0.006767988204956055,
       "initial": 0,
       "n": 0,
       "ncols": null,
       "nrows": null,
       "postfix": null,
       "prefix": "",
       "rate": null,
       "total": 36,
       "unit": "it",
       "unit_divisor": 1000,
       "unit_scale": false
      },
      "application/vnd.jupyter.widget-view+json": {
       "model_id": "d66b802c29c341c7b807c1e0859e0332",
       "version_major": 2,
       "version_minor": 0
      },
      "text/plain": [
       "  0%|          | 0/36 [00:00<?, ?it/s]"
      ]
     },
     "metadata": {},
     "output_type": "display_data"
    },
    {
     "name": "stdout",
     "output_type": "stream",
     "text": [
      "SKIP 256788.0\n",
      "SKIP 234054.0\n"
     ]
    },
    {
     "data": {
      "application/json": {
       "ascii": false,
       "bar_format": null,
       "colour": null,
       "elapsed": 0.00497746467590332,
       "initial": 0,
       "n": 0,
       "ncols": null,
       "nrows": null,
       "postfix": null,
       "prefix": "Downloading metadata",
       "rate": null,
       "total": 29,
       "unit": "it",
       "unit_divisor": 1000,
       "unit_scale": false
      },
      "application/vnd.jupyter.widget-view+json": {
       "model_id": "6873e4692db9418aad92d6f2d6bd7010",
       "version_major": 2,
       "version_minor": 0
      },
      "text/plain": [
       "Downloading metadata:   0%|          | 0/29 [00:00<?, ?it/s]"
      ]
     },
     "metadata": {},
     "output_type": "display_data"
    },
    {
     "name": "stderr",
     "output_type": "stream",
     "text": [
      "Found cached dataset parquet (/home/mila/a/amirhossein.kazemnejad/.cache/huggingface/datasets/parquet/default-06b76d30fef18109/0.0.0/2a3b91fbd88a2c90d1dbbb32b460cf621d31bd5b05b934492fdef7d8d6f236ec)\n",
      "Found cached dataset parquet (/home/mila/a/amirhossein.kazemnejad/.cache/huggingface/datasets/parquet/default-893efa5c9ec953a8/0.0.0/2a3b91fbd88a2c90d1dbbb32b460cf621d31bd5b05b934492fdef7d8d6f236ec)\n",
      "Found cached dataset parquet (/home/mila/a/amirhossein.kazemnejad/.cache/huggingface/datasets/parquet/default-50f563f03dd5e7bc/0.0.0/2a3b91fbd88a2c90d1dbbb32b460cf621d31bd5b05b934492fdef7d8d6f236ec)\n",
      "Found cached dataset parquet (/home/mila/a/amirhossein.kazemnejad/.cache/huggingface/datasets/parquet/default-df9f2fc40b4ffe6b/0.0.0/2a3b91fbd88a2c90d1dbbb32b460cf621d31bd5b05b934492fdef7d8d6f236ec)\n",
      "Found cached dataset parquet (/home/mila/a/amirhossein.kazemnejad/.cache/huggingface/datasets/parquet/default-f5f86c9fefa452ed/0.0.0/2a3b91fbd88a2c90d1dbbb32b460cf621d31bd5b05b934492fdef7d8d6f236ec)\n",
      "Found cached dataset parquet (/home/mila/a/amirhossein.kazemnejad/.cache/huggingface/datasets/parquet/default-d73dba8d64d1ed85/0.0.0/2a3b91fbd88a2c90d1dbbb32b460cf621d31bd5b05b934492fdef7d8d6f236ec)\n",
      "Found cached dataset parquet (/home/mila/a/amirhossein.kazemnejad/.cache/huggingface/datasets/parquet/default-434a89c0d863df0c/0.0.0/2a3b91fbd88a2c90d1dbbb32b460cf621d31bd5b05b934492fdef7d8d6f236ec)\n",
      "Found cached dataset parquet (/home/mila/a/amirhossein.kazemnejad/.cache/huggingface/datasets/parquet/default-716ef46c9341587e/0.0.0/2a3b91fbd88a2c90d1dbbb32b460cf621d31bd5b05b934492fdef7d8d6f236ec)\n",
      "Found cached dataset parquet (/home/mila/a/amirhossein.kazemnejad/.cache/huggingface/datasets/parquet/default-140b73fc44bdcaf3/0.0.0/2a3b91fbd88a2c90d1dbbb32b460cf621d31bd5b05b934492fdef7d8d6f236ec)\n",
      "Found cached dataset parquet (/home/mila/a/amirhossein.kazemnejad/.cache/huggingface/datasets/parquet/default-61cef0876b5cc73d/0.0.0/2a3b91fbd88a2c90d1dbbb32b460cf621d31bd5b05b934492fdef7d8d6f236ec)\n",
      "Found cached dataset parquet (/home/mila/a/amirhossein.kazemnejad/.cache/huggingface/datasets/parquet/default-d76130f95b4c759e/0.0.0/2a3b91fbd88a2c90d1dbbb32b460cf621d31bd5b05b934492fdef7d8d6f236ec)\n",
      "Found cached dataset parquet (/home/mila/a/amirhossein.kazemnejad/.cache/huggingface/datasets/parquet/default-1db547e3f1570871/0.0.0/2a3b91fbd88a2c90d1dbbb32b460cf621d31bd5b05b934492fdef7d8d6f236ec)\n",
      "Found cached dataset parquet (/home/mila/a/amirhossein.kazemnejad/.cache/huggingface/datasets/parquet/default-186f8c9b699eef5b/0.0.0/2a3b91fbd88a2c90d1dbbb32b460cf621d31bd5b05b934492fdef7d8d6f236ec)\n",
      "Found cached dataset parquet (/home/mila/a/amirhossein.kazemnejad/.cache/huggingface/datasets/parquet/default-3825b4989484f583/0.0.0/2a3b91fbd88a2c90d1dbbb32b460cf621d31bd5b05b934492fdef7d8d6f236ec)\n",
      "Found cached dataset parquet (/home/mila/a/amirhossein.kazemnejad/.cache/huggingface/datasets/parquet/default-dd0b21d705c08f77/0.0.0/2a3b91fbd88a2c90d1dbbb32b460cf621d31bd5b05b934492fdef7d8d6f236ec)\n"
     ]
    },
    {
     "name": "stdout",
     "output_type": "stream",
     "text": [
      "21600\n",
      "Skipped 0/21600 rows\n",
      "Skipping scores_pass\n",
      "Skipping scores_rot\n",
      "Done with 3358800 rows\n",
      "21600\n",
      "Skipped 0/21600 rows\n",
      "Done with 6717600 rows\n",
      "SKIP 234054.0\n",
      "SKIP 256788.0\n",
      "21600\n",
      "Skipped 0/21600 rows\n",
      "21600\n",
      "Skipped 0/21600 rows\n",
      "Done with 13435200 rows\n",
      "SKIP 234054.0\n",
      "SKIP 256788.0\n",
      "SKIP 234054.0\n",
      "SKIP 256788.0\n",
      "21600\n",
      "Skipped 0/21600 rows\n",
      "21600\n",
      "Skipped 0/21600 rows\n",
      "Done with 20152800 rows\n",
      "21600\n",
      "Skipped 0/21600 rows\n",
      "Done with 23511600 rows\n",
      "SKIP 256788.0\n",
      "SKIP 234054.0\n"
     ]
    },
    {
     "data": {
      "text/html": [
       "<div>\n",
       "<style scoped>\n",
       "    .dataframe tbody tr th:only-of-type {\n",
       "        vertical-align: middle;\n",
       "    }\n",
       "\n",
       "    .dataframe tbody tr th {\n",
       "        vertical-align: top;\n",
       "    }\n",
       "\n",
       "    .dataframe thead th {\n",
       "        text-align: right;\n",
       "    }\n",
       "</style>\n",
       "<table border=\"1\" class=\"dataframe\">\n",
       "  <thead>\n",
       "    <tr style=\"text-align: right;\">\n",
       "      <th></th>\n",
       "      <th>scratchpad_config</th>\n",
       "      <th>ds</th>\n",
       "      <th>ds_split</th>\n",
       "      <th>dataset_name</th>\n",
       "      <th>seq_length</th>\n",
       "      <th>pe</th>\n",
       "      <th>attention_map_name</th>\n",
       "      <th>query_idx</th>\n",
       "      <th>max_attn_idx</th>\n",
       "      <th>layer_idx</th>\n",
       "      <th>sample_idx</th>\n",
       "      <th>category</th>\n",
       "      <th>query_region</th>\n",
       "      <th>max_attn_region</th>\n",
       "    </tr>\n",
       "  </thead>\n",
       "  <tbody>\n",
       "    <tr>\n",
       "      <th>0</th>\n",
       "      <td>i0_c1_o1_v0_r0</td>\n",
       "      <td>s2s_sum</td>\n",
       "      <td>len_tr8_ts16</td>\n",
       "      <td>s2s_sum (len_tr8_ts16)</td>\n",
       "      <td>10</td>\n",
       "      <td>Rotary</td>\n",
       "      <td>scores</td>\n",
       "      <td>0</td>\n",
       "      <td>0</td>\n",
       "      <td>0</td>\n",
       "      <td>0</td>\n",
       "      <td>10</td>\n",
       "      <td>input</td>\n",
       "      <td>input</td>\n",
       "    </tr>\n",
       "    <tr>\n",
       "      <th>1</th>\n",
       "      <td>i0_c1_o1_v0_r0</td>\n",
       "      <td>s2s_sum</td>\n",
       "      <td>len_tr8_ts16</td>\n",
       "      <td>s2s_sum (len_tr8_ts16)</td>\n",
       "      <td>10</td>\n",
       "      <td>Rotary</td>\n",
       "      <td>scores</td>\n",
       "      <td>1</td>\n",
       "      <td>0</td>\n",
       "      <td>0</td>\n",
       "      <td>0</td>\n",
       "      <td>10</td>\n",
       "      <td>input</td>\n",
       "      <td>input</td>\n",
       "    </tr>\n",
       "    <tr>\n",
       "      <th>2</th>\n",
       "      <td>i0_c1_o1_v0_r0</td>\n",
       "      <td>s2s_sum</td>\n",
       "      <td>len_tr8_ts16</td>\n",
       "      <td>s2s_sum (len_tr8_ts16)</td>\n",
       "      <td>10</td>\n",
       "      <td>Rotary</td>\n",
       "      <td>scores</td>\n",
       "      <td>2</td>\n",
       "      <td>1</td>\n",
       "      <td>0</td>\n",
       "      <td>0</td>\n",
       "      <td>10</td>\n",
       "      <td>input</td>\n",
       "      <td>input</td>\n",
       "    </tr>\n",
       "    <tr>\n",
       "      <th>3</th>\n",
       "      <td>i0_c1_o1_v0_r0</td>\n",
       "      <td>s2s_sum</td>\n",
       "      <td>len_tr8_ts16</td>\n",
       "      <td>s2s_sum (len_tr8_ts16)</td>\n",
       "      <td>10</td>\n",
       "      <td>Rotary</td>\n",
       "      <td>scores</td>\n",
       "      <td>3</td>\n",
       "      <td>1</td>\n",
       "      <td>0</td>\n",
       "      <td>0</td>\n",
       "      <td>10</td>\n",
       "      <td>input</td>\n",
       "      <td>input</td>\n",
       "    </tr>\n",
       "    <tr>\n",
       "      <th>4</th>\n",
       "      <td>i0_c1_o1_v0_r0</td>\n",
       "      <td>s2s_sum</td>\n",
       "      <td>len_tr8_ts16</td>\n",
       "      <td>s2s_sum (len_tr8_ts16)</td>\n",
       "      <td>10</td>\n",
       "      <td>Rotary</td>\n",
       "      <td>scores</td>\n",
       "      <td>4</td>\n",
       "      <td>2</td>\n",
       "      <td>0</td>\n",
       "      <td>0</td>\n",
       "      <td>10</td>\n",
       "      <td>input</td>\n",
       "      <td>input</td>\n",
       "    </tr>\n",
       "    <tr>\n",
       "      <th>...</th>\n",
       "      <td>...</td>\n",
       "      <td>...</td>\n",
       "      <td>...</td>\n",
       "      <td>...</td>\n",
       "      <td>...</td>\n",
       "      <td>...</td>\n",
       "      <td>...</td>\n",
       "      <td>...</td>\n",
       "      <td>...</td>\n",
       "      <td>...</td>\n",
       "      <td>...</td>\n",
       "      <td>...</td>\n",
       "      <td>...</td>\n",
       "      <td>...</td>\n",
       "    </tr>\n",
       "    <tr>\n",
       "      <th>23511595</th>\n",
       "      <td>i0_c1_o1_v0_r0</td>\n",
       "      <td>s2s_sum</td>\n",
       "      <td>len_tr8_ts16</td>\n",
       "      <td>s2s_sum (len_tr8_ts16)</td>\n",
       "      <td>9</td>\n",
       "      <td>Absolute Sinusoid</td>\n",
       "      <td>scores</td>\n",
       "      <td>150</td>\n",
       "      <td>13</td>\n",
       "      <td>11</td>\n",
       "      <td>9</td>\n",
       "      <td>9</td>\n",
       "      <td>output</td>\n",
       "      <td>input</td>\n",
       "    </tr>\n",
       "    <tr>\n",
       "      <th>23511596</th>\n",
       "      <td>i0_c1_o1_v0_r0</td>\n",
       "      <td>s2s_sum</td>\n",
       "      <td>len_tr8_ts16</td>\n",
       "      <td>s2s_sum (len_tr8_ts16)</td>\n",
       "      <td>9</td>\n",
       "      <td>Absolute Sinusoid</td>\n",
       "      <td>scores</td>\n",
       "      <td>151</td>\n",
       "      <td>135</td>\n",
       "      <td>11</td>\n",
       "      <td>9</td>\n",
       "      <td>9</td>\n",
       "      <td>output</td>\n",
       "      <td>scratchpad</td>\n",
       "    </tr>\n",
       "    <tr>\n",
       "      <th>23511597</th>\n",
       "      <td>i0_c1_o1_v0_r0</td>\n",
       "      <td>s2s_sum</td>\n",
       "      <td>len_tr8_ts16</td>\n",
       "      <td>s2s_sum (len_tr8_ts16)</td>\n",
       "      <td>9</td>\n",
       "      <td>Absolute Sinusoid</td>\n",
       "      <td>scores</td>\n",
       "      <td>152</td>\n",
       "      <td>152</td>\n",
       "      <td>11</td>\n",
       "      <td>9</td>\n",
       "      <td>9</td>\n",
       "      <td>output</td>\n",
       "      <td>output</td>\n",
       "    </tr>\n",
       "    <tr>\n",
       "      <th>23511598</th>\n",
       "      <td>i0_c1_o1_v0_r0</td>\n",
       "      <td>s2s_sum</td>\n",
       "      <td>len_tr8_ts16</td>\n",
       "      <td>s2s_sum (len_tr8_ts16)</td>\n",
       "      <td>9</td>\n",
       "      <td>Absolute Sinusoid</td>\n",
       "      <td>scores</td>\n",
       "      <td>153</td>\n",
       "      <td>146</td>\n",
       "      <td>11</td>\n",
       "      <td>9</td>\n",
       "      <td>9</td>\n",
       "      <td>output</td>\n",
       "      <td>scratchpad</td>\n",
       "    </tr>\n",
       "    <tr>\n",
       "      <th>23511599</th>\n",
       "      <td>i0_c1_o1_v0_r0</td>\n",
       "      <td>s2s_sum</td>\n",
       "      <td>len_tr8_ts16</td>\n",
       "      <td>s2s_sum (len_tr8_ts16)</td>\n",
       "      <td>9</td>\n",
       "      <td>Absolute Sinusoid</td>\n",
       "      <td>scores</td>\n",
       "      <td>154</td>\n",
       "      <td>98</td>\n",
       "      <td>11</td>\n",
       "      <td>9</td>\n",
       "      <td>9</td>\n",
       "      <td>output</td>\n",
       "      <td>scratchpad</td>\n",
       "    </tr>\n",
       "  </tbody>\n",
       "</table>\n",
       "<p>23511600 rows × 14 columns</p>\n",
       "</div>"
      ],
      "text/plain": [
       "         scratchpad_config       ds      ds_split            dataset_name  \\\n",
       "0           i0_c1_o1_v0_r0  s2s_sum  len_tr8_ts16  s2s_sum (len_tr8_ts16)   \n",
       "1           i0_c1_o1_v0_r0  s2s_sum  len_tr8_ts16  s2s_sum (len_tr8_ts16)   \n",
       "2           i0_c1_o1_v0_r0  s2s_sum  len_tr8_ts16  s2s_sum (len_tr8_ts16)   \n",
       "3           i0_c1_o1_v0_r0  s2s_sum  len_tr8_ts16  s2s_sum (len_tr8_ts16)   \n",
       "4           i0_c1_o1_v0_r0  s2s_sum  len_tr8_ts16  s2s_sum (len_tr8_ts16)   \n",
       "...                    ...      ...           ...                     ...   \n",
       "23511595    i0_c1_o1_v0_r0  s2s_sum  len_tr8_ts16  s2s_sum (len_tr8_ts16)   \n",
       "23511596    i0_c1_o1_v0_r0  s2s_sum  len_tr8_ts16  s2s_sum (len_tr8_ts16)   \n",
       "23511597    i0_c1_o1_v0_r0  s2s_sum  len_tr8_ts16  s2s_sum (len_tr8_ts16)   \n",
       "23511598    i0_c1_o1_v0_r0  s2s_sum  len_tr8_ts16  s2s_sum (len_tr8_ts16)   \n",
       "23511599    i0_c1_o1_v0_r0  s2s_sum  len_tr8_ts16  s2s_sum (len_tr8_ts16)   \n",
       "\n",
       "          seq_length                 pe attention_map_name  query_idx  \\\n",
       "0                 10             Rotary             scores          0   \n",
       "1                 10             Rotary             scores          1   \n",
       "2                 10             Rotary             scores          2   \n",
       "3                 10             Rotary             scores          3   \n",
       "4                 10             Rotary             scores          4   \n",
       "...              ...                ...                ...        ...   \n",
       "23511595           9  Absolute Sinusoid             scores        150   \n",
       "23511596           9  Absolute Sinusoid             scores        151   \n",
       "23511597           9  Absolute Sinusoid             scores        152   \n",
       "23511598           9  Absolute Sinusoid             scores        153   \n",
       "23511599           9  Absolute Sinusoid             scores        154   \n",
       "\n",
       "          max_attn_idx  layer_idx  sample_idx  category query_region  \\\n",
       "0                    0          0           0        10        input   \n",
       "1                    0          0           0        10        input   \n",
       "2                    1          0           0        10        input   \n",
       "3                    1          0           0        10        input   \n",
       "4                    2          0           0        10        input   \n",
       "...                ...        ...         ...       ...          ...   \n",
       "23511595            13         11           9         9       output   \n",
       "23511596           135         11           9         9       output   \n",
       "23511597           152         11           9         9       output   \n",
       "23511598           146         11           9         9       output   \n",
       "23511599            98         11           9         9       output   \n",
       "\n",
       "         max_attn_region  \n",
       "0                  input  \n",
       "1                  input  \n",
       "2                  input  \n",
       "3                  input  \n",
       "4                  input  \n",
       "...                  ...  \n",
       "23511595           input  \n",
       "23511596      scratchpad  \n",
       "23511597          output  \n",
       "23511598      scratchpad  \n",
       "23511599      scratchpad  \n",
       "\n",
       "[23511600 rows x 14 columns]"
      ]
     },
     "execution_count": 21,
     "metadata": {},
     "output_type": "execute_result"
    }
   ],
   "source": [
    "scratchpad_config_pattern = re.compile(r\"(.)*_scratchpad(.)+_ufs__(i._c._o._v._r.)_.*___.*\")\n",
    "\n",
    "overall_acc_pattern = re.compile(r\"pred\\/(\\w+)_acc_(.+)\")\n",
    "scratchpad_acc_pattern = re.compile(r\"pred\\/(\\w+)__(\\w+)_(\\w+)\")\n",
    "\n",
    "\n",
    "dataset_cache = {}\n",
    "tok_info_cache = {}\n",
    "\n",
    "wandb_api = wandb_utils.get_wandb_api()\n",
    "analysis_root_dir = Path.home() / \"scratch\" / \"len_gen\" / \"experiments\" / \"attention_analysis_data\"\n",
    "aa_utils = importlib.reload(aa_utils)\n",
    "\n",
    "def find_attention_analysis_runs(group: str):\n",
    "    runs = wandb_api.runs(\n",
    "        f\"{wandb_utils.get_project_name()}\",\n",
    "        filters={\"group\": group, \"jobType\": \"attn_analysis2\"},\n",
    "    )\n",
    "    return list(runs)\n",
    "\n",
    "def get_ds_and_tok_info(run_row, scratchpad_config):\n",
    "    ds_name = run_row[\"cfg__dataset.name\"]\n",
    "    ds_split = run_row[\"cfg__dataset.split\"]\n",
    "    run_seed = str(int(run_row[\"cfg__global_vars.seed\"]))\n",
    "    ds_key = (ds_name, ds_split, scratchpad_config, run_seed)\n",
    "    \n",
    "    if ds_key not in dataset_cache or ds_key not in tok_info_cache:\n",
    "        runs = find_attention_analysis_runs(run_row[\"run_group\"])\n",
    "        assert len(runs) >= 1, \"No runs found\"\n",
    "        # Get the run with the same seed\n",
    "        runs = [r for r in runs if str(int(r.config[\"global_vars\"][\"seed\"])) == run_seed]\n",
    "        assert len(runs) == 1, \"No runs found\"\n",
    "        dataset, tok_info = aa_utils.download_dataset_for_all_categories(runs[0], analysis_root_dir, scratchpad_config, run_seed)\n",
    "        dataset_cache[ds_key] = dataset\n",
    "        tok_info_cache[ds_key] = tok_info\n",
    "    \n",
    "    return dataset_cache[ds_key], tok_info_cache[ds_key]\n",
    "\n",
    "\n",
    "def get_split(key: str) -> str:\n",
    "    if \"test\" in key:\n",
    "        return \"test\"\n",
    "    elif \"valid\" in key:\n",
    "        return \"validation\"\n",
    "    else:\n",
    "        raise ValueError()\n",
    "\n",
    "\n",
    "def get_category(key: str) -> int:\n",
    "    if key == \"overall\":\n",
    "        return -1\n",
    "    if isinstance(key, (int, float)):\n",
    "        return int(key)\n",
    "    if \"-by-\" in key:\n",
    "        a, b = key.split(\"-by-\")\n",
    "        a, b = int(a), int(b)\n",
    "        return max(a, b)\n",
    "    else:\n",
    "        return int(key)\n",
    "\n",
    "\n",
    "output_file_dir = wandb_utils.get_repo_dir() / \"results\" / \"attention_aggr_analysis\"\n",
    "output_file_dir.mkdir(parents=True, exist_ok=True)\n",
    "\n",
    "xdf_data = deque()\n",
    "for i, row in tqdm(df.iterrows(), total=len(df)):\n",
    "    if row[\"job_type\"] != \"attn_analysis_aggr\":\n",
    "        continue\n",
    "\n",
    "    group = row[\"run_group\"]\n",
    "\n",
    "    scratchpad_config = \"no_scratchpad\"\n",
    "    result = scratchpad_config_pattern.search(group)\n",
    "    if result:\n",
    "        scratchpad_config = result.group(3)\n",
    "\n",
    "    if TARGET_SCRATCHPAD_CONFIG is not None and scratchpad_config != TARGET_SCRATCHPAD_CONFIG:\n",
    "        continue\n",
    "\n",
    "    seed = row[\"cfg__global_vars.seed\"]\n",
    "    if int(seed) != 146317:\n",
    "        print(\"SKIP\", seed)\n",
    "        continue\n",
    "    # print(seed)\n",
    "    # raise ValueError(\"STOP\")\n",
    "\n",
    "    dataset_name = row[\"cfg__dataset.name\"]\n",
    "    dataset_split = row[\"cfg__dataset.split\"]\n",
    "    dataset_pretty = wandb_utils.get_pretty_dataset_name(dataset_name, dataset_split)\n",
    "\n",
    "    ds, tok_infos = get_ds_and_tok_info(row, scratchpad_config)\n",
    "\n",
    "    pe_name = wandb_utils.get_pretty_pe_name(row[\"cfg__model.position_encoding_type\"])\n",
    "\n",
    "    run = wandb_api.run(f\"{wandb_utils.get_project_name()}/{row['id']}\")\n",
    "    attention_aggr_files = run.files()\n",
    "\n",
    "    for aggr_file in attention_aggr_files:\n",
    "        if not aggr_file.name.endswith(\".csv\") or not aggr_file.name.startswith(\"max_attn_idx__\"):\n",
    "            continue\n",
    "\n",
    "        attention_map_name = aggr_file.name.replace(\"max_attn_idx__\", \"\").replace(\".csv\", \"\")\n",
    "\n",
    "        if TARGET_ATTN_MAP is not None and attention_map_name not in TARGET_ATTN_MAP:\n",
    "            print(f\"Skipping {attention_map_name}\")\n",
    "            continue\n",
    "\n",
    "        # Download the attention aggr file\n",
    "        download_dir = output_file_dir / f\"{run.id}\"\n",
    "        download_dir.parent.mkdir(parents=True, exist_ok=True)\n",
    "        aggr_file_path =  download_dir/ aggr_file.name\n",
    "        if not aggr_file_path.exists():\n",
    "            aggr_file.download(replace=True, root=download_dir)\n",
    "\n",
    "        aggr_df = pd.read_csv(aggr_file_path)\n",
    "        print(len(aggr_df))\n",
    "\n",
    "        skipped_number = 0\n",
    "        for _, aggr_row in aggr_df.iterrows():\n",
    "            aggr_row = aggr_row.to_dict()\n",
    "            max_attn_idx = aggr_row[\"max_attn_idx\"].split(\"-\")\n",
    "            try:\n",
    "                max_attn_idx = [int(x) for x in max_attn_idx]\n",
    "            except ValueError:\n",
    "                print(aggr_row[\"max_attn_idx\"])\n",
    "                continue\n",
    "            \n",
    "            tok_info = tok_infos[str(aggr_row[\"category\"])][aggr_row[\"sample_idx\"]]\n",
    "\n",
    "            # try:\n",
    "            #     assert len(max_attn_idx) == len(tok_info[\"encoding\"].tokens()), f\"{aggr_row}, {len(max_attn_idx)}, {len(tok_info['encoding'].tokens())}\"\n",
    "            # except AssertionError:\n",
    "            #     print(f\"Skipping {aggr_row['sample_idx']}\")\n",
    "            #     continue\n",
    "\n",
    "            if len(max_attn_idx) != len(tok_info[\"encoding\"].tokens()):\n",
    "                skipped_number += 1\n",
    "                breakpoint()\n",
    "                continue\n",
    "\n",
    "\n",
    "            seq_level_region = tok_info[\"seq_level_region\"]\n",
    "            \n",
    "            for query_idx, idx in enumerate(max_attn_idx):\n",
    "                xdf_data.append({\n",
    "                    \"scratchpad_config\": scratchpad_config,\n",
    "                    \"ds\": dataset_name,\n",
    "                    \"ds_split\": dataset_split,\n",
    "                    \"dataset_name\": dataset_pretty,\n",
    "                    \"seq_length\": get_category(aggr_row[\"category\"]),\n",
    "                    \"pe\": pe_name,\n",
    "                    \"attention_map_name\": attention_map_name,\n",
    "                    \"query_idx\": query_idx,\n",
    "                    \"max_attn_idx\": idx,\n",
    "                    # \"head_idx\": aggr_row[\"head_idx\"],\n",
    "                    \"layer_idx\": aggr_row[\"layer_idx\"],\n",
    "                    \"sample_idx\": aggr_row[\"sample_idx\"],\n",
    "                    \"category\": aggr_row[\"category\"],\n",
    "                    \"query_region\": seq_level_region[query_idx],\n",
    "                    \"max_attn_region\": seq_level_region[idx],\n",
    "                })\n",
    "        \n",
    "        print(f\"Skipped {skipped_number}/{len(aggr_df)} rows\")\n",
    "            \n",
    "    print(f\"Done with {len(xdf_data)} rows\")\n",
    "\n",
    "oxdf = pd.DataFrame.from_records(xdf_data)\n",
    "oxdf"
   ]
  },
  {
   "cell_type": "code",
   "execution_count": 22,
   "metadata": {},
   "outputs": [],
   "source": [
    "del xdf_data"
   ]
  },
  {
   "cell_type": "code",
   "execution_count": 23,
   "metadata": {},
   "outputs": [
    {
     "data": {
      "text/plain": [
       "array(['scores', 'scores_before'], dtype=object)"
      ]
     },
     "execution_count": 23,
     "metadata": {},
     "output_type": "execute_result"
    }
   ],
   "source": [
    "oxdf[\"attention_map_name\"].unique()"
   ]
  },
  {
   "cell_type": "code",
   "execution_count": 24,
   "metadata": {},
   "outputs": [
    {
     "data": {
      "text/plain": [
       "array(['Rotary', 'No PE', \"T5's Relative Bias\", 'ALiBi',\n",
       "       'Absolute Sinusoid'], dtype=object)"
      ]
     },
     "execution_count": 24,
     "metadata": {},
     "output_type": "execute_result"
    }
   ],
   "source": [
    "oxdf[\"pe\"].unique()"
   ]
  },
  {
   "cell_type": "markdown",
   "metadata": {},
   "source": [
    "## Plot Attention Distances Histogram"
   ]
  },
  {
   "cell_type": "code",
   "execution_count": 25,
   "metadata": {},
   "outputs": [
    {
     "data": {
      "text/plain": [
       "16794000"
      ]
     },
     "execution_count": 25,
     "metadata": {},
     "output_type": "execute_result"
    }
   ],
   "source": [
    "xdf = oxdf[oxdf[\"attention_map_name\"] == \"scores\"]\n",
    "len(xdf)"
   ]
  },
  {
   "cell_type": "code",
   "execution_count": 26,
   "metadata": {},
   "outputs": [
    {
     "data": {
      "text/plain": [
       "16794000"
      ]
     },
     "execution_count": 26,
     "metadata": {},
     "output_type": "execute_result"
    }
   ],
   "source": [
    "len(xdf)"
   ]
  },
  {
   "cell_type": "markdown",
   "metadata": {},
   "source": [
    "### Plot histogram for all layers and heads"
   ]
  },
  {
   "cell_type": "code",
   "execution_count": 24,
   "metadata": {},
   "outputs": [
    {
     "name": "stdout",
     "output_type": "stream",
     "text": [
      "1226880\n"
     ]
    },
    {
     "data": {
      "image/png": "[encoded data removed]",
      "text/plain": [
       "<Figure size 500x1000 with 5 Axes>"
      ]
     },
     "metadata": {
      "needs_background": "light"
     },
     "output_type": "display_data"
    },
    {
     "data": {
      "text/plain": [
       "<ggplot: (8786960119034)>"
      ]
     },
     "execution_count": 24,
     "metadata": {},
     "output_type": "execute_result"
    }
   ],
   "source": [
    "import plotnine as p9\n",
    "\n",
    "pdf = xdf\n",
    "\n",
    "assert (pdf[\"query_idx\"] >= pdf[\"max_attn_idx\"]).all()\n",
    "pdf = pdf[pdf[\"seq_length\"] > 8]\n",
    "pdf = pdf[pdf[\"query_region\"] == \"output\"]\n",
    "pdf = pdf[pdf[\"seq_length\"] % 1 == 0]\n",
    "# pdf = pdf[pdf[\"query_idx\"] > 0]\n",
    "pdf[\"distance_frac\"] = (pdf[\"query_idx\"] - pdf[\"max_attn_idx\"]) / (pdf[\"query_idx\"] + 1)\n",
    "print(len(pdf))\n",
    "\n",
    "\n",
    "# pdf = pdf[(pdf[\"seq_length\"] != -1) & (pdf[\"distance_frac\"].isnull() == False)]\n",
    "# pdf[\"scratchpad_config\"] = pdf.apply(\n",
    "#     wandb_utils.df_prettify_scratchpad_config_name, axis=1\n",
    "# )\n",
    "\n",
    "# existing_configs = set(pdf[\"scratchpad_config\"].unique().tolist())\n",
    "# config_order = [\n",
    "#     pe\n",
    "#     for pe in wandb_utils.get_pretty_scratchpad_config_order()\n",
    "#     if pe in existing_configs\n",
    "# ]\n",
    "# print(config_order)\n",
    "# pdf[\"scratchpad_config\"] = pdf[\"scratchpad_config\"].astype(\"category\")\n",
    "# pdf[\"scratchpad_config\"] = pdf[\"scratchpad_config\"].cat.reorder_categories(config_order)\n",
    "\n",
    "# Fix pe names\n",
    "pdf[\"pe\"] = pdf.apply(lambda x: wandb_utils.get_pretty_pe_name(x[\"pe\"]), axis=1)\n",
    "\n",
    "existing_pes = set(pdf[\"pe\"].unique().tolist())\n",
    "pe_order = [pe for pe in wandb_utils.get_pretty_pe_order() if pe in existing_pes]\n",
    "pdf[\"pe\"] = pdf[\"pe\"].astype(\"category\")\n",
    "pdf[\"pe\"] = pdf[\"pe\"].cat.reorder_categories(pe_order)\n",
    "\n",
    "p9u = importlib.reload(p9u)\n",
    "\n",
    "p = (\n",
    "    p9.ggplot(pdf, p9.aes(x=\"distance_frac\", fill=\"pe\", color=\"pe\"))\n",
    "    # + p9.geom_density(alpha=0.2)\n",
    "    + p9.geom_histogram(alpha=0.2, binwidth=0.05, position=\"identity\")\n",
    "    # + p9.annotate(\"rect\", xmin=0, xmax=25, ymin=0, ymax=6, alpha=0.1, fill=\"blue\")\n",
    "    # + p9.annotate(\"text\", x=12, y=5.5, label=\"I.I.D\")\n",
    "#     + p9.scale_x_continuous(breaks=np.arange(7, 17), limits=[7, 14])\n",
    "    + p9.labs(\n",
    "        x=\"(Query Index - Attention Target Index) / (Sequence Length)\",\n",
    "        # y=\"Distance from Query (Normalized over Sequence Length)\",\n",
    "        color=\"Positional Encoding (m) =\",\n",
    "        fill=\"Positional Encoding (m) =\",\n",
    "        # shape=\"Positional Encoding (m) =\",\n",
    "    )\n",
    "    # + p9u.scale_fill_prism(\"FB_bellsprout2\")\n",
    "    # + p9u.scale_color_prism(\"FB_bellsprout2\")\n",
    "    # + p9.theme_minimal()\n",
    "    # + p9.theme(\n",
    "    # + p9.facet_wrap(\"head_idx\", ncol=12)\n",
    "    + p9.facet_wrap(\"pe\", ncol=1)\n",
    "    + p9u.theme_ipsum(grid=\"XY\")\n",
    "    + p9.theme(\n",
    "        #             plot_margin=0,\n",
    "#         text=p9.element_text(size=10),\n",
    "        # legend_box_spacing=0.20,\n",
    "        # legend_position=\"bottom\",\n",
    "        # legend_box=\"vertical\",\n",
    "        figure_size=(5, 10),\n",
    "    )\n",
    ")\n",
    "# p.save(output_dir / f\"avg_all_layers__{DATASET}__{SPLIT}.pdf\")\n",
    "p"
   ]
  },
  {
   "cell_type": "code",
   "execution_count": 28,
   "metadata": {},
   "outputs": [],
   "source": [
    "# Sample xdf for 1M samples with seed = 42\n",
    "xdf2 = xdf.sample(n=1000000, random_state=42)"
   ]
  },
  {
   "cell_type": "code",
   "execution_count": 29,
   "metadata": {},
   "outputs": [
    {
     "data": {
      "text/plain": [
       "1000000"
      ]
     },
     "execution_count": 29,
     "metadata": {},
     "output_type": "execute_result"
    }
   ],
   "source": [
    "len(xdf2)"
   ]
  },
  {
   "cell_type": "code",
   "execution_count": 31,
   "metadata": {},
   "outputs": [],
   "source": [
    "xdf2.to_csv(wandb_utils.get_repo_dir() / \"results\" / f\"attention_distance_{DATASET}_{SPLIT}_{TARGET_SCRATCHPAD_CONFIG}.csv\", index=False)"
   ]
  },
  {
   "cell_type": "code",
   "execution_count": 5,
   "metadata": {
    "ExecuteTime": {
     "end_time": "2023-04-23T09:43:42.317044Z",
     "start_time": "2023-04-23T09:43:39.276889Z"
    }
   },
   "outputs": [
    {
     "data": {
      "text/plain": [
       "1000000"
      ]
     },
     "execution_count": 5,
     "metadata": {},
     "output_type": "execute_result"
    }
   ],
   "source": [
    "xdf2 = pd.read_csv(wandb_utils.get_repo_dir() / \"results\" / f\"attention_distance_{DATASET}_{SPLIT}_{TARGET_SCRATCHPAD_CONFIG}.csv\")\n",
    "len(xdf2)"
   ]
  },
  {
   "cell_type": "code",
   "execution_count": 20,
   "metadata": {
    "ExecuteTime": {
     "end_time": "2023-04-23T09:44:11.285023Z",
     "start_time": "2023-04-23T09:43:59.382755Z"
    }
   },
   "outputs": [
    {
     "name": "stdout",
     "output_type": "stream",
     "text": [
      "681345\n"
     ]
    },
    {
     "name": "stderr",
     "output_type": "stream",
     "text": [
      "/usr/local/miniconda3/envs/comp-gen_v2/lib/python3.9/site-packages/plotnine/ggplot.py:718: PlotnineWarning: Saving 5 x 10 in image.\n",
      "/usr/local/miniconda3/envs/comp-gen_v2/lib/python3.9/site-packages/plotnine/ggplot.py:719: PlotnineWarning: Filename: output_plots/attention_aggr_analysis_final_ind/attended_distance__s2s_addition__len_tr8_ts16_i1_c1_o1_v1_r1.pdf\n"
     ]
    },
    {
     "data": {
      "image/png": "[encoded data removed]",
      "text/plain": [
       "<Figure size 500x1000 with 5 Axes>"
      ]
     },
     "metadata": {},
     "output_type": "display_data"
    },
    {
     "data": {
      "text/plain": [
       "<ggplot: (8786177709846)>"
      ]
     },
     "execution_count": 20,
     "metadata": {},
     "output_type": "execute_result"
    }
   ],
   "source": [
    "import plotnine as p9\n",
    "\n",
    "# pdf = xdf2.copy()\n",
    "pdf = pd.read_csv(\n",
    "    wandb_utils.get_repo_dir() / \"results\" / f\"attention_distance_pdf_{DATASET}_{SPLIT}_{TARGET_SCRATCHPAD_CONFIG}.csv\"\n",
    ")\n",
    "\n",
    "assert (pdf[\"query_idx\"] >= pdf[\"max_attn_idx\"]).all()\n",
    "pdf = pdf[pdf[\"seq_length\"] > 8]\n",
    "pdf = pdf[pdf[\"query_region\"] == \"output\"]\n",
    "pdf = pdf[pdf[\"seq_length\"] % 1 == 0]\n",
    "# pdf = pdf[pdf[\"query_idx\"] > 0]\n",
    "pdf[\"distance_frac\"] = (pdf[\"query_idx\"] - pdf[\"max_attn_idx\"]) / (pdf[\"query_idx\"] + 1)\n",
    "print(len(pdf))\n",
    "\n",
    "\n",
    "# pdf = pdf[(pdf[\"seq_length\"] != -1) & (pdf[\"distance_frac\"].isnull() == False)]\n",
    "# pdf[\"scratchpad_config\"] = pdf.apply(\n",
    "#     wandb_utils.df_prettify_scratchpad_config_name, axis=1\n",
    "# )\n",
    "\n",
    "# existing_configs = set(pdf[\"scratchpad_config\"].unique().tolist())\n",
    "# config_order = [\n",
    "#     pe\n",
    "#     for pe in wandb_utils.get_pretty_scratchpad_config_order()\n",
    "#     if pe in existing_configs\n",
    "# ]\n",
    "# print(config_order)\n",
    "# pdf[\"scratchpad_config\"] = pdf[\"scratchpad_config\"].astype(\"category\")\n",
    "# pdf[\"scratchpad_config\"] = pdf[\"scratchpad_config\"].cat.reorder_categories(config_order)\n",
    "\n",
    "# Fix pe names\n",
    "def fix_nope_name(pe_name):\n",
    "#     if pe_name.lower() == \"no pe\":\n",
    "#         return \"No Position Encoding\"\n",
    "    if pe_name.lower() == \"absolute sinusoid\":\n",
    "        return \"Absolute Position Embedding (APE)\"\n",
    "    if \"T5\" in pe_name:\n",
    "        return \"T5's Relative PE\"\n",
    "    if \"No PE\" in pe_name:\n",
    "        return \"NoPE\"\n",
    "    return pe_name\n",
    "pdf[\"pe\"] = pdf.apply(lambda x: wandb_utils.get_pretty_pe_name(x[\"pe\"]), axis=1)\n",
    "pdf[\"pe\"] = pdf[\"pe\"].apply(fix_nope_name)\n",
    "\n",
    "pdf[\"pe\"] = pdf[\"pe\"].astype(\"category\")\n",
    "pdf[\"pe\"] = pdf[\"pe\"].cat.reorder_categories(\n",
    "    [\"NoPE\", \"T5's Relative PE\", \"ALiBi\", \"Rotary\", \"Absolute Position Embedding (APE)\"]\n",
    ")\n",
    "\n",
    "p9u = importlib.reload(p9u)\n",
    "\n",
    "p = (\n",
    "    p9.ggplot(pdf, p9.aes(x=\"distance_frac\", fill=\"pe\", color=\"pe\"))\n",
    "    + p9.geom_histogram(\n",
    "        alpha=1, \n",
    "        color=\"black\",\n",
    "        size=0.7,\n",
    "        binwidth=0.05, \n",
    "        position=\"identity\"\n",
    "    )\n",
    "#     + p9.geom_density(p9.aes(y=p9.after_stat('count*0.05')), alpha=0.4)\n",
    "#     + p9.geom_density(\n",
    "#         alpha=0.5, \n",
    "#         color=\"black\",\n",
    "#         size=0.7,\n",
    "#         binwidth=0.05, \n",
    "#         position=\"identity\"\n",
    "#     )\n",
    "    # + p9.annotate(\"rect\", xmin=0, xmax=25, ymin=0, ymax=6, alpha=0.1, fill=\"blue\")\n",
    "    # + p9.annotate(\"text\", x=12, y=5.5, label=\"I.I.D\")\n",
    "    + p9.scale_y_continuous(breaks=np.arange(0,90000,35000), limits=(0, 93_000), expand=(0,0))\n",
    "    + p9.labs(\n",
    "        x=r\"Normalized Attended Distance ($\\bar{d}$)\",\n",
    "        y=\"\",\n",
    "        color=\"Positional Encoding (m) =\",\n",
    "        fill=\"Positional Encoding (m) =\",\n",
    "        # shape=\"Positional Encoding (m) =\",\n",
    "    )\n",
    "    # + p9u.scale_fill_prism(\"FB_bellsprout2\")\n",
    "    # + p9u.scale_color_prism(\"FB_bellsprout2\")\n",
    "    # + p9.theme_minimal()\n",
    "    # + p9.theme(\n",
    "    # + p9.facet_wrap(\"head_idx\", ncol=12)\n",
    "    + p9.facet_wrap(\"pe\", ncol=1)\n",
    "    + p9u.scale_fill_prism(\"formal\")\n",
    "    + p9u.scale_color_prism(\"formal\")\n",
    "    + p9u.theme_formal(\n",
    "        base_family=\"Computer Modern Sans serif\",\n",
    "        grid=\"YX\",\n",
    "        base_size=22, axis_text_size=18,\n",
    "    )\n",
    "    + p9.theme(\n",
    "        #             plot_margin=0,\n",
    "#         text=p9.element_text(size=10),\n",
    "        # legend_box_spacing=0.20,\n",
    "        legend_position=\"none\",\n",
    "        # legend_box=\"vertical\",\n",
    "        figure_size=(5, 10),\n",
    "    )\n",
    ")\n",
    "p.save(output_dir / f\"attended_distance__{DATASET}__{SPLIT}_{TARGET_SCRATCHPAD_CONFIG}.pdf\")\n",
    "p"
   ]
  },
  {
   "cell_type": "code",
   "execution_count": 29,
   "metadata": {},
   "outputs": [
    {
     "name": "stdout",
     "output_type": "stream",
     "text": [
      "24164\n"
     ]
    },
    {
     "data": {
      "image/png": "[encoded data removed]",
      "text/plain": [
       "<Figure size 640x480 with 5 Axes>"
      ]
     },
     "metadata": {},
     "output_type": "display_data"
    },
    {
     "data": {
      "text/plain": [
       "<ggplot: (8766277008794)>"
      ]
     },
     "execution_count": 29,
     "metadata": {},
     "output_type": "execute_result"
    }
   ],
   "source": [
    "import plotnine as p9\n",
    "\n",
    "pdf = xdf2.copy()\n",
    "\n",
    "assert (pdf[\"query_idx\"] >= pdf[\"max_attn_idx\"]).all()\n",
    "pdf = pdf[pdf[\"seq_length\"] > 8]\n",
    "pdf = pdf[pdf[\"query_region\"] == \"output\"]\n",
    "pdf = pdf[pdf[\"seq_length\"] % 1 == 0]\n",
    "# pdf = pdf[pdf[\"query_idx\"] > 0]\n",
    "pdf[\"distance_frac\"] = (pdf[\"query_idx\"] - pdf[\"max_attn_idx\"]) / (pdf[\"query_idx\"] + 1)\n",
    "print(len(pdf))\n",
    "\n",
    "\n",
    "# pdf = pdf[(pdf[\"seq_length\"] != -1) & (pdf[\"distance_frac\"].isnull() == False)]\n",
    "# pdf[\"scratchpad_config\"] = pdf.apply(\n",
    "#     wandb_utils.df_prettify_scratchpad_config_name, axis=1\n",
    "# )\n",
    "\n",
    "# existing_configs = set(pdf[\"scratchpad_config\"].unique().tolist())\n",
    "# config_order = [\n",
    "#     pe\n",
    "#     for pe in wandb_utils.get_pretty_scratchpad_config_order()\n",
    "#     if pe in existing_configs\n",
    "# ]\n",
    "# print(config_order)\n",
    "# pdf[\"scratchpad_config\"] = pdf[\"scratchpad_config\"].astype(\"category\")\n",
    "# pdf[\"scratchpad_config\"] = pdf[\"scratchpad_config\"].cat.reorder_categories(config_order)\n",
    "\n",
    "# Fix pe names\n",
    "def fix_nope_name(pe_name):\n",
    "#     if pe_name.lower() == \"no pe\":\n",
    "#         return \"No Position Encoding\"\n",
    "    if pe_name.lower() == \"absolute sinusoid\":\n",
    "        return \"Absolute Position Embedding\"\n",
    "    return pe_name\n",
    "pdf[\"pe\"] = pdf.apply(lambda x: wandb_utils.get_pretty_pe_name(x[\"pe\"]), axis=1)\n",
    "pdf[\"pe\"] = pdf[\"pe\"].apply(fix_nope_name)\n",
    "\n",
    "pdf[\"pe\"] = pdf[\"pe\"].astype(\"category\")\n",
    "pdf[\"pe\"] = pdf[\"pe\"].cat.reorder_categories(\n",
    "    [\"No PE\", \"T5's Relative Bias\", \"ALiBi\", \"Rotary\", \"Absolute Position Embedding\"]\n",
    ")\n",
    "\n",
    "p9u = importlib.reload(p9u)\n",
    "\n",
    "p = (\n",
    "    p9.ggplot(pdf, p9.aes(x=\"distance_frac\", fill=\"pe\", color=\"pe\"))\n",
    "    # + p9.geom_density(alpha=0.2)\n",
    "    + p9.geom_histogram(\n",
    "        alpha=1, \n",
    "        color=\"black\",\n",
    "        size=0.7,\n",
    "        binwidth=0.05, \n",
    "        position=\"identity\"\n",
    "    )\n",
    "    # + p9.annotate(\"rect\", xmin=0, xmax=25, ymin=0, ymax=6, alpha=0.1, fill=\"blue\")\n",
    "    # + p9.annotate(\"text\", x=12, y=5.5, label=\"I.I.D\")\n",
    "    + p9.scale_y_continuous(breaks=np.arange(0,3000,1000),limits=[0, 2700], expand=(0,0))\n",
    "    + p9.labs(\n",
    "        x=\"Attended Distance / Example Length\",\n",
    "        y=\"Count\",\n",
    "        color=\"Positional Encoding (m) =\",\n",
    "        fill=\"Positional Encoding (m) =\",\n",
    "        # shape=\"Positional Encoding (m) =\",\n",
    "    )\n",
    "    # + p9u.scale_fill_prism(\"FB_bellsprout2\")\n",
    "    # + p9u.scale_color_prism(\"FB_bellsprout2\")\n",
    "    # + p9.theme_minimal()\n",
    "    # + p9.theme(\n",
    "    # + p9.facet_wrap(\"head_idx\", ncol=12)\n",
    "    + p9.facet_wrap(\"pe\", ncol=2)\n",
    "    + p9u.scale_fill_prism(\"formal\")\n",
    "    + p9u.scale_color_prism(\"formal\")\n",
    "    + p9u.theme_formal(\n",
    "        base_family=\"Computer Modern Sans serif\",\n",
    "        grid=\"YX\",\n",
    "        base_size=24, axis_text_size=18,\n",
    "    )\n",
    "    + p9.theme(\n",
    "        #             plot_margin=0,\n",
    "#         text=p9.element_text(size=10),\n",
    "        # legend_box_spacing=0.20,\n",
    "        legend_position=\"none\",\n",
    "        # legend_box=\"vertical\",\n",
    "#         figure_size=(20, 5),\n",
    "    )\n",
    ")\n",
    "# p.save(output_dir / f\"avg_all_layers__{DATASET}__{SPLIT}.pdf\")\n",
    "p"
   ]
  },
  {
   "cell_type": "code",
   "execution_count": 25,
   "metadata": {},
   "outputs": [
    {
     "name": "stdout",
     "output_type": "stream",
     "text": [
      "1226880\n"
     ]
    },
    {
     "data": {
      "image/png": "[encoded data removed]",
      "text/plain": [
       "<Figure size 500x1000 with 5 Axes>"
      ]
     },
     "metadata": {
      "needs_background": "light"
     },
     "output_type": "display_data"
    },
    {
     "data": {
      "text/plain": [
       "<ggplot: (8786959993893)>"
      ]
     },
     "execution_count": 25,
     "metadata": {},
     "output_type": "execute_result"
    }
   ],
   "source": [
    "import plotnine as p9\n",
    "\n",
    "pdf = xdf\n",
    "\n",
    "assert (pdf[\"query_idx\"] >= pdf[\"max_attn_idx\"]).all()\n",
    "pdf = pdf[pdf[\"seq_length\"] > 8]\n",
    "pdf = pdf[pdf[\"query_region\"] == \"output\"]\n",
    "pdf = pdf[pdf[\"seq_length\"] % 1 == 0]\n",
    "# pdf = pdf[pdf[\"query_idx\"] > 0]\n",
    "pdf[\"distance_frac\"] = (pdf[\"query_idx\"] - pdf[\"max_attn_idx\"]) / (pdf[\"query_idx\"] + 1)\n",
    "print(len(pdf))\n",
    "\n",
    "\n",
    "# pdf = pdf[(pdf[\"seq_length\"] != -1) & (pdf[\"distance_frac\"].isnull() == False)]\n",
    "# pdf[\"scratchpad_config\"] = pdf.apply(\n",
    "#     wandb_utils.df_prettify_scratchpad_config_name, axis=1\n",
    "# )\n",
    "\n",
    "# existing_configs = set(pdf[\"scratchpad_config\"].unique().tolist())\n",
    "# config_order = [\n",
    "#     pe\n",
    "#     for pe in wandb_utils.get_pretty_scratchpad_config_order()\n",
    "#     if pe in existing_configs\n",
    "# ]\n",
    "# print(config_order)\n",
    "# pdf[\"scratchpad_config\"] = pdf[\"scratchpad_config\"].astype(\"category\")\n",
    "# pdf[\"scratchpad_config\"] = pdf[\"scratchpad_config\"].cat.reorder_categories(config_order)\n",
    "\n",
    "# Fix pe names\n",
    "# pdf[\"pe\"] = pdf.apply(lambda x: wandb_utils.get_pretty_pe_name(x[\"pe\"]), axis=1)\n",
    "\n",
    "# existing_pes = set(pdf[\"pe\"].unique().tolist())\n",
    "# pe_order = [pe for pe in wandb_utils.get_pretty_pe_order() if pe in existing_pes]\n",
    "# pdf[\"pe\"] = pdf[\"pe\"].astype(\"category\")\n",
    "# pdf[\"pe\"] = pdf[\"pe\"].cat.reorder_categories(pe_order)\n",
    "\n",
    "p9u = importlib.reload(p9u)\n",
    "\n",
    "p = (\n",
    "    p9.ggplot(pdf, p9.aes(x=\"max_attn_region\", fill=\"pe\", color=\"pe\"))\n",
    "    # + p9.geom_density(alpha=0.2)\n",
    "    + p9.geom_histogram(alpha=0.2, binwidth=0.05, position=\"identity\")\n",
    "    # + p9.annotate(\"rect\", xmin=0, xmax=25, ymin=0, ymax=6, alpha=0.1, fill=\"blue\")\n",
    "    # + p9.annotate(\"text\", x=12, y=5.5, label=\"I.I.D\")\n",
    "#     + p9.scale_x_continuous(breaks=np.arange(7, 17), limits=[7, 14])\n",
    "    + p9.labs(\n",
    "        x=\"Attented Region\",\n",
    "        # y=\"Distance from Query (Normalized over Sequence Length)\",\n",
    "        color=\"Positional Encoding (m) =\",\n",
    "        fill=\"Positional Encoding (m) =\",\n",
    "        # shape=\"Positional Encoding (m) =\",\n",
    "    )\n",
    "    # + p9u.scale_fill_prism(\"FB_bellsprout2\")\n",
    "    # + p9u.scale_color_prism(\"FB_bellsprout2\")\n",
    "    # + p9.theme_minimal()\n",
    "    # + p9.theme(\n",
    "    # + p9.facet_wrap(\"head_idx\", ncol=12)\n",
    "    + p9.facet_wrap(\"pe\", ncol=1)\n",
    "    + p9u.theme_ipsum(grid=\"XY\")\n",
    "    + p9.theme(\n",
    "        #             plot_margin=0,\n",
    "#         text=p9.element_text(size=10),\n",
    "        # legend_box_spacing=0.20,\n",
    "        # legend_position=\"bottom\",\n",
    "        # legend_box=\"vertical\",\n",
    "        figure_size=(5, 10),\n",
    "    )\n",
    ")\n",
    "# p.save(output_dir / f\"avg_all_layers__{DATASET}__{SPLIT}.pdf\")\n",
    "p"
   ]
  },
  {
   "cell_type": "markdown",
   "metadata": {},
   "source": [
    "## Plot Scores/Distance before/after"
   ]
  },
  {
   "cell_type": "code",
   "execution_count": 13,
   "metadata": {},
   "outputs": [
    {
     "data": {
      "text/plain": [
       "array(['Rotary', 'No PE', \"T5's Relative Bias\", 'ALiBi',\n",
       "       'Absolute Sinusoid'], dtype=object)"
      ]
     },
     "execution_count": 13,
     "metadata": {},
     "output_type": "execute_result"
    }
   ],
   "source": [
    "oxdf[\"pe\"].unique()"
   ]
  },
  {
   "cell_type": "code",
   "execution_count": 14,
   "metadata": {},
   "outputs": [
    {
     "data": {
      "text/plain": [
       "33898176"
      ]
     },
     "execution_count": 14,
     "metadata": {},
     "output_type": "execute_result"
    }
   ],
   "source": [
    "xdf = oxdf[(oxdf[\"pe\"] == \"T5's Relative Bias\") | (oxdf[\"pe\"] == \"ALiBi\")]\n",
    "len(xdf)"
   ]
  },
  {
   "cell_type": "code",
   "execution_count": 15,
   "metadata": {
    "pycharm": {
     "is_executing": true
    }
   },
   "outputs": [
    {
     "name": "stdout",
     "output_type": "stream",
     "text": [
      "981504\n"
     ]
    },
    {
     "data": {
      "image/png": "[encoded data removed]",
      "text/plain": [
       "<Figure size 500x1000 with 4 Axes>"
      ]
     },
     "metadata": {
      "needs_background": "light"
     },
     "output_type": "display_data"
    },
    {
     "data": {
      "text/plain": [
       "<ggplot: (8731012476103)>"
      ]
     },
     "execution_count": 15,
     "metadata": {},
     "output_type": "execute_result"
    }
   ],
   "source": [
    "import plotnine as p9\n",
    "\n",
    "pdf = xdf\n",
    "\n",
    "assert (pdf[\"query_idx\"] >= pdf[\"max_attn_idx\"]).all()\n",
    "pdf = pdf[pdf[\"seq_length\"] > 8]\n",
    "pdf = pdf[pdf[\"query_region\"] == \"output\"]\n",
    "pdf = pdf[pdf[\"seq_length\"] % 1 == 0]\n",
    "# pdf = pdf[pdf[\"query_idx\"] > 0]\n",
    "pdf[\"distance_frac\"] = (pdf[\"query_idx\"] - pdf[\"max_attn_idx\"]) / (pdf[\"query_idx\"] + 1)\n",
    "print(len(pdf))\n",
    "\n",
    "\n",
    "# pdf = pdf[(pdf[\"seq_length\"] != -1) & (pdf[\"distance_frac\"].isnull() == False)]\n",
    "# pdf[\"scratchpad_config\"] = pdf.apply(\n",
    "#     wandb_utils.df_prettify_scratchpad_config_name, axis=1\n",
    "# )\n",
    "\n",
    "# existing_configs = set(pdf[\"scratchpad_config\"].unique().tolist())\n",
    "# config_order = [\n",
    "#     pe\n",
    "#     for pe in wandb_utils.get_pretty_scratchpad_config_order()\n",
    "#     if pe in existing_configs\n",
    "# ]\n",
    "# print(config_order)\n",
    "# pdf[\"scratchpad_config\"] = pdf[\"scratchpad_config\"].astype(\"category\")\n",
    "# pdf[\"scratchpad_config\"] = pdf[\"scratchpad_config\"].cat.reorder_categories(config_order)\n",
    "\n",
    "# Fix pe names\n",
    "pdf[\"pe\"] = pdf.apply(lambda x: wandb_utils.get_pretty_pe_name(x[\"pe\"]), axis=1)\n",
    "\n",
    "existing_pes = set(pdf[\"pe\"].unique().tolist())\n",
    "pe_order = [pe for pe in wandb_utils.get_pretty_pe_order() if pe in existing_pes]\n",
    "pdf[\"pe\"] = pdf[\"pe\"].astype(\"category\")\n",
    "pdf[\"pe\"] = pdf[\"pe\"].cat.reorder_categories(pe_order)\n",
    "\n",
    "p9u = importlib.reload(p9u)\n",
    "\n",
    "p = (\n",
    "    p9.ggplot(pdf, p9.aes(x=\"distance_frac\", fill=\"pe\", color=\"pe\"))\n",
    "    # + p9.geom_density(alpha=0.2)\n",
    "    + p9.geom_histogram(alpha=0.2, binwidth=0.05, position=\"identity\")\n",
    "    # + p9.annotate(\"rect\", xmin=0, xmax=25, ymin=0, ymax=6, alpha=0.1, fill=\"blue\")\n",
    "    # + p9.annotate(\"text\", x=12, y=5.5, label=\"I.I.D\")\n",
    "#     + p9.scale_x_continuous(breaks=np.arange(7, 17), limits=[7, 14])\n",
    "    + p9.labs(\n",
    "        x=\"(Query Index - Attention Target Index) / (Sequence Length)\",\n",
    "        # y=\"Distance from Query (Normalized over Sequence Length)\",\n",
    "        color=\"Positional Encoding (m) =\",\n",
    "        fill=\"Positional Encoding (m) =\",\n",
    "        # shape=\"Positional Encoding (m) =\",\n",
    "    )\n",
    "    # + p9u.scale_fill_prism(\"FB_bellsprout2\")\n",
    "    # + p9u.scale_color_prism(\"FB_bellsprout2\")\n",
    "    # + p9.theme_minimal()\n",
    "    # + p9.theme(\n",
    "    # + p9.facet_wrap(\"head_idx\", ncol=12)\n",
    "    + p9.facet_grid(\"pe~attention_map_name\")\n",
    "    + p9u.theme_ipsum(grid=\"XY\")\n",
    "    + p9.theme(\n",
    "        #             plot_margin=0,\n",
    "#         text=p9.element_text(size=10),\n",
    "        # legend_box_spacing=0.20,\n",
    "        # legend_position=\"bottom\",\n",
    "        # legend_box=\"vertical\",\n",
    "        figure_size=(5, 10),\n",
    "    )\n",
    ")\n",
    "# p.save(output_dir / f\"avg_all_layers__{DATASET}__{SPLIT}.pdf\")\n",
    "p"
   ]
  },
  {
   "cell_type": "markdown",
   "metadata": {},
   "source": [
    "## Plot Rotary content vs Rot. dot product"
   ]
  },
  {
   "cell_type": "code",
   "execution_count": 22,
   "metadata": {},
   "outputs": [
    {
     "data": {
      "text/plain": [
       "array(['Rotary'], dtype=object)"
      ]
     },
     "execution_count": 22,
     "metadata": {},
     "output_type": "execute_result"
    }
   ],
   "source": [
    "oxdf[\"pe\"].unique()"
   ]
  },
  {
   "cell_type": "code",
   "execution_count": 23,
   "metadata": {},
   "outputs": [
    {
     "data": {
      "text/plain": [
       "16949088"
      ]
     },
     "execution_count": 23,
     "metadata": {},
     "output_type": "execute_result"
    }
   ],
   "source": [
    "xdf = oxdf[(oxdf[\"pe\"] == \"Rotary\")]\n",
    "len(xdf)"
   ]
  },
  {
   "cell_type": "code",
   "execution_count": 25,
   "metadata": {},
   "outputs": [
    {
     "name": "stdout",
     "output_type": "stream",
     "text": [
      "490752\n"
     ]
    },
    {
     "data": {
      "image/png": "[encoded data removed]",
      "text/plain": [
       "<Figure size 900x500 with 2 Axes>"
      ]
     },
     "metadata": {
      "needs_background": "light"
     },
     "output_type": "display_data"
    },
    {
     "data": {
      "text/plain": [
       "<ggplot: (8731010032890)>"
      ]
     },
     "execution_count": 25,
     "metadata": {},
     "output_type": "execute_result"
    }
   ],
   "source": [
    "import plotnine as p9\n",
    "\n",
    "pdf = xdf\n",
    "\n",
    "assert (pdf[\"query_idx\"] >= pdf[\"max_attn_idx\"]).all()\n",
    "pdf = pdf[pdf[\"seq_length\"] > 8]\n",
    "pdf = pdf[pdf[\"query_region\"] == \"output\"]\n",
    "pdf = pdf[pdf[\"seq_length\"] % 1 == 0]\n",
    "# pdf = pdf[pdf[\"query_idx\"] > 0]\n",
    "pdf[\"distance_frac\"] = (pdf[\"query_idx\"] - pdf[\"max_attn_idx\"]) / (pdf[\"query_idx\"] + 1)\n",
    "print(len(pdf))\n",
    "\n",
    "\n",
    "# pdf = pdf[(pdf[\"seq_length\"] != -1) & (pdf[\"distance_frac\"].isnull() == False)]\n",
    "# pdf[\"scratchpad_config\"] = pdf.apply(\n",
    "#     wandb_utils.df_prettify_scratchpad_config_name, axis=1\n",
    "# )\n",
    "\n",
    "# existing_configs = set(pdf[\"scratchpad_config\"].unique().tolist())\n",
    "# config_order = [\n",
    "#     pe\n",
    "#     for pe in wandb_utils.get_pretty_scratchpad_config_order()\n",
    "#     if pe in existing_configs\n",
    "# ]\n",
    "# print(config_order)\n",
    "# pdf[\"scratchpad_config\"] = pdf[\"scratchpad_config\"].astype(\"category\")\n",
    "# pdf[\"scratchpad_config\"] = pdf[\"scratchpad_config\"].cat.reorder_categories(config_order)\n",
    "\n",
    "# Fix pe names\n",
    "pdf[\"pe\"] = pdf.apply(lambda x: wandb_utils.get_pretty_pe_name(x[\"pe\"]), axis=1)\n",
    "\n",
    "existing_pes = set(pdf[\"pe\"].unique().tolist())\n",
    "pe_order = [pe for pe in wandb_utils.get_pretty_pe_order() if pe in existing_pes]\n",
    "pdf[\"pe\"] = pdf[\"pe\"].astype(\"category\")\n",
    "pdf[\"pe\"] = pdf[\"pe\"].cat.reorder_categories(pe_order)\n",
    "\n",
    "p9u = importlib.reload(p9u)\n",
    "\n",
    "p = (\n",
    "    p9.ggplot(pdf, p9.aes(x=\"distance_frac\", fill=\"pe\", color=\"pe\"))\n",
    "    # + p9.geom_density(alpha=0.2)\n",
    "    + p9.geom_histogram(alpha=0.2, binwidth=0.05, position=\"identity\")\n",
    "    # + p9.annotate(\"rect\", xmin=0, xmax=25, ymin=0, ymax=6, alpha=0.1, fill=\"blue\")\n",
    "    # + p9.annotate(\"text\", x=12, y=5.5, label=\"I.I.D\")\n",
    "#     + p9.scale_x_continuous(breaks=np.arange(7, 17), limits=[7, 14])\n",
    "    + p9.labs(\n",
    "        x=\"(Query Index - Attention Target Index) / (Sequence Length)\",\n",
    "        # y=\"Distance from Query (Normalized over Sequence Length)\",\n",
    "        color=\"Positional Encoding (m) =\",\n",
    "        fill=\"Positional Encoding (m) =\",\n",
    "        # shape=\"Positional Encoding (m) =\",\n",
    "    )\n",
    "    # + p9u.scale_fill_prism(\"FB_bellsprout2\")\n",
    "    # + p9u.scale_color_prism(\"FB_bellsprout2\")\n",
    "    # + p9.theme_minimal()\n",
    "    # + p9.theme(\n",
    "    # + p9.facet_wrap(\"head_idx\", ncol=12)\n",
    "    + p9.facet_grid(\"pe~attention_map_name\")\n",
    "    + p9u.theme_ipsum(grid=\"XY\")\n",
    "    + p9.theme(\n",
    "        #             plot_margin=0,\n",
    "#         text=p9.element_text(size=10),\n",
    "        # legend_box_spacing=0.20,\n",
    "        # legend_position=\"bottom\",\n",
    "        # legend_box=\"vertical\",\n",
    "        figure_size=(9, 5),\n",
    "    )\n",
    ")\n",
    "# p.save(output_dir / f\"avg_all_layers__{DATASET}__{SPLIT}.pdf\")\n",
    "p"
   ]
  },
  {
   "cell_type": "code",
   "execution_count": null,
   "metadata": {},
   "outputs": [],
   "source": [
    "import plotnine as p9\n",
    "\n",
    "pdf = xdf\n",
    "\n",
    "assert (pdf[\"query_idx\"] >= pdf[\"max_attn_idx\"]).all()\n",
    "pdf = pdf[pdf[\"seq_length\"] > 20]\n",
    "pdf = pdf[pdf[\"query_region\"] == \"output\"]\n",
    "pdf = pdf[pdf[\"seq_length\"] % 2 == 0]\n",
    "# pdf = pdf[pdf[\"query_idx\"] > 0]\n",
    "pdf[\"distance_frac\"] = (pdf[\"query_idx\"] - pdf[\"max_attn_idx\"]) / (pdf[\"query_idx\"] + 1)\n",
    "print(len(pdf))\n",
    "\n",
    "\n",
    "# pdf = pdf[(pdf[\"seq_length\"] != -1) & (pdf[\"distance_frac\"].isnull() == False)]\n",
    "# pdf[\"scratchpad_config\"] = pdf.apply(\n",
    "#     wandb_utils.df_prettify_scratchpad_config_name, axis=1\n",
    "# )\n",
    "\n",
    "# existing_configs = set(pdf[\"scratchpad_config\"].unique().tolist())\n",
    "# config_order = [\n",
    "#     pe\n",
    "#     for pe in wandb_utils.get_pretty_scratchpad_config_order()\n",
    "#     if pe in existing_configs\n",
    "# ]\n",
    "# print(config_order)\n",
    "# pdf[\"scratchpad_config\"] = pdf[\"scratchpad_config\"].astype(\"category\")\n",
    "# pdf[\"scratchpad_config\"] = pdf[\"scratchpad_config\"].cat.reorder_categories(config_order)\n",
    "\n",
    "# Fix pe names\n",
    "# pdf[\"pe\"] = pdf.apply(lambda x: wandb_utils.get_pretty_pe_name(x[\"pe\"]), axis=1)\n",
    "\n",
    "# existing_pes = set(pdf[\"pe\"].unique().tolist())\n",
    "# pe_order = [pe for pe in wandb_utils.get_pretty_pe_order() if pe in existing_pes]\n",
    "# pdf[\"pe\"] = pdf[\"pe\"].astype(\"category\")\n",
    "# pdf[\"pe\"] = pdf[\"pe\"].cat.reorder_categories(pe_order)\n",
    "\n",
    "p9u = importlib.reload(p9u)\n",
    "\n",
    "p = (\n",
    "    p9.ggplot(pdf, p9.aes(x=\"max_\", fill=\"pe\", color=\"pe\"))\n",
    "    # + p9.geom_density(alpha=0.2)\n",
    "    + p9.geom_histogram(alpha=0.2, binwidth=0.05, position=\"identity\")\n",
    "    # + p9.annotate(\"rect\", xmin=0, xmax=25, ymin=0, ymax=6, alpha=0.1, fill=\"blue\")\n",
    "    # + p9.annotate(\"text\", x=12, y=5.5, label=\"I.I.D\")\n",
    "#     + p9.scale_x_continuous(breaks=np.arange(7, 17), limits=[7, 14])\n",
    "    + p9.labs(\n",
    "        x=\"Sequence Length\",\n",
    "        # y=\"Distance from Query (Normalized over Sequence Length)\",\n",
    "        color=\"Positional Encoding (m) =\",\n",
    "        fill=\"Positional Encoding (m) =\",\n",
    "        # shape=\"Positional Encoding (m) =\",\n",
    "    )\n",
    "    # + p9u.scale_fill_prism(\"FB_bellsprout2\")\n",
    "    # + p9u.scale_color_prism(\"FB_bellsprout2\")\n",
    "    # + p9.theme_minimal()\n",
    "    # + p9.theme(\n",
    "    # + p9.facet_wrap(\"head_idx\", ncol=12)\n",
    "    + p9.facet_grid(\"pe~layer_idx\", scales=\"free\")\n",
    "    + p9u.theme_ipsum(grid=\"XY\")\n",
    "    + p9.theme(\n",
    "        #             plot_margin=0,\n",
    "#         text=p9.element_text(size=10),\n",
    "        # legend_box_spacing=0.20,\n",
    "        # legend_position=\"bottom\",\n",
    "        # legend_box=\"vertical\",\n",
    "        figure_size=(20, 20),\n",
    "    )\n",
    ")\n",
    "# p.save(output_dir / f\"avg_all_layers__{DATASET}__{SPLIT}.pdf\")\n",
    "p"
   ]
  },
  {
   "cell_type": "code",
   "execution_count": null,
   "metadata": {},
   "outputs": [],
   "source": [
    "pdf.columns"
   ]
  },
  {
   "cell_type": "code",
   "execution_count": null,
   "metadata": {},
   "outputs": [],
   "source": [
    "import plotnine as p9\n",
    "\n",
    "pdf = xdf\n",
    "\n",
    "\n",
    "pdf = pdf[pdf[\"seq_length\"] > 25]\n",
    "\n",
    "# Take max distance\n",
    "# group_columns = [c for c in pdf.columns if c not in [\"distance_frac\", \"query_idx\", \"max_attn_idx\"]]\n",
    "# pdf = pdf.groupby(group_columns).agg({\"distance_frac\": \"max\"}).reset_index()\n",
    "\n",
    "# pdf = pdf[(pdf[\"seq_length\"] != -1) & (pdf[\"distance_frac\"].isnull() == False)]\n",
    "# pdf[\"scratchpad_config\"] = pdf.apply(\n",
    "#     wandb_utils.df_prettify_scratchpad_config_name, axis=1\n",
    "# )\n",
    "\n",
    "# existing_configs = set(pdf[\"scratchpad_config\"].unique().tolist())\n",
    "# config_order = [\n",
    "#     pe\n",
    "#     for pe in wandb_utils.get_pretty_scratchpad_config_order()\n",
    "#     if pe in existing_configs\n",
    "# ]\n",
    "# print(config_order)\n",
    "# pdf[\"scratchpad_config\"] = pdf[\"scratchpad_config\"].astype(\"category\")\n",
    "# pdf[\"scratchpad_config\"] = pdf[\"scratchpad_config\"].cat.reorder_categories(config_order)\n",
    "\n",
    "# Fix pe names\n",
    "# pdf[\"pe\"] = pdf.apply(lambda x: wandb_utils.get_pretty_pe_name(x[\"pe\"]), axis=1)\n",
    "\n",
    "# existing_pes = set(pdf[\"pe\"].unique().tolist())\n",
    "# pe_order = [pe for pe in wandb_utils.get_pretty_pe_order() if pe in existing_pes]\n",
    "# pdf[\"pe\"] = pdf[\"pe\"].astype(\"category\")\n",
    "# pdf[\"pe\"] = pdf[\"pe\"].cat.reorder_categories(pe_order)\n",
    "\n",
    "p9u = importlib.reload(p9u)\n",
    "\n",
    "p = (\n",
    "    p9.ggplot(pdf, p9.aes(x=\"distance_frac\", fill=\"pe\", color=\"pe\"))\n",
    "    # + p9.geom_density(alpha=0.2)\n",
    "    + p9.geom_histogram(alpha=0.2, binwidth=0.05, position=\"identity\")\n",
    "    # + p9.annotate(\"rect\", xmin=0, xmax=25, ymin=0, ymax=6, alpha=0.1, fill=\"blue\")\n",
    "    # + p9.annotate(\"text\", x=12, y=5.5, label=\"I.I.D\")\n",
    "#     + p9.scale_x_continuous(breaks=np.arange(7, 17), limits=[7, 14])\n",
    "    + p9.labs(\n",
    "        x=\"Sequence Length\",\n",
    "        # y=\"Distance from Query (Normalized over Sequence Length)\",\n",
    "        color=\"Positional Encoding (m) =\",\n",
    "        fill=\"Positional Encoding (m) =\",\n",
    "        # shape=\"Positional Encoding (m) =\",\n",
    "    )\n",
    "    # + p9u.scale_fill_prism(\"FB_bellsprout2\")\n",
    "    # + p9u.scale_color_prism(\"FB_bellsprout2\")\n",
    "    # + p9.theme_minimal()\n",
    "    # + p9.theme(\n",
    "    # + p9.facet_wrap(\"head_idx\", ncol=12)\n",
    "    + p9.facet_grid(\"pe~layer_idx\", scales=\"free\")\n",
    "    + p9u.theme_ipsum(grid=\"XY\")\n",
    "    + p9.theme(\n",
    "        #             plot_margin=0,\n",
    "#         text=p9.element_text(size=10),\n",
    "        # legend_box_spacing=0.20,\n",
    "        # legend_position=\"bottom\",\n",
    "        # legend_box=\"vertical\",\n",
    "        figure_size=(20, 20),\n",
    "    )\n",
    ")\n",
    "# p.save(output_dir / f\"avg_all_layers__{DATASET}__{SPLIT}.pdf\")\n",
    "p"
   ]
  },
  {
   "cell_type": "code",
   "execution_count": null,
   "metadata": {},
   "outputs": [],
   "source": [
    "import plotnine as p9\n",
    "\n",
    "pdf = xdf\n",
    "pdf = pdf[(pdf[\"seq_length\"] != -1) & (pdf[\"kl\"].isnull() == False)]\n",
    "# pdf[\"scratchpad_config\"] = pdf.apply(\n",
    "#     wandb_utils.df_prettify_scratchpad_config_name, axis=1\n",
    "# )\n",
    "\n",
    "# existing_configs = set(pdf[\"scratchpad_config\"].unique().tolist())\n",
    "# config_order = [\n",
    "#     pe\n",
    "#     for pe in wandb_utils.get_pretty_scratchpad_config_order()\n",
    "#     if pe in existing_configs\n",
    "# ]\n",
    "# print(config_order)\n",
    "# pdf[\"scratchpad_config\"] = pdf[\"scratchpad_config\"].astype(\"category\")\n",
    "# pdf[\"scratchpad_config\"] = pdf[\"scratchpad_config\"].cat.reorder_categories(config_order)\n",
    "\n",
    "# Fix pe names\n",
    "# pdf[\"pe\"] = pdf.apply(lambda x: wandb_utils.get_pretty_pe_name(x[\"pe\"]), axis=1)\n",
    "\n",
    "# existing_pes = set(pdf[\"pe\"].unique().tolist())\n",
    "# pe_order = [pe for pe in wandb_utils.get_pretty_pe_order() if pe in existing_pes]\n",
    "# pdf[\"pe\"] = pdf[\"pe\"].astype(\"category\")\n",
    "# pdf[\"pe\"] = pdf[\"pe\"].cat.reorder_categories(pe_order)\n",
    "\n",
    "p9u = importlib.reload(p9u)\n",
    "\n",
    "\n",
    "p = (\n",
    "    p9.ggplot(pdf, p9.aes(x=\"seq_length\", y=\"kl\"))\n",
    "    + p9.geom_line(\n",
    "        mapping=p9.aes(fill=\"pe\", color=\"pe\"),\n",
    "        size=1.1,\n",
    "        # stat=p9.stat_summary(fun_data=\"mean_sdl\", geom=\"geom_line\")\n",
    "        stat=p9.stat_summary(fun_data=\"mean_sdl\", fun_args={\"mult\": 1}),\n",
    "        #             stat=p9.stat_summary(mapping=p9.aes(y=\"output_acc\"), geom=\"geom_line\")\n",
    "    )\n",
    "    + p9.geom_point(\n",
    "        mapping=p9.aes(\n",
    "            fill=\"pe\",\n",
    "            shape=\"pe\",\n",
    "        ),\n",
    "        size=3.0,\n",
    "        stat=p9.stat_summary(fun_data=\"mean_sdl\", fun_args={\"mult\": 1}),\n",
    "        alpha=0.6,\n",
    "    )\n",
    "    + p9.geom_ribbon(\n",
    "        p9.aes(ymin=p9.after_stat(\"ymin\"), ymax=p9.after_stat(\"ymax\"), fill=\"pe\"),\n",
    "        alpha=0.2,\n",
    "        stat=\"summary\",\n",
    "#         stat=p9.stat_summary(fun_data=\"mean_sdl\", fun_args={\"mult\": 1}),\n",
    "    )\n",
    "    + p9.annotate(\"rect\", xmin=0, xmax=25, ymin=0, ymax=15, alpha=0.1, fill=\"blue\")\n",
    "    + p9.annotate(\"text\", x=12, y=14, label=\"I.I.D\")\n",
    "    + p9.facet_wrap(\"scratchpad_config\", ncol=3)\n",
    "#     + p9.scale_x_continuous(breaks=np.arange(7, 17), limits=[7, 14])\n",
    "    + p9.labs(\n",
    "        x=\"Sequence Length\",\n",
    "        y=\"KL < p(NoPE) | p(m) >\",\n",
    "        color=\"Positional Encoding (m) =\",\n",
    "        fill=\"Positional Encoding (m) =\",\n",
    "        shape=\"Positional Encoding (m) =\",\n",
    "    )\n",
    "    # + p9u.scale_fill_prism(\"FB_bellsprout2\")\n",
    "    # + p9u.scale_color_prism(\"FB_bellsprout2\")\n",
    "#     + p9.theme_minimal()\n",
    "    + p9u.theme_ipsum(grid=\"XY\", base_family=\"Times New Roman\", axis_title_size=12, axis_text_size=12)\n",
    "    + p9.theme(\n",
    "        #             plot_margin=0,\n",
    "#         text=p9.element_text(size=10),\n",
    "        # legend_box_spacing=0.20,\n",
    "        # legend_position=\"bottom\",\n",
    "        # legend_box=\"vertical\",\n",
    "        figure_size=(8, 4),\n",
    "    )\n",
    ")\n",
    "p.save(output_dir / f\"avg_all_layers_all_heads__{DATASET}__{SPLIT}.pdf\")\n",
    "p"
   ]
  },
  {
   "cell_type": "markdown",
   "metadata": {},
   "source": [
    "### Per layer"
   ]
  },
  {
   "cell_type": "code",
   "execution_count": null,
   "metadata": {},
   "outputs": [],
   "source": [
    "import plotnine as p9\n",
    "\n",
    "pdf = opdf\n",
    "pdf = pdf[(pdf[\"seq_length\"] != -1) & (pdf[\"kl\"].isnull() == False)]\n",
    "pdf[\"scratchpad_config\"] = pdf.apply(\n",
    "    wandb_utils.df_prettify_scratchpad_config_name, axis=1\n",
    ")\n",
    "\n",
    "existing_configs = set(pdf[\"scratchpad_config\"].unique().tolist())\n",
    "config_order = [\n",
    "    pe\n",
    "    for pe in wandb_utils.get_pretty_scratchpad_config_order()\n",
    "    if pe in existing_configs\n",
    "]\n",
    "print(config_order)\n",
    "pdf[\"scratchpad_config\"] = pdf[\"scratchpad_config\"].astype(\"category\")\n",
    "pdf[\"scratchpad_config\"] = pdf[\"scratchpad_config\"].cat.reorder_categories(config_order)\n",
    "\n",
    "# Fix pe names\n",
    "pdf[\"pe\"] = pdf.apply(lambda x: wandb_utils.get_pretty_pe_name(x[\"pe\"]), axis=1)\n",
    "\n",
    "existing_pes = set(pdf[\"pe\"].unique().tolist())\n",
    "pe_order = [pe for pe in wandb_utils.get_pretty_pe_order() if pe in existing_pes]\n",
    "pdf[\"pe\"] = pdf[\"pe\"].astype(\"category\")\n",
    "pdf[\"pe\"] = pdf[\"pe\"].cat.reorder_categories(pe_order)\n",
    "\n",
    "p9u = importlib.reload(p9u)\n",
    "\n",
    "\n",
    "p = (\n",
    "    p9.ggplot(pdf, p9.aes(x=\"seq_length\", y=\"kl\"))\n",
    "    + p9.geom_line(\n",
    "        mapping=p9.aes(fill=\"pe\", color=\"pe\"),\n",
    "        size=1.1,\n",
    "        # stat=p9.stat_summary(fun_data=\"mean_sdl\", geom=\"geom_line\")\n",
    "        stat=p9.stat_summary(fun_data=\"mean_sdl\", fun_args={\"mult\": 1}),\n",
    "        #             stat=p9.stat_summary(mapping=p9.aes(y=\"output_acc\"), geom=\"geom_line\")\n",
    "    )\n",
    "#     + p9.geom_point(\n",
    "#         mapping=p9.aes(\n",
    "#             fill=\"pe\",\n",
    "#             shape=\"pe\",\n",
    "#         ),\n",
    "#         size=3.0,\n",
    "#         stat=p9.stat_summary(fun_data=\"mean_sdl\", fun_args={\"mult\": 1}),\n",
    "#         alpha=0.6,\n",
    "#     )\n",
    "    + p9.geom_ribbon(\n",
    "        p9.aes(ymin=p9.after_stat(\"ymin\"), ymax=p9.after_stat(\"ymax\"), fill=\"pe\"),\n",
    "        alpha=0.2,\n",
    "        stat=\"summary\",\n",
    "#         stat=p9.stat_summary(fun_data=\"mean_sdl\", fun_args={\"mult\": 1}),\n",
    "    )\n",
    "    + p9.annotate(\"rect\", xmin=0, xmax=25, ymin=0, ymax=6, alpha=0.1, fill=\"blue\")\n",
    "    + p9.annotate(\"text\", x=12, y=5.5, label=\"I.I.D\")\n",
    "    + p9.facet_wrap(\"layer_idx\", ncol=3)\n",
    "#     + p9.scale_x_continuous(breaks=np.arange(7, 17), limits=[7, 14])\n",
    "    + p9.labs(\n",
    "        x=\"Sequence Length\",\n",
    "        y=\"KL < p(NoPE) | p(m) >\",\n",
    "        color=\"Positional Encoding (m) =\",\n",
    "        fill=\"Positional Encoding (m) =\",\n",
    "        shape=\"Positional Encoding (m) =\",\n",
    "    )\n",
    "    # + p9u.scale_fill_prism(\"FB_bellsprout2\")\n",
    "    # + p9u.scale_color_prism(\"FB_bellsprout2\")\n",
    "#     + p9.theme_minimal()\n",
    "    + p9u.theme_ipsum(grid=\"XY\", base_family=\"Times New Roman\", axis_title_size=12, axis_text_size=12)\n",
    "    + p9.theme(\n",
    "        #             plot_margin=0,\n",
    "#         text=p9.element_text(size=10),\n",
    "        # legend_box_spacing=0.20,\n",
    "        # legend_position=\"bottom\",\n",
    "        # legend_box=\"vertical\",\n",
    "        figure_size=(13, 8),\n",
    "    )\n",
    ")\n",
    "p.save(output_dir / f\"per_layer__{DATASET}__{SPLIT}.pdf\")\n",
    "p"
   ]
  }
 ],
 "metadata": {
  "kernelspec": {
   "display_name": "Python 3 (ipykernel)",
   "language": "python",
   "name": "python3"
  },
  "language_info": {
   "codemirror_mode": {
    "name": "ipython",
    "version": 3
   },
   "file_extension": ".py",
   "mimetype": "text/x-python",
   "name": "python",
   "nbconvert_exporter": "python",
   "pygments_lexer": "ipython3",
   "version": "3.9.7"
  }
 },
 "nbformat": 4,
 "nbformat_minor": 1
}
