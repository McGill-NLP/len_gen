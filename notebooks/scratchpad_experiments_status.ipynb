{
 "cells": [
  {
   "cell_type": "markdown",
   "metadata": {},
   "source": [
    "# Check the status of uploaded experiments"
   ]
  },
  {
   "cell_type": "markdown",
   "metadata": {},
   "source": [
    "## Prerequisites"
   ]
  },
  {
   "cell_type": "code",
   "execution_count": 31,
   "metadata": {},
   "outputs": [],
   "source": [
    "import datetime\n",
    "import importlib\n",
    "import re\n",
    "from tqdm import tqdm\n",
    "\n",
    "import plotnine as p9\n",
    "\n",
    "import pandas as pd\n",
    "\n",
    "from utils import add_src_to_sys_path\n",
    "\n",
    "add_src_to_sys_path()\n",
    "\n",
    "from common import wandb_utils, nest\n",
    "\n",
    "wandb_utils = importlib.reload(wandb_utils)"
   ]
  },
  {
   "cell_type": "markdown",
   "metadata": {},
   "source": [
    "## Load the experiments"
   ]
  },
  {
   "cell_type": "code",
   "execution_count": 32,
   "metadata": {},
   "outputs": [],
   "source": [
    "wandb_api = wandb_utils.get_wandb_api()"
   ]
  },
  {
   "cell_type": "code",
   "execution_count": 33,
   "metadata": {},
   "outputs": [
    {
     "data": {
      "text/plain": "1682"
     },
     "execution_count": 33,
     "metadata": {},
     "output_type": "execute_result"
    }
   ],
   "source": [
    "# Filter runs by tags and exclude runs with job_type \"attn\"\n",
    "runs = wandb_api.runs(\n",
    "    f\"{wandb_utils.get_entity_name()}/{wandb_utils.get_project_name()}\",\n",
    "    filters={\n",
    "        \"tags\": {\n",
    "            \"$in\": [\"scratchpad_f\", \"classic\", \"sanity_check\"]\n",
    "        },\n",
    "        \"jobType\": {\n",
    "            \"$nin\": [\"attn_analysis2\", \"attn_analysis\", \"attn_analysis_aggr\", \"attn_analysis_kl\"]\n",
    "        }\n",
    "    }\n",
    ")\n",
    "\n",
    "runs = list(runs)\n",
    "len(runs)"
   ]
  },
  {
   "cell_type": "code",
   "execution_count": 34,
   "metadata": {},
   "outputs": [],
   "source": [
    "manually_checked_to_be_complete = {\n",
    "    \"sw_16381da468a2f32100a5a050ca713ba7__146317\",\n",
    "    \"sw_844b3f59c315724dd2b6d10f911423f4__256788\",\n",
    "    \"sw_1cf333ff3ac676ce168f7ed166e63dfc__234054\",\n",
    "    \"sw_2b0f996045d25630bb36a80512ad82fa__146317\",\n",
    "    \"sw_be00a87994aa75aef0e45b7f7714ac53__146317\",\n",
    "    \"sw_2d57a9b60c34a380d3f1eeeb8b422815__146317\",\n",
    "    \"sw_c28163735f1365dbaf814749d4a26006__146317\",\n",
    "}"
   ]
  },
  {
   "cell_type": "code",
   "execution_count": 35,
   "metadata": {},
   "outputs": [
    {
     "name": "stderr",
     "output_type": "stream",
     "text": [
      "  0%|          | 4/1682 [00:00<03:40,  7.60it/s]"
     ]
    },
    {
     "name": "stdout",
     "output_type": "stream",
     "text": [
      "Not enough train steps\n",
      "Not enough train steps\n"
     ]
    },
    {
     "name": "stderr",
     "output_type": "stream",
     "text": [
      "  0%|          | 6/1682 [00:00<03:36,  7.75it/s]"
     ]
    },
    {
     "name": "stdout",
     "output_type": "stream",
     "text": [
      "Not enough train steps\n"
     ]
    },
    {
     "name": "stderr",
     "output_type": "stream",
     "text": [
      "  0%|          | 8/1682 [00:01<03:34,  7.80it/s]"
     ]
    },
    {
     "name": "stdout",
     "output_type": "stream",
     "text": [
      "Not enough train steps\n"
     ]
    },
    {
     "name": "stderr",
     "output_type": "stream",
     "text": [
      "  1%|          | 14/1682 [00:01<03:37,  7.65it/s]"
     ]
    },
    {
     "name": "stdout",
     "output_type": "stream",
     "text": [
      "Not enough train steps\n"
     ]
    },
    {
     "name": "stderr",
     "output_type": "stream",
     "text": [
      "  1%|          | 16/1682 [00:02<03:29,  7.96it/s]"
     ]
    },
    {
     "name": "stdout",
     "output_type": "stream",
     "text": [
      "Not enough train steps\n"
     ]
    },
    {
     "name": "stderr",
     "output_type": "stream",
     "text": [
      "  1%|          | 19/1682 [00:02<03:33,  7.80it/s]"
     ]
    },
    {
     "name": "stdout",
     "output_type": "stream",
     "text": [
      "sw_e532563b3d08da34875206511360dbe3__146317 SW-t5_dec_base_pe_abs_sin_w_scratchpad_f_ufs__i1_c1_o1_v0_r1_s2s_sum_sweep___data-s2s_sum-len_tr8_ts16\n",
      "no eval results\n"
     ]
    },
    {
     "name": "stderr",
     "output_type": "stream",
     "text": [
      "  1%|▏         | 22/1682 [00:02<03:32,  7.83it/s]"
     ]
    },
    {
     "name": "stdout",
     "output_type": "stream",
     "text": [
      "Not enough train steps\n"
     ]
    },
    {
     "name": "stderr",
     "output_type": "stream",
     "text": [
      "  2%|▏         | 27/1682 [00:03<03:47,  7.28it/s]"
     ]
    },
    {
     "name": "stdout",
     "output_type": "stream",
     "text": [
      "Not enough train steps\n"
     ]
    },
    {
     "name": "stderr",
     "output_type": "stream",
     "text": [
      "  2%|▏         | 32/1682 [00:04<03:40,  7.48it/s]"
     ]
    },
    {
     "name": "stdout",
     "output_type": "stream",
     "text": [
      "Not enough train steps\n",
      "Not enough train steps\n"
     ]
    },
    {
     "name": "stderr",
     "output_type": "stream",
     "text": [
      "  2%|▏         | 34/1682 [00:04<03:38,  7.56it/s]"
     ]
    },
    {
     "name": "stdout",
     "output_type": "stream",
     "text": [
      "Not enough train steps\n"
     ]
    },
    {
     "name": "stderr",
     "output_type": "stream",
     "text": [
      "  2%|▏         | 37/1682 [00:04<03:38,  7.52it/s]"
     ]
    },
    {
     "name": "stdout",
     "output_type": "stream",
     "text": [
      "Not enough train steps\n",
      "sw_d01283fc18bdd9b11f48796543b0899a__146317 SW-t5_dec_base_pe_alibi_w_scratchpad_f_ufs__i1_c1_o1_v0_r1_s2s_sum_sweep___data-s2s_sum-len_tr8_ts16\n",
      "no eval results\n"
     ]
    },
    {
     "name": "stderr",
     "output_type": "stream",
     "text": [
      "  2%|▏         | 42/1682 [00:05<03:40,  7.44it/s]"
     ]
    },
    {
     "name": "stdout",
     "output_type": "stream",
     "text": [
      "Not enough train steps\n",
      "Not enough train steps\n"
     ]
    },
    {
     "name": "stderr",
     "output_type": "stream",
     "text": [
      "  3%|▎         | 46/1682 [00:06<03:41,  7.40it/s]"
     ]
    },
    {
     "name": "stdout",
     "output_type": "stream",
     "text": [
      "Not enough train steps\n"
     ]
    },
    {
     "name": "stderr",
     "output_type": "stream",
     "text": [
      "  3%|▎         | 52/1682 [00:06<03:26,  7.88it/s]"
     ]
    },
    {
     "name": "stdout",
     "output_type": "stream",
     "text": [
      "Not enough train steps\n",
      "Not enough train steps\n"
     ]
    },
    {
     "name": "stderr",
     "output_type": "stream",
     "text": [
      "  3%|▎         | 54/1682 [00:07<03:20,  8.11it/s]"
     ]
    },
    {
     "name": "stdout",
     "output_type": "stream",
     "text": [
      "Not enough train steps\n"
     ]
    },
    {
     "name": "stderr",
     "output_type": "stream",
     "text": [
      "  4%|▎         | 60/1682 [00:07<03:34,  7.57it/s]"
     ]
    },
    {
     "name": "stdout",
     "output_type": "stream",
     "text": [
      "Not enough train steps\n"
     ]
    },
    {
     "name": "stderr",
     "output_type": "stream",
     "text": [
      "  4%|▍         | 64/1682 [00:08<04:06,  6.56it/s]"
     ]
    },
    {
     "name": "stdout",
     "output_type": "stream",
     "text": [
      "sw_a62383120826ac1dfd973fd78242ae47__146317 SW-t5_dec_base_pe_t5_w_scratchpad_f_ufs__i1_c1_o1_v1_r1_s2s_poly_sweep___data-s2s_poly-n_terms_tr8_ts16\n",
      "no eval results\n"
     ]
    },
    {
     "name": "stderr",
     "output_type": "stream",
     "text": [
      "  5%|▍         | 79/1682 [00:10<03:30,  7.62it/s]"
     ]
    },
    {
     "name": "stdout",
     "output_type": "stream",
     "text": [
      "Not enough train steps\n",
      "Not enough train steps\n"
     ]
    },
    {
     "name": "stderr",
     "output_type": "stream",
     "text": [
      "  5%|▌         | 90/1682 [00:11<03:27,  7.66it/s]"
     ]
    },
    {
     "name": "stdout",
     "output_type": "stream",
     "text": [
      "Not enough train steps\n"
     ]
    },
    {
     "name": "stderr",
     "output_type": "stream",
     "text": [
      "  6%|▌         | 101/1682 [00:13<03:32,  7.44it/s]"
     ]
    },
    {
     "name": "stdout",
     "output_type": "stream",
     "text": [
      "sw_5526d06b812e57b22a66429a28bce828__146317 SW-t5_dec_base_pe_none_w_scratchpad_f_ufs__i1_c1_o1_v0_r1_s2s_sum_sweep___data-s2s_sum-len_tr8_ts16\n",
      "no eval results\n"
     ]
    },
    {
     "name": "stderr",
     "output_type": "stream",
     "text": [
      " 23%|██▎       | 387/1682 [00:24<01:00, 21.37it/s] "
     ]
    },
    {
     "name": "stdout",
     "output_type": "stream",
     "text": [
      "sw_3c3b9a4177f9b77d1e3f716ea802c8f9__146317 SW-t5_dec_base_pe_alibi_w_scratchpad_f_ufs__i0_c1_o1_v0_r1_s2s_lego_sweep___data-s2s_lego-len_tr8_ts16\n",
      "no eval results\n"
     ]
    },
    {
     "name": "stderr",
     "output_type": "stream",
     "text": [
      " 29%|██▊       | 483/1682 [00:32<00:56, 21.14it/s]"
     ]
    },
    {
     "name": "stdout",
     "output_type": "stream",
     "text": [
      "sw_e50a8b3960a10d2b8f9ff9744727d853__234054 SW-t5_dec_base_pe_none_w_scratchpad_f_ufs__i1_c1_o1_v0_r1_s2s_lego_sweep___data-s2s_lego-len_tr8_ts16\n",
      "no eval results\n"
     ]
    },
    {
     "name": "stderr",
     "output_type": "stream",
     "text": [
      " 29%|██▉       | 494/1682 [00:33<01:15, 15.71it/s]"
     ]
    },
    {
     "name": "stdout",
     "output_type": "stream",
     "text": [
      "sw_a06c80d5a23c38b743f34c33b1c6874a__146317 SW-t5_dec_base_pe_none_w_scratchpad_f_ufs__i1_c1_o0_v0_r1_s2s_lego_sweep___data-s2s_lego-len_tr8_ts16\n",
      "no eval results\n"
     ]
    },
    {
     "name": "stderr",
     "output_type": "stream",
     "text": [
      " 34%|███▍      | 569/1682 [00:44<02:41,  6.89it/s]"
     ]
    },
    {
     "name": "stdout",
     "output_type": "stream",
     "text": [
      "sw_98854403c39bd43c75450b7d733135a4__234054 SW-t5_dec_base_pe_t5_w_scratchpad_f_ufs__i1_c1_o1_v0_r1_s2s_lego_sweep___data-s2s_lego-len_tr8_ts16\n",
      "no eval results\n"
     ]
    },
    {
     "name": "stderr",
     "output_type": "stream",
     "text": [
      " 38%|███▊      | 636/1682 [00:48<00:13, 76.74it/s]"
     ]
    },
    {
     "name": "stdout",
     "output_type": "stream",
     "text": [
      "Not enough train steps\n"
     ]
    },
    {
     "name": "stderr",
     "output_type": "stream",
     "text": [
      " 66%|██████▌   | 1113/1682 [01:26<01:13,  7.79it/s]"
     ]
    },
    {
     "name": "stdout",
     "output_type": "stream",
     "text": [
      "Not enough train steps\n"
     ]
    },
    {
     "name": "stderr",
     "output_type": "stream",
     "text": [
      "100%|██████████| 1682/1682 [02:17<00:00, 12.19it/s] \n"
     ]
    }
   ],
   "source": [
    "def get_model_name(group_str: str) -> str:\n",
    "    pe_names = [\"pe_none\", \"pe_t5\", \"pe_abs_sin\", \"pe_alibi\", \"pe_rotary\", \"pe_newRot\"]\n",
    "    for pe in pe_names:\n",
    "        if pe in group_str:\n",
    "            return pe\n",
    "    raise ValueError(\"Invalid pe\")\n",
    "\n",
    "def get_launcher(run) -> str:\n",
    "    if run.job_type == \"agent\":\n",
    "        return run.id\n",
    "\n",
    "    launcher_tag = [t for t in run.tags if t.startswith(\"launched_by_\")][0]\n",
    "    return launcher_tag.split(\"launched_by_\")[1]\n",
    "\n",
    "\n",
    "def check_runs_generated_by_launcher_id(launcher_id: str) -> None:\n",
    "    l_runs = wandb_api.runs(\n",
    "        f\"{wandb_utils.get_entity_name()}/{wandb_utils.get_project_name()}\",\n",
    "        filters={\n",
    "            \"tags\": {\n",
    "                \"$in\": [\"launched_by_\" + launcher_id]\n",
    "            }\n",
    "        }\n",
    "    )\n",
    "\n",
    "    l_runs = list(l_runs)\n",
    "\n",
    "    for run in l_runs:\n",
    "        if run.job_type == \"agent\":\n",
    "            continue\n",
    "        print(run.id, run.state, run.job_type, run.group, run.tags)\n",
    "        is_complete = is_run_complete(run)\n",
    "        print(is_complete)\n",
    "        print()\n",
    "\n",
    "\n",
    "def is_run_complete(run) -> bool:\n",
    "    if run.id in manually_checked_to_be_complete:\n",
    "        return True\n",
    "\n",
    "    # Assert training is done\n",
    "    try:\n",
    "        max_steps = run.config[\"trainer\"][\"max_steps\"]\n",
    "    except Exception as e:\n",
    "        print(\"Could not get max_steps\")\n",
    "        return False\n",
    "\n",
    "    h = run.history(samples=500, keys=[\"train/loss\"], x_axis=\"train/global_step\")\n",
    "    if h is None or len(h) == 0:\n",
    "        print(run.id, run.group)\n",
    "        print(\"Not enough train summary\")\n",
    "        return False\n",
    "    last_step = max(h[\"train/global_step\"].tolist())\n",
    "\n",
    "    if abs(last_step - max_steps) > 0.01 * max_steps:\n",
    "        print(\"Not enough train steps\")\n",
    "        return False\n",
    "\n",
    "    # Assert validation is done\n",
    "    if (\n",
    "        \"pred/test_acc_overall\" not in run.summary\n",
    "        or run.summary[\"pred/test_acc_overall\"] is None\n",
    "    ):\n",
    "        # h = run.history(keys=[\"pred/test_acc_overall\"])\n",
    "        # if h is None or len(h) == 0:\n",
    "        #     return False\n",
    "        print(run.id, run.group)\n",
    "        print(\"no eval results\")\n",
    "        return False\n",
    "\n",
    "    return True\n",
    "\n",
    "df_data = []\n",
    "\n",
    "scratchpad_config_pattern = re.compile(r\"(.)*_scratchpad(.)+_ufs__(i._c._o._v._r.)_.*___.*\")\n",
    "dataset_name_pattern = re.compile(f\".*___data-(.+)-(.+)\")\n",
    "\n",
    "for run in tqdm(runs):\n",
    "    group = run.group\n",
    "\n",
    "    if \"attn\" in run.job_type:\n",
    "        continue\n",
    "\n",
    "    if \"data-sum\" in run.group:\n",
    "        continue\n",
    "\n",
    "    scratchpad_config = \"no_scratchpad\"\n",
    "    result = scratchpad_config_pattern.search(group)\n",
    "    if result:\n",
    "        scratchpad_config = result.group(3)\n",
    "\n",
    "    result = dataset_name_pattern.search(group)\n",
    "    dataset_name = result.group(1)\n",
    "    dataset_split = result.group(2)\n",
    "    dataset_comb = f\"{dataset_name}--{dataset_split}\"\n",
    "\n",
    "    model_name = get_model_name(group)\n",
    "\n",
    "    if run.job_type == \"agent\":\n",
    "        is_complete = True\n",
    "    else:\n",
    "        is_complete = is_run_complete(run)\n",
    "\n",
    "    df_data.append({\n",
    "        \"run_group\": group,\n",
    "        \"job_type\": run.job_type,\n",
    "        \"launcher_id\": get_launcher(run),\n",
    "        \"ds_name\": dataset_name,\n",
    "        \"ds_split\": dataset_split,\n",
    "        \"ds\": dataset_comb,\n",
    "        \"scratchpad_config\": scratchpad_config,\n",
    "        \"model\": model_name,\n",
    "        \"is_complete\": is_complete,\n",
    "        \"state\": run.state,\n",
    "        \"id\": run.id,\n",
    "        \"gr_url\": f\"https://wandb.ai/kzmnjd/len_gen/groups/{group}\",\n",
    "        \"run_url\": run.url,\n",
    "        \"created_at\": run.created_at,\n",
    "        \"host\": run.host,\n",
    "    })\n",
    "\n",
    "df = pd.DataFrame.from_records(df_data)\n",
    "# df"
   ]
  },
  {
   "cell_type": "code",
   "execution_count": 36,
   "metadata": {},
   "outputs": [],
   "source": [
    "def get_compute_cluster(host: str):\n",
    "    if \"cedar\" in host:\n",
    "        return \"cc_cedar\"\n",
    "    elif \"narval\" in host:\n",
    "        return \"cc_narval\"\n",
    "    elif host.startswith(\"cn-\"):\n",
    "        return \"mila\"\n",
    "    else:\n",
    "        return \"unknown\"\n",
    "\n",
    "\n",
    "def get_grouped_df(gdf):\n",
    "    seed_runs = gdf[gdf.job_type == \"best_run_seed_exp\"]\n",
    "    completed = len(seed_runs[seed_runs.is_complete == True])\n",
    "    is_running = \"running\" in gdf.state.unique().tolist()\n",
    "    group_url = gdf.gr_url.tolist()[0]\n",
    "    host = seed_runs.host.tolist()[0] if len(seed_runs) > 0 else \"unknown\"\n",
    "    launcher_ids = gdf[gdf.job_type == \"agent\"][[\"launcher_id\", \"created_at\"]]\n",
    "    launcher_ids = [tuple(x) for x in launcher_ids.values]\n",
    "    launcher_ids.sort(key=lambda x: datetime.datetime.fromisoformat(x[1]), reverse=True)\n",
    "    launcher_id = launcher_ids[0][0]\n",
    "\n",
    "    return pd.DataFrame.from_records([{\n",
    "        \"num_completed\": completed,\n",
    "        \"num_seed_runs\": len(seed_runs),\n",
    "        \"is_running\": is_running,\n",
    "        \"is_done\": completed >= 3,\n",
    "        \"launcher_id\": launcher_id,\n",
    "        \"compute_cluster\": get_compute_cluster(host),\n",
    "        \"group_url\": group_url\n",
    "    }])\n"
   ]
  },
  {
   "cell_type": "code",
   "execution_count": 37,
   "metadata": {},
   "outputs": [
    {
     "data": {
      "text/plain": "                                                      num_completed  \\\nds                    model      scratchpad_config                    \npcfg--md_productivity pe_abs_sin no_scratchpad     0              3   \n                      pe_alibi   no_scratchpad     0              3   \n                      pe_none    no_scratchpad     0              3   \n                      pe_rotary  no_scratchpad     0              3   \n                      pe_t5      no_scratchpad     0              3   \n...                                                             ...   \nscan--mdlen_tr25_ts48 pe_abs_sin no_scratchpad     0              3   \n                      pe_alibi   no_scratchpad     0              3   \n                      pe_none    no_scratchpad     0              3   \n                      pe_rotary  no_scratchpad     0              3   \n                      pe_t5      no_scratchpad     0              3   \n\n                                                      num_seed_runs  \\\nds                    model      scratchpad_config                    \npcfg--md_productivity pe_abs_sin no_scratchpad     0              3   \n                      pe_alibi   no_scratchpad     0              3   \n                      pe_none    no_scratchpad     0              3   \n                      pe_rotary  no_scratchpad     0              3   \n                      pe_t5      no_scratchpad     0              3   \n...                                                             ...   \nscan--mdlen_tr25_ts48 pe_abs_sin no_scratchpad     0              3   \n                      pe_alibi   no_scratchpad     0              3   \n                      pe_none    no_scratchpad     0              3   \n                      pe_rotary  no_scratchpad     0              3   \n                      pe_t5      no_scratchpad     0              3   \n\n                                                      is_running  is_done  \\\nds                    model      scratchpad_config                          \npcfg--md_productivity pe_abs_sin no_scratchpad     0       False     True   \n                      pe_alibi   no_scratchpad     0       False     True   \n                      pe_none    no_scratchpad     0       False     True   \n                      pe_rotary  no_scratchpad     0       False     True   \n                      pe_t5      no_scratchpad     0       False     True   \n...                                                          ...      ...   \nscan--mdlen_tr25_ts48 pe_abs_sin no_scratchpad     0       False     True   \n                      pe_alibi   no_scratchpad     0       False     True   \n                      pe_none    no_scratchpad     0       False     True   \n                      pe_rotary  no_scratchpad     0       False     True   \n                      pe_t5      no_scratchpad     0       False     True   \n\n                                                     launcher_id  \\\nds                    model      scratchpad_config                 \npcfg--md_productivity pe_abs_sin no_scratchpad     0    3b27nkwi   \n                      pe_alibi   no_scratchpad     0    27mrtr6a   \n                      pe_none    no_scratchpad     0    3fknk7pc   \n                      pe_rotary  no_scratchpad     0    bqoo8hoo   \n                      pe_t5      no_scratchpad     0    26twvle0   \n...                                                          ...   \nscan--mdlen_tr25_ts48 pe_abs_sin no_scratchpad     0    1ehwwpb8   \n                      pe_alibi   no_scratchpad     0    bz3encpc   \n                      pe_none    no_scratchpad     0    2hkw4ihx   \n                      pe_rotary  no_scratchpad     0    3m5ikkv2   \n                      pe_t5      no_scratchpad     0    3ro3qgno   \n\n                                                     compute_cluster  \\\nds                    model      scratchpad_config                     \npcfg--md_productivity pe_abs_sin no_scratchpad     0       cc_narval   \n                      pe_alibi   no_scratchpad     0       cc_narval   \n                      pe_none    no_scratchpad     0       cc_narval   \n                      pe_rotary  no_scratchpad     0       cc_narval   \n                      pe_t5      no_scratchpad     0       cc_narval   \n...                                                              ...   \nscan--mdlen_tr25_ts48 pe_abs_sin no_scratchpad     0        cc_cedar   \n                      pe_alibi   no_scratchpad     0        cc_cedar   \n                      pe_none    no_scratchpad     0        cc_cedar   \n                      pe_rotary  no_scratchpad     0        cc_cedar   \n                      pe_t5      no_scratchpad     0        cc_cedar   \n\n                                                                                              group_url  \nds                    model      scratchpad_config                                                       \npcfg--md_productivity pe_abs_sin no_scratchpad     0  https://wandb.ai/kzmnjd/len_gen/groups/SW-t5_d...  \n                      pe_alibi   no_scratchpad     0  https://wandb.ai/kzmnjd/len_gen/groups/SW-t5_d...  \n                      pe_none    no_scratchpad     0  https://wandb.ai/kzmnjd/len_gen/groups/SW-t5_d...  \n                      pe_rotary  no_scratchpad     0  https://wandb.ai/kzmnjd/len_gen/groups/SW-t5_d...  \n                      pe_t5      no_scratchpad     0  https://wandb.ai/kzmnjd/len_gen/groups/SW-t5_d...  \n...                                                                                                 ...  \nscan--mdlen_tr25_ts48 pe_abs_sin no_scratchpad     0  https://wandb.ai/kzmnjd/len_gen/groups/SW-t5_d...  \n                      pe_alibi   no_scratchpad     0  https://wandb.ai/kzmnjd/len_gen/groups/SW-t5_d...  \n                      pe_none    no_scratchpad     0  https://wandb.ai/kzmnjd/len_gen/groups/SW-t5_d...  \n                      pe_rotary  no_scratchpad     0  https://wandb.ai/kzmnjd/len_gen/groups/SW-t5_d...  \n                      pe_t5      no_scratchpad     0  https://wandb.ai/kzmnjd/len_gen/groups/SW-t5_d...  \n\n[334 rows x 7 columns]",
      "text/html": "<div>\n<style scoped>\n    .dataframe tbody tr th:only-of-type {\n        vertical-align: middle;\n    }\n\n    .dataframe tbody tr th {\n        vertical-align: top;\n    }\n\n    .dataframe thead th {\n        text-align: right;\n    }\n</style>\n<table border=\"1\" class=\"dataframe\">\n  <thead>\n    <tr style=\"text-align: right;\">\n      <th></th>\n      <th></th>\n      <th></th>\n      <th></th>\n      <th>num_completed</th>\n      <th>num_seed_runs</th>\n      <th>is_running</th>\n      <th>is_done</th>\n      <th>launcher_id</th>\n      <th>compute_cluster</th>\n      <th>group_url</th>\n    </tr>\n    <tr>\n      <th>ds</th>\n      <th>model</th>\n      <th>scratchpad_config</th>\n      <th></th>\n      <th></th>\n      <th></th>\n      <th></th>\n      <th></th>\n      <th></th>\n      <th></th>\n      <th></th>\n    </tr>\n  </thead>\n  <tbody>\n    <tr>\n      <th rowspan=\"5\" valign=\"top\">pcfg--md_productivity</th>\n      <th>pe_abs_sin</th>\n      <th>no_scratchpad</th>\n      <th>0</th>\n      <td>3</td>\n      <td>3</td>\n      <td>False</td>\n      <td>True</td>\n      <td>3b27nkwi</td>\n      <td>cc_narval</td>\n      <td>https://wandb.ai/kzmnjd/len_gen/groups/SW-t5_d...</td>\n    </tr>\n    <tr>\n      <th>pe_alibi</th>\n      <th>no_scratchpad</th>\n      <th>0</th>\n      <td>3</td>\n      <td>3</td>\n      <td>False</td>\n      <td>True</td>\n      <td>27mrtr6a</td>\n      <td>cc_narval</td>\n      <td>https://wandb.ai/kzmnjd/len_gen/groups/SW-t5_d...</td>\n    </tr>\n    <tr>\n      <th>pe_none</th>\n      <th>no_scratchpad</th>\n      <th>0</th>\n      <td>3</td>\n      <td>3</td>\n      <td>False</td>\n      <td>True</td>\n      <td>3fknk7pc</td>\n      <td>cc_narval</td>\n      <td>https://wandb.ai/kzmnjd/len_gen/groups/SW-t5_d...</td>\n    </tr>\n    <tr>\n      <th>pe_rotary</th>\n      <th>no_scratchpad</th>\n      <th>0</th>\n      <td>3</td>\n      <td>3</td>\n      <td>False</td>\n      <td>True</td>\n      <td>bqoo8hoo</td>\n      <td>cc_narval</td>\n      <td>https://wandb.ai/kzmnjd/len_gen/groups/SW-t5_d...</td>\n    </tr>\n    <tr>\n      <th>pe_t5</th>\n      <th>no_scratchpad</th>\n      <th>0</th>\n      <td>3</td>\n      <td>3</td>\n      <td>False</td>\n      <td>True</td>\n      <td>26twvle0</td>\n      <td>cc_narval</td>\n      <td>https://wandb.ai/kzmnjd/len_gen/groups/SW-t5_d...</td>\n    </tr>\n    <tr>\n      <th>...</th>\n      <th>...</th>\n      <th>...</th>\n      <th>...</th>\n      <td>...</td>\n      <td>...</td>\n      <td>...</td>\n      <td>...</td>\n      <td>...</td>\n      <td>...</td>\n      <td>...</td>\n    </tr>\n    <tr>\n      <th rowspan=\"5\" valign=\"top\">scan--mdlen_tr25_ts48</th>\n      <th>pe_abs_sin</th>\n      <th>no_scratchpad</th>\n      <th>0</th>\n      <td>3</td>\n      <td>3</td>\n      <td>False</td>\n      <td>True</td>\n      <td>1ehwwpb8</td>\n      <td>cc_cedar</td>\n      <td>https://wandb.ai/kzmnjd/len_gen/groups/SW-t5_d...</td>\n    </tr>\n    <tr>\n      <th>pe_alibi</th>\n      <th>no_scratchpad</th>\n      <th>0</th>\n      <td>3</td>\n      <td>3</td>\n      <td>False</td>\n      <td>True</td>\n      <td>bz3encpc</td>\n      <td>cc_cedar</td>\n      <td>https://wandb.ai/kzmnjd/len_gen/groups/SW-t5_d...</td>\n    </tr>\n    <tr>\n      <th>pe_none</th>\n      <th>no_scratchpad</th>\n      <th>0</th>\n      <td>3</td>\n      <td>3</td>\n      <td>False</td>\n      <td>True</td>\n      <td>2hkw4ihx</td>\n      <td>cc_cedar</td>\n      <td>https://wandb.ai/kzmnjd/len_gen/groups/SW-t5_d...</td>\n    </tr>\n    <tr>\n      <th>pe_rotary</th>\n      <th>no_scratchpad</th>\n      <th>0</th>\n      <td>3</td>\n      <td>3</td>\n      <td>False</td>\n      <td>True</td>\n      <td>3m5ikkv2</td>\n      <td>cc_cedar</td>\n      <td>https://wandb.ai/kzmnjd/len_gen/groups/SW-t5_d...</td>\n    </tr>\n    <tr>\n      <th>pe_t5</th>\n      <th>no_scratchpad</th>\n      <th>0</th>\n      <td>3</td>\n      <td>3</td>\n      <td>False</td>\n      <td>True</td>\n      <td>3ro3qgno</td>\n      <td>cc_cedar</td>\n      <td>https://wandb.ai/kzmnjd/len_gen/groups/SW-t5_d...</td>\n    </tr>\n  </tbody>\n</table>\n<p>334 rows × 7 columns</p>\n</div>"
     },
     "execution_count": 37,
     "metadata": {},
     "output_type": "execute_result"
    }
   ],
   "source": [
    "xdf = df.groupby([\"ds\", \"model\", \"scratchpad_config\"]).apply(get_grouped_df)\n",
    "xdf"
   ]
  },
  {
   "cell_type": "code",
   "execution_count": 38,
   "metadata": {},
   "outputs": [
    {
     "data": {
      "text/plain": "                                                            num_completed  \\\nds                          model      scratchpad_config                    \ns2s_addition--len_tr8_ts16  pe_t5      i0_c1_o0_v0_r0    0              0   \ns2s_lego--len_tr8_ts16      pe_alibi   i0_c1_o1_v0_r1    0              2   \n                            pe_none    i1_c1_o0_v0_r1    0              2   \n                                       i1_c1_o1_v0_r1    0              1   \n                            pe_t5      i1_c1_o1_v0_r1    0              1   \ns2s_parity--len_tr8_ts16    pe_abs_sin i0_c1_o1_v1_r1    0              2   \ns2s_sort--len_mltd_tr8_ts16 pe_none    no_scratchpad     0              2   \ns2s_sum--len_tr8_ts16       pe_abs_sin i0_c1_o1_v1_r1    0              2   \n                                       i1_c1_o0_v1_r1    0              2   \n                                       i1_c1_o1_v0_r1    0              2   \n                                       i1_c1_o1_v1_r1    0              2   \n                            pe_alibi   i0_c1_o1_v1_r1    0              2   \n                                       i1_c1_o0_v1_r1    0              2   \n                                       i1_c1_o1_v0_r1    0              2   \n                                       i1_c1_o1_v1_r0    0              2   \n                                       i1_c1_o1_v1_r1    0              2   \n                            pe_none    i0_c1_o1_v1_r1    0              2   \n                                       i1_c0_o1_v1_r1    0              2   \n                                       i1_c1_o0_v1_r1    0              2   \n                                       i1_c1_o1_v0_r1    0              2   \n                                       i1_c1_o1_v1_r0    0              2   \n                                       i1_c1_o1_v1_r1    0              2   \n                            pe_rotary  i0_c1_o1_v1_r1    0              1   \n                                       i1_c0_o1_v1_r1    0              1   \n                                       i1_c1_o0_v1_r1    0              1   \n                                       i1_c1_o1_v0_r1    0              1   \n                                       i1_c1_o1_v1_r0    0              1   \n                                       i1_c1_o1_v1_r1    0              1   \n                            pe_t5      i0_c1_o1_v1_r1    0              2   \n                                       i1_c0_o1_v1_r1    0              2   \n                                       i1_c1_o0_v1_r1    0              2   \n                                       i1_c1_o1_v1_r0    0              2   \n                                       i1_c1_o1_v1_r1    0              2   \n\n                                                            num_seed_runs  \\\nds                          model      scratchpad_config                    \ns2s_addition--len_tr8_ts16  pe_t5      i0_c1_o0_v0_r0    0              0   \ns2s_lego--len_tr8_ts16      pe_alibi   i0_c1_o1_v0_r1    0              3   \n                            pe_none    i1_c1_o0_v0_r1    0              3   \n                                       i1_c1_o1_v0_r1    0              2   \n                            pe_t5      i1_c1_o1_v0_r1    0              2   \ns2s_parity--len_tr8_ts16    pe_abs_sin i0_c1_o1_v1_r1    0              3   \ns2s_sort--len_mltd_tr8_ts16 pe_none    no_scratchpad     0              3   \ns2s_sum--len_tr8_ts16       pe_abs_sin i0_c1_o1_v1_r1    0              3   \n                                       i1_c1_o0_v1_r1    0              3   \n                                       i1_c1_o1_v0_r1    0              3   \n                                       i1_c1_o1_v1_r1    0              2   \n                            pe_alibi   i0_c1_o1_v1_r1    0              3   \n                                       i1_c1_o0_v1_r1    0              3   \n                                       i1_c1_o1_v0_r1    0              3   \n                                       i1_c1_o1_v1_r0    0              3   \n                                       i1_c1_o1_v1_r1    0              3   \n                            pe_none    i0_c1_o1_v1_r1    0              3   \n                                       i1_c0_o1_v1_r1    0              3   \n                                       i1_c1_o0_v1_r1    0              3   \n                                       i1_c1_o1_v0_r1    0              3   \n                                       i1_c1_o1_v1_r0    0              3   \n                                       i1_c1_o1_v1_r1    0              3   \n                            pe_rotary  i0_c1_o1_v1_r1    0              2   \n                                       i1_c0_o1_v1_r1    0              2   \n                                       i1_c1_o0_v1_r1    0              2   \n                                       i1_c1_o1_v0_r1    0              2   \n                                       i1_c1_o1_v1_r0    0              2   \n                                       i1_c1_o1_v1_r1    0              2   \n                            pe_t5      i0_c1_o1_v1_r1    0              3   \n                                       i1_c0_o1_v1_r1    0              3   \n                                       i1_c1_o0_v1_r1    0              3   \n                                       i1_c1_o1_v1_r0    0              3   \n                                       i1_c1_o1_v1_r1    0              3   \n\n                                                            is_running  \\\nds                          model      scratchpad_config                 \ns2s_addition--len_tr8_ts16  pe_t5      i0_c1_o0_v0_r0    0       False   \ns2s_lego--len_tr8_ts16      pe_alibi   i0_c1_o1_v0_r1    0       False   \n                            pe_none    i1_c1_o0_v0_r1    0       False   \n                                       i1_c1_o1_v0_r1    0       False   \n                            pe_t5      i1_c1_o1_v0_r1    0       False   \ns2s_parity--len_tr8_ts16    pe_abs_sin i0_c1_o1_v1_r1    0       False   \ns2s_sort--len_mltd_tr8_ts16 pe_none    no_scratchpad     0       False   \ns2s_sum--len_tr8_ts16       pe_abs_sin i0_c1_o1_v1_r1    0       False   \n                                       i1_c1_o0_v1_r1    0       False   \n                                       i1_c1_o1_v0_r1    0       False   \n                                       i1_c1_o1_v1_r1    0       False   \n                            pe_alibi   i0_c1_o1_v1_r1    0       False   \n                                       i1_c1_o0_v1_r1    0       False   \n                                       i1_c1_o1_v0_r1    0       False   \n                                       i1_c1_o1_v1_r0    0       False   \n                                       i1_c1_o1_v1_r1    0       False   \n                            pe_none    i0_c1_o1_v1_r1    0       False   \n                                       i1_c0_o1_v1_r1    0       False   \n                                       i1_c1_o0_v1_r1    0       False   \n                                       i1_c1_o1_v0_r1    0       False   \n                                       i1_c1_o1_v1_r0    0       False   \n                                       i1_c1_o1_v1_r1    0       False   \n                            pe_rotary  i0_c1_o1_v1_r1    0       False   \n                                       i1_c0_o1_v1_r1    0       False   \n                                       i1_c1_o0_v1_r1    0       False   \n                                       i1_c1_o1_v0_r1    0       False   \n                                       i1_c1_o1_v1_r0    0       False   \n                                       i1_c1_o1_v1_r1    0       False   \n                            pe_t5      i0_c1_o1_v1_r1    0       False   \n                                       i1_c0_o1_v1_r1    0       False   \n                                       i1_c1_o0_v1_r1    0       False   \n                                       i1_c1_o1_v1_r0    0       False   \n                                       i1_c1_o1_v1_r1    0       False   \n\n                                                            is_done  \\\nds                          model      scratchpad_config              \ns2s_addition--len_tr8_ts16  pe_t5      i0_c1_o0_v0_r0    0    False   \ns2s_lego--len_tr8_ts16      pe_alibi   i0_c1_o1_v0_r1    0    False   \n                            pe_none    i1_c1_o0_v0_r1    0    False   \n                                       i1_c1_o1_v0_r1    0    False   \n                            pe_t5      i1_c1_o1_v0_r1    0    False   \ns2s_parity--len_tr8_ts16    pe_abs_sin i0_c1_o1_v1_r1    0    False   \ns2s_sort--len_mltd_tr8_ts16 pe_none    no_scratchpad     0    False   \ns2s_sum--len_tr8_ts16       pe_abs_sin i0_c1_o1_v1_r1    0    False   \n                                       i1_c1_o0_v1_r1    0    False   \n                                       i1_c1_o1_v0_r1    0    False   \n                                       i1_c1_o1_v1_r1    0    False   \n                            pe_alibi   i0_c1_o1_v1_r1    0    False   \n                                       i1_c1_o0_v1_r1    0    False   \n                                       i1_c1_o1_v0_r1    0    False   \n                                       i1_c1_o1_v1_r0    0    False   \n                                       i1_c1_o1_v1_r1    0    False   \n                            pe_none    i0_c1_o1_v1_r1    0    False   \n                                       i1_c0_o1_v1_r1    0    False   \n                                       i1_c1_o0_v1_r1    0    False   \n                                       i1_c1_o1_v0_r1    0    False   \n                                       i1_c1_o1_v1_r0    0    False   \n                                       i1_c1_o1_v1_r1    0    False   \n                            pe_rotary  i0_c1_o1_v1_r1    0    False   \n                                       i1_c0_o1_v1_r1    0    False   \n                                       i1_c1_o0_v1_r1    0    False   \n                                       i1_c1_o1_v0_r1    0    False   \n                                       i1_c1_o1_v1_r0    0    False   \n                                       i1_c1_o1_v1_r1    0    False   \n                            pe_t5      i0_c1_o1_v1_r1    0    False   \n                                       i1_c0_o1_v1_r1    0    False   \n                                       i1_c1_o0_v1_r1    0    False   \n                                       i1_c1_o1_v1_r0    0    False   \n                                       i1_c1_o1_v1_r1    0    False   \n\n                                                           launcher_id  \\\nds                          model      scratchpad_config                 \ns2s_addition--len_tr8_ts16  pe_t5      i0_c1_o0_v0_r0    0    3us2b1d1   \ns2s_lego--len_tr8_ts16      pe_alibi   i0_c1_o1_v0_r1    0    3ouq1a35   \n                            pe_none    i1_c1_o0_v0_r1    0    109rqrb2   \n                                       i1_c1_o1_v0_r1    0    1v5plya4   \n                            pe_t5      i1_c1_o1_v0_r1    0    3qdlk42y   \ns2s_parity--len_tr8_ts16    pe_abs_sin i0_c1_o1_v1_r1    0    1fybhbbv   \ns2s_sort--len_mltd_tr8_ts16 pe_none    no_scratchpad     0    24zxjmuq   \ns2s_sum--len_tr8_ts16       pe_abs_sin i0_c1_o1_v1_r1    0    dhkv433g   \n                                       i1_c1_o0_v1_r1    0    1t48e7ri   \n                                       i1_c1_o1_v0_r1    0    kpv1psor   \n                                       i1_c1_o1_v1_r1    0    2zxi0drp   \n                            pe_alibi   i0_c1_o1_v1_r1    0    3oy5xl7g   \n                                       i1_c1_o0_v1_r1    0    2v5046ap   \n                                       i1_c1_o1_v0_r1    0    1q6u0r8k   \n                                       i1_c1_o1_v1_r0    0    1o9wodwf   \n                                       i1_c1_o1_v1_r1    0    2orfp9ex   \n                            pe_none    i0_c1_o1_v1_r1    0    34okt8zw   \n                                       i1_c0_o1_v1_r1    0    3oej5j3x   \n                                       i1_c1_o0_v1_r1    0    1t65w0yn   \n                                       i1_c1_o1_v0_r1    0    17ny9q1s   \n                                       i1_c1_o1_v1_r0    0    1z8c9b89   \n                                       i1_c1_o1_v1_r1    0    1duxbvmn   \n                            pe_rotary  i0_c1_o1_v1_r1    0    1dfb168m   \n                                       i1_c0_o1_v1_r1    0    rm49clp6   \n                                       i1_c1_o0_v1_r1    0    mr1mfn5q   \n                                       i1_c1_o1_v0_r1    0    wqm246yg   \n                                       i1_c1_o1_v1_r0    0    3sz82ouy   \n                                       i1_c1_o1_v1_r1    0    33uhnexb   \n                            pe_t5      i0_c1_o1_v1_r1    0    1hyk3zp7   \n                                       i1_c0_o1_v1_r1    0    h3c2to7e   \n                                       i1_c1_o0_v1_r1    0    zpmf5ojm   \n                                       i1_c1_o1_v1_r0    0    39auwr78   \n                                       i1_c1_o1_v1_r1    0    188vipfr   \n\n                                                           compute_cluster  \\\nds                          model      scratchpad_config                     \ns2s_addition--len_tr8_ts16  pe_t5      i0_c1_o0_v0_r0    0         unknown   \ns2s_lego--len_tr8_ts16      pe_alibi   i0_c1_o1_v0_r1    0            mila   \n                            pe_none    i1_c1_o0_v0_r1    0            mila   \n                                       i1_c1_o1_v0_r1    0            mila   \n                            pe_t5      i1_c1_o1_v0_r1    0            mila   \ns2s_parity--len_tr8_ts16    pe_abs_sin i0_c1_o1_v1_r1    0       cc_narval   \ns2s_sort--len_mltd_tr8_ts16 pe_none    no_scratchpad     0        cc_cedar   \ns2s_sum--len_tr8_ts16       pe_abs_sin i0_c1_o1_v1_r1    0       cc_narval   \n                                       i1_c1_o0_v1_r1    0       cc_narval   \n                                       i1_c1_o1_v0_r1    0       cc_narval   \n                                       i1_c1_o1_v1_r1    0       cc_narval   \n                            pe_alibi   i0_c1_o1_v1_r1    0       cc_narval   \n                                       i1_c1_o0_v1_r1    0       cc_narval   \n                                       i1_c1_o1_v0_r1    0       cc_narval   \n                                       i1_c1_o1_v1_r0    0       cc_narval   \n                                       i1_c1_o1_v1_r1    0       cc_narval   \n                            pe_none    i0_c1_o1_v1_r1    0       cc_narval   \n                                       i1_c0_o1_v1_r1    0       cc_narval   \n                                       i1_c1_o0_v1_r1    0       cc_narval   \n                                       i1_c1_o1_v0_r1    0       cc_narval   \n                                       i1_c1_o1_v1_r0    0       cc_narval   \n                                       i1_c1_o1_v1_r1    0       cc_narval   \n                            pe_rotary  i0_c1_o1_v1_r1    0       cc_narval   \n                                       i1_c0_o1_v1_r1    0       cc_narval   \n                                       i1_c1_o0_v1_r1    0       cc_narval   \n                                       i1_c1_o1_v0_r1    0       cc_narval   \n                                       i1_c1_o1_v1_r0    0       cc_narval   \n                                       i1_c1_o1_v1_r1    0       cc_narval   \n                            pe_t5      i0_c1_o1_v1_r1    0       cc_narval   \n                                       i1_c0_o1_v1_r1    0       cc_narval   \n                                       i1_c1_o0_v1_r1    0       cc_narval   \n                                       i1_c1_o1_v1_r0    0       cc_narval   \n                                       i1_c1_o1_v1_r1    0       cc_narval   \n\n                                                                                                    group_url  \nds                          model      scratchpad_config                                                       \ns2s_addition--len_tr8_ts16  pe_t5      i0_c1_o0_v0_r0    0  https://wandb.ai/kzmnjd/len_gen/groups/SW-t5_d...  \ns2s_lego--len_tr8_ts16      pe_alibi   i0_c1_o1_v0_r1    0  https://wandb.ai/kzmnjd/len_gen/groups/SW-t5_d...  \n                            pe_none    i1_c1_o0_v0_r1    0  https://wandb.ai/kzmnjd/len_gen/groups/SW-t5_d...  \n                                       i1_c1_o1_v0_r1    0  https://wandb.ai/kzmnjd/len_gen/groups/SW-t5_d...  \n                            pe_t5      i1_c1_o1_v0_r1    0  https://wandb.ai/kzmnjd/len_gen/groups/SW-t5_d...  \ns2s_parity--len_tr8_ts16    pe_abs_sin i0_c1_o1_v1_r1    0  https://wandb.ai/kzmnjd/len_gen/groups/SW-t5_d...  \ns2s_sort--len_mltd_tr8_ts16 pe_none    no_scratchpad     0  https://wandb.ai/kzmnjd/len_gen/groups/SW-t5_d...  \ns2s_sum--len_tr8_ts16       pe_abs_sin i0_c1_o1_v1_r1    0  https://wandb.ai/kzmnjd/len_gen/groups/SW-t5_d...  \n                                       i1_c1_o0_v1_r1    0  https://wandb.ai/kzmnjd/len_gen/groups/SW-t5_d...  \n                                       i1_c1_o1_v0_r1    0  https://wandb.ai/kzmnjd/len_gen/groups/SW-t5_d...  \n                                       i1_c1_o1_v1_r1    0  https://wandb.ai/kzmnjd/len_gen/groups/SW-t5_d...  \n                            pe_alibi   i0_c1_o1_v1_r1    0  https://wandb.ai/kzmnjd/len_gen/groups/SW-t5_d...  \n                                       i1_c1_o0_v1_r1    0  https://wandb.ai/kzmnjd/len_gen/groups/SW-t5_d...  \n                                       i1_c1_o1_v0_r1    0  https://wandb.ai/kzmnjd/len_gen/groups/SW-t5_d...  \n                                       i1_c1_o1_v1_r0    0  https://wandb.ai/kzmnjd/len_gen/groups/SW-t5_d...  \n                                       i1_c1_o1_v1_r1    0  https://wandb.ai/kzmnjd/len_gen/groups/SW-t5_d...  \n                            pe_none    i0_c1_o1_v1_r1    0  https://wandb.ai/kzmnjd/len_gen/groups/SW-t5_d...  \n                                       i1_c0_o1_v1_r1    0  https://wandb.ai/kzmnjd/len_gen/groups/SW-t5_d...  \n                                       i1_c1_o0_v1_r1    0  https://wandb.ai/kzmnjd/len_gen/groups/SW-t5_d...  \n                                       i1_c1_o1_v0_r1    0  https://wandb.ai/kzmnjd/len_gen/groups/SW-t5_d...  \n                                       i1_c1_o1_v1_r0    0  https://wandb.ai/kzmnjd/len_gen/groups/SW-t5_d...  \n                                       i1_c1_o1_v1_r1    0  https://wandb.ai/kzmnjd/len_gen/groups/SW-t5_d...  \n                            pe_rotary  i0_c1_o1_v1_r1    0  https://wandb.ai/kzmnjd/len_gen/groups/SW-t5_d...  \n                                       i1_c0_o1_v1_r1    0  https://wandb.ai/kzmnjd/len_gen/groups/SW-t5_d...  \n                                       i1_c1_o0_v1_r1    0  https://wandb.ai/kzmnjd/len_gen/groups/SW-t5_d...  \n                                       i1_c1_o1_v0_r1    0  https://wandb.ai/kzmnjd/len_gen/groups/SW-t5_d...  \n                                       i1_c1_o1_v1_r0    0  https://wandb.ai/kzmnjd/len_gen/groups/SW-t5_d...  \n                                       i1_c1_o1_v1_r1    0  https://wandb.ai/kzmnjd/len_gen/groups/SW-t5_d...  \n                            pe_t5      i0_c1_o1_v1_r1    0  https://wandb.ai/kzmnjd/len_gen/groups/SW-t5_d...  \n                                       i1_c0_o1_v1_r1    0  https://wandb.ai/kzmnjd/len_gen/groups/SW-t5_d...  \n                                       i1_c1_o0_v1_r1    0  https://wandb.ai/kzmnjd/len_gen/groups/SW-t5_d...  \n                                       i1_c1_o1_v1_r0    0  https://wandb.ai/kzmnjd/len_gen/groups/SW-t5_d...  \n                                       i1_c1_o1_v1_r1    0  https://wandb.ai/kzmnjd/len_gen/groups/SW-t5_d...  ",
      "text/html": "<div>\n<style scoped>\n    .dataframe tbody tr th:only-of-type {\n        vertical-align: middle;\n    }\n\n    .dataframe tbody tr th {\n        vertical-align: top;\n    }\n\n    .dataframe thead th {\n        text-align: right;\n    }\n</style>\n<table border=\"1\" class=\"dataframe\">\n  <thead>\n    <tr style=\"text-align: right;\">\n      <th></th>\n      <th></th>\n      <th></th>\n      <th></th>\n      <th>num_completed</th>\n      <th>num_seed_runs</th>\n      <th>is_running</th>\n      <th>is_done</th>\n      <th>launcher_id</th>\n      <th>compute_cluster</th>\n      <th>group_url</th>\n    </tr>\n    <tr>\n      <th>ds</th>\n      <th>model</th>\n      <th>scratchpad_config</th>\n      <th></th>\n      <th></th>\n      <th></th>\n      <th></th>\n      <th></th>\n      <th></th>\n      <th></th>\n      <th></th>\n    </tr>\n  </thead>\n  <tbody>\n    <tr>\n      <th>s2s_addition--len_tr8_ts16</th>\n      <th>pe_t5</th>\n      <th>i0_c1_o0_v0_r0</th>\n      <th>0</th>\n      <td>0</td>\n      <td>0</td>\n      <td>False</td>\n      <td>False</td>\n      <td>3us2b1d1</td>\n      <td>unknown</td>\n      <td>https://wandb.ai/kzmnjd/len_gen/groups/SW-t5_d...</td>\n    </tr>\n    <tr>\n      <th rowspan=\"4\" valign=\"top\">s2s_lego--len_tr8_ts16</th>\n      <th>pe_alibi</th>\n      <th>i0_c1_o1_v0_r1</th>\n      <th>0</th>\n      <td>2</td>\n      <td>3</td>\n      <td>False</td>\n      <td>False</td>\n      <td>3ouq1a35</td>\n      <td>mila</td>\n      <td>https://wandb.ai/kzmnjd/len_gen/groups/SW-t5_d...</td>\n    </tr>\n    <tr>\n      <th rowspan=\"2\" valign=\"top\">pe_none</th>\n      <th>i1_c1_o0_v0_r1</th>\n      <th>0</th>\n      <td>2</td>\n      <td>3</td>\n      <td>False</td>\n      <td>False</td>\n      <td>109rqrb2</td>\n      <td>mila</td>\n      <td>https://wandb.ai/kzmnjd/len_gen/groups/SW-t5_d...</td>\n    </tr>\n    <tr>\n      <th>i1_c1_o1_v0_r1</th>\n      <th>0</th>\n      <td>1</td>\n      <td>2</td>\n      <td>False</td>\n      <td>False</td>\n      <td>1v5plya4</td>\n      <td>mila</td>\n      <td>https://wandb.ai/kzmnjd/len_gen/groups/SW-t5_d...</td>\n    </tr>\n    <tr>\n      <th>pe_t5</th>\n      <th>i1_c1_o1_v0_r1</th>\n      <th>0</th>\n      <td>1</td>\n      <td>2</td>\n      <td>False</td>\n      <td>False</td>\n      <td>3qdlk42y</td>\n      <td>mila</td>\n      <td>https://wandb.ai/kzmnjd/len_gen/groups/SW-t5_d...</td>\n    </tr>\n    <tr>\n      <th>s2s_parity--len_tr8_ts16</th>\n      <th>pe_abs_sin</th>\n      <th>i0_c1_o1_v1_r1</th>\n      <th>0</th>\n      <td>2</td>\n      <td>3</td>\n      <td>False</td>\n      <td>False</td>\n      <td>1fybhbbv</td>\n      <td>cc_narval</td>\n      <td>https://wandb.ai/kzmnjd/len_gen/groups/SW-t5_d...</td>\n    </tr>\n    <tr>\n      <th>s2s_sort--len_mltd_tr8_ts16</th>\n      <th>pe_none</th>\n      <th>no_scratchpad</th>\n      <th>0</th>\n      <td>2</td>\n      <td>3</td>\n      <td>False</td>\n      <td>False</td>\n      <td>24zxjmuq</td>\n      <td>cc_cedar</td>\n      <td>https://wandb.ai/kzmnjd/len_gen/groups/SW-t5_d...</td>\n    </tr>\n    <tr>\n      <th rowspan=\"26\" valign=\"top\">s2s_sum--len_tr8_ts16</th>\n      <th rowspan=\"4\" valign=\"top\">pe_abs_sin</th>\n      <th>i0_c1_o1_v1_r1</th>\n      <th>0</th>\n      <td>2</td>\n      <td>3</td>\n      <td>False</td>\n      <td>False</td>\n      <td>dhkv433g</td>\n      <td>cc_narval</td>\n      <td>https://wandb.ai/kzmnjd/len_gen/groups/SW-t5_d...</td>\n    </tr>\n    <tr>\n      <th>i1_c1_o0_v1_r1</th>\n      <th>0</th>\n      <td>2</td>\n      <td>3</td>\n      <td>False</td>\n      <td>False</td>\n      <td>1t48e7ri</td>\n      <td>cc_narval</td>\n      <td>https://wandb.ai/kzmnjd/len_gen/groups/SW-t5_d...</td>\n    </tr>\n    <tr>\n      <th>i1_c1_o1_v0_r1</th>\n      <th>0</th>\n      <td>2</td>\n      <td>3</td>\n      <td>False</td>\n      <td>False</td>\n      <td>kpv1psor</td>\n      <td>cc_narval</td>\n      <td>https://wandb.ai/kzmnjd/len_gen/groups/SW-t5_d...</td>\n    </tr>\n    <tr>\n      <th>i1_c1_o1_v1_r1</th>\n      <th>0</th>\n      <td>2</td>\n      <td>2</td>\n      <td>False</td>\n      <td>False</td>\n      <td>2zxi0drp</td>\n      <td>cc_narval</td>\n      <td>https://wandb.ai/kzmnjd/len_gen/groups/SW-t5_d...</td>\n    </tr>\n    <tr>\n      <th rowspan=\"5\" valign=\"top\">pe_alibi</th>\n      <th>i0_c1_o1_v1_r1</th>\n      <th>0</th>\n      <td>2</td>\n      <td>3</td>\n      <td>False</td>\n      <td>False</td>\n      <td>3oy5xl7g</td>\n      <td>cc_narval</td>\n      <td>https://wandb.ai/kzmnjd/len_gen/groups/SW-t5_d...</td>\n    </tr>\n    <tr>\n      <th>i1_c1_o0_v1_r1</th>\n      <th>0</th>\n      <td>2</td>\n      <td>3</td>\n      <td>False</td>\n      <td>False</td>\n      <td>2v5046ap</td>\n      <td>cc_narval</td>\n      <td>https://wandb.ai/kzmnjd/len_gen/groups/SW-t5_d...</td>\n    </tr>\n    <tr>\n      <th>i1_c1_o1_v0_r1</th>\n      <th>0</th>\n      <td>2</td>\n      <td>3</td>\n      <td>False</td>\n      <td>False</td>\n      <td>1q6u0r8k</td>\n      <td>cc_narval</td>\n      <td>https://wandb.ai/kzmnjd/len_gen/groups/SW-t5_d...</td>\n    </tr>\n    <tr>\n      <th>i1_c1_o1_v1_r0</th>\n      <th>0</th>\n      <td>2</td>\n      <td>3</td>\n      <td>False</td>\n      <td>False</td>\n      <td>1o9wodwf</td>\n      <td>cc_narval</td>\n      <td>https://wandb.ai/kzmnjd/len_gen/groups/SW-t5_d...</td>\n    </tr>\n    <tr>\n      <th>i1_c1_o1_v1_r1</th>\n      <th>0</th>\n      <td>2</td>\n      <td>3</td>\n      <td>False</td>\n      <td>False</td>\n      <td>2orfp9ex</td>\n      <td>cc_narval</td>\n      <td>https://wandb.ai/kzmnjd/len_gen/groups/SW-t5_d...</td>\n    </tr>\n    <tr>\n      <th rowspan=\"6\" valign=\"top\">pe_none</th>\n      <th>i0_c1_o1_v1_r1</th>\n      <th>0</th>\n      <td>2</td>\n      <td>3</td>\n      <td>False</td>\n      <td>False</td>\n      <td>34okt8zw</td>\n      <td>cc_narval</td>\n      <td>https://wandb.ai/kzmnjd/len_gen/groups/SW-t5_d...</td>\n    </tr>\n    <tr>\n      <th>i1_c0_o1_v1_r1</th>\n      <th>0</th>\n      <td>2</td>\n      <td>3</td>\n      <td>False</td>\n      <td>False</td>\n      <td>3oej5j3x</td>\n      <td>cc_narval</td>\n      <td>https://wandb.ai/kzmnjd/len_gen/groups/SW-t5_d...</td>\n    </tr>\n    <tr>\n      <th>i1_c1_o0_v1_r1</th>\n      <th>0</th>\n      <td>2</td>\n      <td>3</td>\n      <td>False</td>\n      <td>False</td>\n      <td>1t65w0yn</td>\n      <td>cc_narval</td>\n      <td>https://wandb.ai/kzmnjd/len_gen/groups/SW-t5_d...</td>\n    </tr>\n    <tr>\n      <th>i1_c1_o1_v0_r1</th>\n      <th>0</th>\n      <td>2</td>\n      <td>3</td>\n      <td>False</td>\n      <td>False</td>\n      <td>17ny9q1s</td>\n      <td>cc_narval</td>\n      <td>https://wandb.ai/kzmnjd/len_gen/groups/SW-t5_d...</td>\n    </tr>\n    <tr>\n      <th>i1_c1_o1_v1_r0</th>\n      <th>0</th>\n      <td>2</td>\n      <td>3</td>\n      <td>False</td>\n      <td>False</td>\n      <td>1z8c9b89</td>\n      <td>cc_narval</td>\n      <td>https://wandb.ai/kzmnjd/len_gen/groups/SW-t5_d...</td>\n    </tr>\n    <tr>\n      <th>i1_c1_o1_v1_r1</th>\n      <th>0</th>\n      <td>2</td>\n      <td>3</td>\n      <td>False</td>\n      <td>False</td>\n      <td>1duxbvmn</td>\n      <td>cc_narval</td>\n      <td>https://wandb.ai/kzmnjd/len_gen/groups/SW-t5_d...</td>\n    </tr>\n    <tr>\n      <th rowspan=\"6\" valign=\"top\">pe_rotary</th>\n      <th>i0_c1_o1_v1_r1</th>\n      <th>0</th>\n      <td>1</td>\n      <td>2</td>\n      <td>False</td>\n      <td>False</td>\n      <td>1dfb168m</td>\n      <td>cc_narval</td>\n      <td>https://wandb.ai/kzmnjd/len_gen/groups/SW-t5_d...</td>\n    </tr>\n    <tr>\n      <th>i1_c0_o1_v1_r1</th>\n      <th>0</th>\n      <td>1</td>\n      <td>2</td>\n      <td>False</td>\n      <td>False</td>\n      <td>rm49clp6</td>\n      <td>cc_narval</td>\n      <td>https://wandb.ai/kzmnjd/len_gen/groups/SW-t5_d...</td>\n    </tr>\n    <tr>\n      <th>i1_c1_o0_v1_r1</th>\n      <th>0</th>\n      <td>1</td>\n      <td>2</td>\n      <td>False</td>\n      <td>False</td>\n      <td>mr1mfn5q</td>\n      <td>cc_narval</td>\n      <td>https://wandb.ai/kzmnjd/len_gen/groups/SW-t5_d...</td>\n    </tr>\n    <tr>\n      <th>i1_c1_o1_v0_r1</th>\n      <th>0</th>\n      <td>1</td>\n      <td>2</td>\n      <td>False</td>\n      <td>False</td>\n      <td>wqm246yg</td>\n      <td>cc_narval</td>\n      <td>https://wandb.ai/kzmnjd/len_gen/groups/SW-t5_d...</td>\n    </tr>\n    <tr>\n      <th>i1_c1_o1_v1_r0</th>\n      <th>0</th>\n      <td>1</td>\n      <td>2</td>\n      <td>False</td>\n      <td>False</td>\n      <td>3sz82ouy</td>\n      <td>cc_narval</td>\n      <td>https://wandb.ai/kzmnjd/len_gen/groups/SW-t5_d...</td>\n    </tr>\n    <tr>\n      <th>i1_c1_o1_v1_r1</th>\n      <th>0</th>\n      <td>1</td>\n      <td>2</td>\n      <td>False</td>\n      <td>False</td>\n      <td>33uhnexb</td>\n      <td>cc_narval</td>\n      <td>https://wandb.ai/kzmnjd/len_gen/groups/SW-t5_d...</td>\n    </tr>\n    <tr>\n      <th rowspan=\"5\" valign=\"top\">pe_t5</th>\n      <th>i0_c1_o1_v1_r1</th>\n      <th>0</th>\n      <td>2</td>\n      <td>3</td>\n      <td>False</td>\n      <td>False</td>\n      <td>1hyk3zp7</td>\n      <td>cc_narval</td>\n      <td>https://wandb.ai/kzmnjd/len_gen/groups/SW-t5_d...</td>\n    </tr>\n    <tr>\n      <th>i1_c0_o1_v1_r1</th>\n      <th>0</th>\n      <td>2</td>\n      <td>3</td>\n      <td>False</td>\n      <td>False</td>\n      <td>h3c2to7e</td>\n      <td>cc_narval</td>\n      <td>https://wandb.ai/kzmnjd/len_gen/groups/SW-t5_d...</td>\n    </tr>\n    <tr>\n      <th>i1_c1_o0_v1_r1</th>\n      <th>0</th>\n      <td>2</td>\n      <td>3</td>\n      <td>False</td>\n      <td>False</td>\n      <td>zpmf5ojm</td>\n      <td>cc_narval</td>\n      <td>https://wandb.ai/kzmnjd/len_gen/groups/SW-t5_d...</td>\n    </tr>\n    <tr>\n      <th>i1_c1_o1_v1_r0</th>\n      <th>0</th>\n      <td>2</td>\n      <td>3</td>\n      <td>False</td>\n      <td>False</td>\n      <td>39auwr78</td>\n      <td>cc_narval</td>\n      <td>https://wandb.ai/kzmnjd/len_gen/groups/SW-t5_d...</td>\n    </tr>\n    <tr>\n      <th>i1_c1_o1_v1_r1</th>\n      <th>0</th>\n      <td>2</td>\n      <td>3</td>\n      <td>False</td>\n      <td>False</td>\n      <td>188vipfr</td>\n      <td>cc_narval</td>\n      <td>https://wandb.ai/kzmnjd/len_gen/groups/SW-t5_d...</td>\n    </tr>\n  </tbody>\n</table>\n</div>"
     },
     "execution_count": 38,
     "metadata": {},
     "output_type": "execute_result"
    }
   ],
   "source": [
    "xdf[(xdf[\"is_done\"] == False) & (xdf[\"is_running\"] == False)]"
   ]
  },
  {
   "cell_type": "code",
   "execution_count": 17,
   "metadata": {},
   "outputs": [
    {
     "name": "stdout",
     "output_type": "stream",
     "text": [
      "sw_c19ab1768f8b3039a699fab2ff637c86__146317 crashed best_run_seed_exp SW-t5_dec_base_pe_alibi_w_scratchpad_f_ufs__i1_c1_o1_v0_r1_s2s_lego_sweep___data-s2s_lego-len_tr8_ts16 ['launched_by_27k8r9tj', 'manual_sweep', 'scratchpad', 'scratchpad_f', 'scratchpad_s2s_lego', 'sweep']\n",
      "sw_c19ab1768f8b3039a699fab2ff637c86__146317 SW-t5_dec_base_pe_alibi_w_scratchpad_f_ufs__i1_c1_o1_v0_r1_s2s_lego_sweep___data-s2s_lego-len_tr8_ts16\n",
      "no eval results\n",
      "False\n",
      "\n",
      "sw_c19ab1768f8b3039a699fab2ff637c86__234054 finished best_run_seed_exp SW-t5_dec_base_pe_alibi_w_scratchpad_f_ufs__i1_c1_o1_v0_r1_s2s_lego_sweep___data-s2s_lego-len_tr8_ts16 ['launched_by_27k8r9tj', 'manual_sweep', 'scratchpad', 'scratchpad_f', 'scratchpad_s2s_lego', 'sweep']\n",
      "True\n",
      "\n",
      "sw_c19ab1768f8b3039a699fab2ff637c86__256788 finished best_run_seed_exp SW-t5_dec_base_pe_alibi_w_scratchpad_f_ufs__i1_c1_o1_v0_r1_s2s_lego_sweep___data-s2s_lego-len_tr8_ts16 ['launched_by_27k8r9tj', 'manual_sweep', 'scratchpad', 'scratchpad_f', 'scratchpad_s2s_lego', 'sweep']\n",
      "True\n",
      "\n"
     ]
    }
   ],
   "source": [
    "check_runs_generated_by_launcher_id(\"27k8r9tj\")"
   ]
  },
  {
   "cell_type": "code",
   "execution_count": null,
   "metadata": {},
   "outputs": [],
   "source": [
    "xxdf = xdf.reset_index()\n",
    "xxdf[(xxdf[\"is_done\"] == False) & (xxdf[\"ds\"] == \"s2s_addition--len_tr8_ts16\")]"
   ]
  },
  {
   "cell_type": "code",
   "execution_count": null,
   "metadata": {},
   "outputs": [],
   "source": [
    "xdf[(xdf[\"is_done\"] == False) & (xdf[\"is_running\"] == False) & (xdf[\"ds\"] == \"s2s_addition--len_tr8_ts16\")]"
   ]
  },
  {
   "cell_type": "code",
   "execution_count": null,
   "metadata": {},
   "outputs": [],
   "source": [
    "xdf.columns"
   ]
  },
  {
   "cell_type": "markdown",
   "metadata": {},
   "source": [
    "## Fix Runs without summary"
   ]
  },
  {
   "cell_type": "code",
   "execution_count": 29,
   "metadata": {},
   "outputs": [],
   "source": [
    "# completed_runs = set(df[(df[\"is_complete\"] == True) & (df[\"job_type\"] == \"best_run_seed_exp\")][\"id\"].tolist())\n",
    "\n",
    "completed_runs = set(df[(df[\"job_type\"] == \"best_run_seed_exp\")][\"id\"].tolist())\n"
   ]
  },
  {
   "cell_type": "code",
   "execution_count": 30,
   "metadata": {},
   "outputs": [
    {
     "name": "stderr",
     "output_type": "stream",
     "text": [
      "  0%|          | 0/1682 [00:00<?, ?it/s]"
     ]
    },
    {
     "name": "stdout",
     "output_type": "stream",
     "text": [
      "SW-t5_dec_base_pe_alibi_w_scratchpad_f_ufs__i1_c1_o0_v1_r1_s2s_sum_sweep___data-s2s_sum-len_tr8_ts16\n",
      "sw_ff9488bdbc182b91baa9c78cf67258e0__146317\n",
      "https://wandb.ai/kzmnjd/len_gen/runs/sw_ff9488bdbc182b91baa9c78cf67258e0__146317\n",
      "------------------\n"
     ]
    },
    {
     "name": "stderr",
     "output_type": "stream",
     "text": [
      "  0%|          | 3/1682 [00:01<09:26,  2.97it/s]"
     ]
    },
    {
     "name": "stdout",
     "output_type": "stream",
     "text": [
      "SW-t5_dec_base_pe_rotary_w_scratchpad_f_ufs__i0_c1_o1_v1_r1_s2s_sum_sweep___data-s2s_sum-len_tr8_ts16\n",
      "sw_9a7124fb2298e6bb8723f38eb6f2fbfe__234054\n",
      "https://wandb.ai/kzmnjd/len_gen/runs/sw_9a7124fb2298e6bb8723f38eb6f2fbfe__234054\n",
      "------------------\n"
     ]
    },
    {
     "name": "stderr",
     "output_type": "stream",
     "text": [
      "  0%|          | 4/1682 [00:02<15:19,  1.83it/s]"
     ]
    },
    {
     "name": "stdout",
     "output_type": "stream",
     "text": [
      "SW-t5_dec_base_pe_abs_sin_w_scratchpad_f_ufs__i1_c1_o0_v1_r1_s2s_sum_sweep___data-s2s_sum-len_tr8_ts16\n",
      "sw_98f12b358838a63e3515b06673c31470__146317\n",
      "https://wandb.ai/kzmnjd/len_gen/runs/sw_98f12b358838a63e3515b06673c31470__146317\n",
      "------------------\n"
     ]
    },
    {
     "name": "stderr",
     "output_type": "stream",
     "text": [
      "  0%|          | 5/1682 [00:03<19:35,  1.43it/s]"
     ]
    },
    {
     "name": "stdout",
     "output_type": "stream",
     "text": [
      "SW-t5_dec_base_pe_rotary_w_scratchpad_f_ufs__i1_c0_o1_v1_r1_s2s_sum_sweep___data-s2s_sum-len_tr8_ts16\n",
      "sw_1e2e7e5688e34066f6990521c7c53a46__234054\n",
      "https://wandb.ai/kzmnjd/len_gen/runs/sw_1e2e7e5688e34066f6990521c7c53a46__234054\n",
      "------------------\n"
     ]
    },
    {
     "name": "stderr",
     "output_type": "stream",
     "text": [
      "  0%|          | 7/1682 [00:04<19:13,  1.45it/s]"
     ]
    },
    {
     "name": "stdout",
     "output_type": "stream",
     "text": [
      "SW-t5_dec_base_pe_alibi_w_scratchpad_f_ufs__i0_c1_o1_v1_r1_s2s_sum_sweep___data-s2s_sum-len_tr8_ts16\n",
      "sw_6cbd08260d1cc09b5ac7398445b4ecdb__146317\n",
      "https://wandb.ai/kzmnjd/len_gen/runs/sw_6cbd08260d1cc09b5ac7398445b4ecdb__146317\n",
      "------------------\n"
     ]
    },
    {
     "name": "stderr",
     "output_type": "stream",
     "text": [
      "  1%|          | 13/1682 [00:05<09:13,  3.02it/s]"
     ]
    },
    {
     "name": "stdout",
     "output_type": "stream",
     "text": [
      "SW-t5_dec_base_pe_alibi_w_scratchpad_f_ufs__i1_c1_o1_v1_r1_s2s_sum_sweep___data-s2s_sum-len_tr8_ts16\n",
      "sw_db600433f2bd2a7b29164f7429542cbc__146317\n",
      "https://wandb.ai/kzmnjd/len_gen/runs/sw_db600433f2bd2a7b29164f7429542cbc__146317\n",
      "------------------\n"
     ]
    },
    {
     "name": "stderr",
     "output_type": "stream",
     "text": [
      "  1%|          | 15/1682 [00:06<09:45,  2.85it/s]"
     ]
    },
    {
     "name": "stdout",
     "output_type": "stream",
     "text": [
      "SW-t5_dec_base_pe_abs_sin_w_scratchpad_f_ufs__i1_c1_o1_v0_r1_s2s_sum_sweep___data-s2s_sum-len_tr8_ts16\n",
      "sw_e532563b3d08da34875206511360dbe3__146317\n",
      "https://wandb.ai/kzmnjd/len_gen/runs/sw_e532563b3d08da34875206511360dbe3__146317\n",
      "------------------\n"
     ]
    },
    {
     "name": "stderr",
     "output_type": "stream",
     "text": [
      "  1%|          | 18/1682 [00:07<11:29,  2.41it/s]"
     ]
    },
    {
     "name": "stdout",
     "output_type": "stream",
     "text": [
      "SW-t5_dec_base_pe_none_w_scratchpad_f_ufs__i1_c0_o1_v1_r1_s2s_sum_sweep___data-s2s_sum-len_tr8_ts16\n",
      "sw_970c8dfe4f78f65ce0f37a25b80076fe__146317\n",
      "https://wandb.ai/kzmnjd/len_gen/runs/sw_970c8dfe4f78f65ce0f37a25b80076fe__146317\n",
      "------------------\n"
     ]
    },
    {
     "name": "stderr",
     "output_type": "stream",
     "text": [
      "  1%|          | 21/1682 [00:09<12:01,  2.30it/s]"
     ]
    },
    {
     "name": "stdout",
     "output_type": "stream",
     "text": [
      "SW-t5_dec_base_pe_none_w_scratchpad_f_ufs__i1_c0_o1_v1_r1_s2s_sum_sweep___data-s2s_sum-len_tr8_ts16\n",
      "sw_970c8dfe4f78f65ce0f37a25b80076fe__256788\n",
      "https://wandb.ai/kzmnjd/len_gen/runs/sw_970c8dfe4f78f65ce0f37a25b80076fe__256788\n",
      "------------------\n"
     ]
    },
    {
     "name": "stderr",
     "output_type": "stream",
     "text": [
      "  1%|▏         | 22/1682 [00:10<16:46,  1.65it/s]"
     ]
    },
    {
     "name": "stdout",
     "output_type": "stream",
     "text": [
      "SW-t5_dec_base_pe_t5_w_scratchpad_f_ufs__i1_c1_o0_v1_r1_s2s_sum_sweep___data-s2s_sum-len_tr8_ts16\n",
      "sw_c3ec44acc04db78cf595ab68badde8f3__146317\n",
      "https://wandb.ai/kzmnjd/len_gen/runs/sw_c3ec44acc04db78cf595ab68badde8f3__146317\n",
      "------------------\n"
     ]
    },
    {
     "name": "stderr",
     "output_type": "stream",
     "text": [
      "  2%|▏         | 26/1682 [00:11<12:16,  2.25it/s]"
     ]
    },
    {
     "name": "stdout",
     "output_type": "stream",
     "text": [
      "SW-t5_dec_base_pe_rotary_w_scratchpad_f_ufs__i1_c1_o1_v0_r1_s2s_sum_sweep___data-s2s_sum-len_tr8_ts16\n",
      "sw_e9cf62a43feebf94d79755eefdd73acc__234054\n",
      "https://wandb.ai/kzmnjd/len_gen/runs/sw_e9cf62a43feebf94d79755eefdd73acc__234054\n",
      "------------------\n"
     ]
    },
    {
     "name": "stderr",
     "output_type": "stream",
     "text": [
      "  2%|▏         | 31/1682 [00:13<10:01,  2.74it/s]"
     ]
    },
    {
     "name": "stdout",
     "output_type": "stream",
     "text": [
      "SW-t5_dec_base_pe_none_w_scratchpad_f_ufs__i1_c1_o0_v1_r1_s2s_sum_sweep___data-s2s_sum-len_tr8_ts16\n",
      "sw_abb720bccabb48fcefa23b61a078a5d3__146317\n",
      "https://wandb.ai/kzmnjd/len_gen/runs/sw_abb720bccabb48fcefa23b61a078a5d3__146317\n",
      "------------------\n"
     ]
    },
    {
     "name": "stderr",
     "output_type": "stream",
     "text": [
      "  2%|▏         | 32/1682 [00:14<12:01,  2.29it/s]"
     ]
    },
    {
     "name": "stdout",
     "output_type": "stream",
     "text": [
      "SW-t5_dec_base_pe_t5_w_scratchpad_f_ufs__i1_c0_o1_v1_r1_s2s_sum_sweep___data-s2s_sum-len_tr8_ts16\n",
      "sw_94468e7fa93d363bacb1ad47a113954f__146317\n",
      "https://wandb.ai/kzmnjd/len_gen/runs/sw_94468e7fa93d363bacb1ad47a113954f__146317\n",
      "------------------\n"
     ]
    },
    {
     "name": "stderr",
     "output_type": "stream",
     "text": [
      "  2%|▏         | 33/1682 [00:15<16:16,  1.69it/s]"
     ]
    },
    {
     "name": "stdout",
     "output_type": "stream",
     "text": [
      "SW-t5_dec_base_pe_alibi_w_scratchpad_f_ufs__i1_c1_o1_v1_r0_s2s_sum_sweep___data-s2s_sum-len_tr8_ts16\n",
      "sw_5c113086e50a925e30f34bedc66c65a9__146317\n",
      "https://wandb.ai/kzmnjd/len_gen/runs/sw_5c113086e50a925e30f34bedc66c65a9__146317\n",
      "------------------\n"
     ]
    },
    {
     "name": "stderr",
     "output_type": "stream",
     "text": [
      "  2%|▏         | 36/1682 [00:17<14:54,  1.84it/s]"
     ]
    },
    {
     "name": "stdout",
     "output_type": "stream",
     "text": [
      "SW-t5_dec_base_pe_alibi_w_scratchpad_f_ufs__i1_c1_o1_v0_r1_s2s_sum_sweep___data-s2s_sum-len_tr8_ts16\n",
      "sw_d01283fc18bdd9b11f48796543b0899a__146317\n",
      "https://wandb.ai/kzmnjd/len_gen/runs/sw_d01283fc18bdd9b11f48796543b0899a__146317\n",
      "------------------\n"
     ]
    },
    {
     "name": "stderr",
     "output_type": "stream",
     "text": [
      "  2%|▏         | 37/1682 [00:18<19:14,  1.42it/s]"
     ]
    },
    {
     "name": "stdout",
     "output_type": "stream",
     "text": [
      "SW-t5_dec_base_pe_rotary_w_scratchpad_f_ufs__i1_c1_o0_v1_r1_s2s_sum_sweep___data-s2s_sum-len_tr8_ts16\n",
      "sw_83aa2ec4439b0b33dada5d04d3180544__256788\n",
      "https://wandb.ai/kzmnjd/len_gen/runs/sw_83aa2ec4439b0b33dada5d04d3180544__256788\n",
      "------------------\n"
     ]
    },
    {
     "name": "stderr",
     "output_type": "stream",
     "text": [
      "  2%|▏         | 39/1682 [00:20<19:40,  1.39it/s]"
     ]
    },
    {
     "name": "stdout",
     "output_type": "stream",
     "text": [
      "SW-t5_dec_base_pe_alibi_w_scratchpad_f_ufs__i1_c1_o1_v0_r1_s2s_sum_sweep___data-s2s_sum-len_tr8_ts16\n",
      "sw_d01283fc18bdd9b11f48796543b0899a__234054\n",
      "https://wandb.ai/kzmnjd/len_gen/runs/sw_d01283fc18bdd9b11f48796543b0899a__234054\n",
      "------------------\n"
     ]
    },
    {
     "name": "stderr",
     "output_type": "stream",
     "text": [
      "  2%|▏         | 40/1682 [00:22<25:21,  1.08it/s]"
     ]
    },
    {
     "name": "stdout",
     "output_type": "stream",
     "text": [
      "SW-t5_dec_base_pe_rotary_w_scratchpad_f_ufs__i1_c1_o0_v1_r1_s2s_sum_sweep___data-s2s_sum-len_tr8_ts16\n",
      "sw_83aa2ec4439b0b33dada5d04d3180544__234054\n",
      "https://wandb.ai/kzmnjd/len_gen/runs/sw_83aa2ec4439b0b33dada5d04d3180544__234054\n",
      "------------------\n"
     ]
    },
    {
     "name": "stderr",
     "output_type": "stream",
     "text": [
      "  2%|▏         | 41/1682 [00:23<25:42,  1.06it/s]"
     ]
    },
    {
     "name": "stdout",
     "output_type": "stream",
     "text": [
      "SW-t5_dec_base_pe_abs_sin_w_scratchpad_f_ufs__i0_c1_o1_v1_r1_s2s_sum_sweep___data-s2s_sum-len_tr8_ts16\n",
      "sw_7c701c9de578aa3d4e72da2a65edff88__146317\n",
      "https://wandb.ai/kzmnjd/len_gen/runs/sw_7c701c9de578aa3d4e72da2a65edff88__146317\n",
      "------------------\n"
     ]
    },
    {
     "name": "stderr",
     "output_type": "stream",
     "text": [
      "  2%|▏         | 42/1682 [00:24<26:10,  1.04it/s]"
     ]
    },
    {
     "name": "stdout",
     "output_type": "stream",
     "text": [
      "SW-t5_dec_base_pe_t5_w_scratchpad_f_ufs__i1_c1_o1_v1_r1_s2s_sum_sweep___data-s2s_sum-len_tr8_ts16\n",
      "sw_c33513ddfaa808a89147f6e3e368bbcb__146317\n",
      "https://wandb.ai/kzmnjd/len_gen/runs/sw_c33513ddfaa808a89147f6e3e368bbcb__146317\n",
      "------------------\n"
     ]
    },
    {
     "name": "stderr",
     "output_type": "stream",
     "text": [
      "  3%|▎         | 45/1682 [00:25<17:57,  1.52it/s]"
     ]
    },
    {
     "name": "stdout",
     "output_type": "stream",
     "text": [
      "SW-t5_dec_base_pe_t5_w_scratchpad_f_ufs__i1_c1_o1_v1_r0_s2s_sum_sweep___data-s2s_sum-len_tr8_ts16\n",
      "sw_438e547361ae3fe4936c735e21656f1c__146317\n",
      "https://wandb.ai/kzmnjd/len_gen/runs/sw_438e547361ae3fe4936c735e21656f1c__146317\n",
      "------------------\n"
     ]
    },
    {
     "name": "stderr",
     "output_type": "stream",
     "text": [
      "  3%|▎         | 51/1682 [00:26<10:42,  2.54it/s]"
     ]
    },
    {
     "name": "stdout",
     "output_type": "stream",
     "text": [
      "SW-t5_dec_base_pe_none_w_scratchpad_f_ufs__i0_c1_o1_v1_r1_s2s_sum_sweep___data-s2s_sum-len_tr8_ts16\n",
      "sw_e97f4a54f036e72a51e6f37a0affb65b__146317\n",
      "https://wandb.ai/kzmnjd/len_gen/runs/sw_e97f4a54f036e72a51e6f37a0affb65b__146317\n",
      "------------------\n"
     ]
    },
    {
     "name": "stderr",
     "output_type": "stream",
     "text": [
      "  3%|▎         | 52/1682 [00:27<12:26,  2.18it/s]"
     ]
    },
    {
     "name": "stdout",
     "output_type": "stream",
     "text": [
      "SW-t5_dec_base_pe_t5_w_scratchpad_f_ufs__i0_c1_o1_v1_r1_s2s_sum_sweep___data-s2s_sum-len_tr8_ts16\n",
      "sw_f7611f159425b630f976205fb16049e9__146317\n",
      "https://wandb.ai/kzmnjd/len_gen/runs/sw_f7611f159425b630f976205fb16049e9__146317\n",
      "------------------\n"
     ]
    },
    {
     "name": "stderr",
     "output_type": "stream",
     "text": [
      "  3%|▎         | 53/1682 [00:28<14:30,  1.87it/s]"
     ]
    },
    {
     "name": "stdout",
     "output_type": "stream",
     "text": [
      "SW-t5_dec_base_pe_none_w_scratchpad_f_ufs__i1_c1_o1_v1_r1_s2s_sum_sweep___data-s2s_sum-len_tr8_ts16\n",
      "sw_33b1ff4a8b93d5e1cb7b5ef347ebdb73__146317\n",
      "https://wandb.ai/kzmnjd/len_gen/runs/sw_33b1ff4a8b93d5e1cb7b5ef347ebdb73__146317\n",
      "------------------\n"
     ]
    },
    {
     "name": "stderr",
     "output_type": "stream",
     "text": [
      "  4%|▎         | 59/1682 [00:29<08:45,  3.09it/s]"
     ]
    },
    {
     "name": "stdout",
     "output_type": "stream",
     "text": [
      "SW-t5_dec_base_pe_t5_w_scratchpad_f_ufs__i1_c1_o1_v1_r1_s2s_poly_sweep___data-s2s_poly-n_terms_tr8_ts16\n",
      "sw_a62383120826ac1dfd973fd78242ae47__146317\n",
      "https://wandb.ai/kzmnjd/len_gen/runs/sw_a62383120826ac1dfd973fd78242ae47__146317\n",
      "------------------\n"
     ]
    },
    {
     "name": "stderr",
     "output_type": "stream",
     "text": [
      "  4%|▎         | 63/1682 [00:32<12:15,  2.20it/s]"
     ]
    },
    {
     "name": "stdout",
     "output_type": "stream",
     "text": [
      "SW-t5_dec_base_pe_rotary_w_scratchpad_f_ufs__i1_c1_o1_v1_r1_s2s_sum_sweep___data-s2s_sum-len_tr8_ts16\n",
      "sw_0e9f459c5e6a9c23e473ed1863fbab04__234054\n",
      "https://wandb.ai/kzmnjd/len_gen/runs/sw_0e9f459c5e6a9c23e473ed1863fbab04__234054\n",
      "------------------\n"
     ]
    },
    {
     "name": "stderr",
     "output_type": "stream",
     "text": [
      "  5%|▍         | 78/1682 [00:32<05:21,  4.99it/s]"
     ]
    },
    {
     "name": "stdout",
     "output_type": "stream",
     "text": [
      "SW-t5_dec_base_pe_rotary_w_scratchpad_f_ufs__i1_c1_o1_v1_r0_s2s_sum_sweep___data-s2s_sum-len_tr8_ts16\n",
      "sw_244d9efcb14101006c77f66831bc4714__234054\n",
      "https://wandb.ai/kzmnjd/len_gen/runs/sw_244d9efcb14101006c77f66831bc4714__234054\n",
      "------------------\n"
     ]
    },
    {
     "name": "stderr",
     "output_type": "stream",
     "text": [
      "  5%|▍         | 79/1682 [00:34<06:53,  3.88it/s]"
     ]
    },
    {
     "name": "stdout",
     "output_type": "stream",
     "text": [
      "SW-t5_dec_base_pe_none_w_scratchpad_f_ufs__i1_c1_o1_v1_r0_s2s_sum_sweep___data-s2s_sum-len_tr8_ts16\n",
      "sw_cfbb82ef64644036bbae9608bb050d3f__146317\n",
      "https://wandb.ai/kzmnjd/len_gen/runs/sw_cfbb82ef64644036bbae9608bb050d3f__146317\n",
      "------------------\n"
     ]
    },
    {
     "name": "stderr",
     "output_type": "stream",
     "text": [
      "  5%|▌         | 89/1682 [00:35<05:10,  5.13it/s]"
     ]
    },
    {
     "name": "stdout",
     "output_type": "stream",
     "text": [
      "SW-t5_dec_base_pe_none_w_scratchpad_f_ufs__i1_c1_o1_v0_r1_s2s_sum_sweep___data-s2s_sum-len_tr8_ts16\n",
      "sw_5526d06b812e57b22a66429a28bce828__146317\n",
      "https://wandb.ai/kzmnjd/len_gen/runs/sw_5526d06b812e57b22a66429a28bce828__146317\n",
      "------------------\n"
     ]
    },
    {
     "name": "stderr",
     "output_type": "stream",
     "text": [
      "  6%|▌         | 100/1682 [00:36<04:34,  5.76it/s]"
     ]
    },
    {
     "name": "stdout",
     "output_type": "stream",
     "text": [
      "SW-t5_dec_base_pe_none_w_scratchpad_f_ufs__i1_c1_o1_v1_r1_sum_sweep___data-sum-len_tr8_ts16\n",
      "sw_8a7269f84313fd31044a3cd8242d1f27__256788\n",
      "https://wandb.ai/kzmnjd/len_gen/runs/sw_8a7269f84313fd31044a3cd8242d1f27__256788\n",
      "------------------\n"
     ]
    },
    {
     "name": "stderr",
     "output_type": "stream",
     "text": [
      " 16%|█▌        | 268/1682 [00:38<00:36, 38.97it/s]"
     ]
    },
    {
     "name": "stdout",
     "output_type": "stream",
     "text": [
      "SW-t5_dec_base_pe_none_w_scratchpad_f_ufs__i1_c1_o1_v0_r1_sum_sweep___data-sum-len_tr8_ts16\n",
      "sw_0f459d631b900ad1346622ef32beeea2__256788\n",
      "https://wandb.ai/kzmnjd/len_gen/runs/sw_0f459d631b900ad1346622ef32beeea2__256788\n",
      "------------------\n",
      "SW-t5_dec_base_pe_none_w_scratchpad_f_ufs__i0_c1_o1_v1_r1_sum_sweep___data-sum-len_tr8_ts16\n",
      "sw_0b7033a5d1ad058306ab60dcbb000668__256788\n",
      "https://wandb.ai/kzmnjd/len_gen/runs/sw_0b7033a5d1ad058306ab60dcbb000668__256788\n",
      "------------------\n",
      "SW-t5_dec_base_pe_t5_w_scratchpad_f_ufs__i1_c1_o1_v1_r1_sum_sweep___data-sum-len_tr8_ts16\n",
      "sw_b35f33b8ec58179369332f50a1f37344__146317\n",
      "https://wandb.ai/kzmnjd/len_gen/runs/sw_b35f33b8ec58179369332f50a1f37344__146317\n",
      "------------------\n"
     ]
    },
    {
     "name": "stderr",
     "output_type": "stream",
     "text": [
      " 16%|█▌        | 272/1682 [00:42<01:14, 19.04it/s]"
     ]
    },
    {
     "name": "stdout",
     "output_type": "stream",
     "text": [
      "SW-t5_dec_base_pe_alibi_w_scratchpad_f_ufs__i0_c1_o1_v0_r1_s2s_lego_sweep___data-s2s_lego-len_tr8_ts16\n",
      "sw_3c3b9a4177f9b77d1e3f716ea802c8f9__146317\n",
      "https://wandb.ai/kzmnjd/len_gen/runs/sw_3c3b9a4177f9b77d1e3f716ea802c8f9__146317\n",
      "------------------\n"
     ]
    },
    {
     "name": "stderr",
     "output_type": "stream",
     "text": [
      " 24%|██▍       | 400/1682 [00:43<00:37, 34.19it/s]"
     ]
    },
    {
     "name": "stdout",
     "output_type": "stream",
     "text": [
      "SW-t5_dec_base_pe_none_w_scratchpad_f_ufs__i1_c1_o1_v0_r1_s2s_lego_sweep___data-s2s_lego-len_tr8_ts16\n",
      "sw_e50a8b3960a10d2b8f9ff9744727d853__234054\n",
      "https://wandb.ai/kzmnjd/len_gen/runs/sw_e50a8b3960a10d2b8f9ff9744727d853__234054\n",
      "------------------\n"
     ]
    },
    {
     "name": "stderr",
     "output_type": "stream",
     "text": [
      " 29%|██▉       | 486/1682 [00:45<00:30, 39.25it/s]"
     ]
    },
    {
     "name": "stdout",
     "output_type": "stream",
     "text": [
      "SW-t5_dec_base_pe_none_w_scratchpad_f_ufs__i1_c1_o0_v0_r1_s2s_lego_sweep___data-s2s_lego-len_tr8_ts16\n",
      "sw_a06c80d5a23c38b743f34c33b1c6874a__146317\n",
      "https://wandb.ai/kzmnjd/len_gen/runs/sw_a06c80d5a23c38b743f34c33b1c6874a__146317\n",
      "------------------\n"
     ]
    },
    {
     "name": "stderr",
     "output_type": "stream",
     "text": [
      " 29%|██▉       | 494/1682 [00:47<00:40, 29.69it/s]"
     ]
    },
    {
     "name": "stdout",
     "output_type": "stream",
     "text": [
      "SW-t5_dec_base_pe_t5_w_scratchpad_f_ufs__i1_c1_o1_v0_r1_s2s_lego_sweep___data-s2s_lego-len_tr8_ts16\n",
      "sw_98854403c39bd43c75450b7d733135a4__234054\n",
      "https://wandb.ai/kzmnjd/len_gen/runs/sw_98854403c39bd43c75450b7d733135a4__234054\n",
      "------------------\n"
     ]
    },
    {
     "name": "stderr",
     "output_type": "stream",
     "text": [
      "100%|██████████| 1682/1682 [00:48<00:00, 34.56it/s]\n"
     ]
    },
    {
     "data": {
      "text/plain": "37"
     },
     "execution_count": 30,
     "metadata": {},
     "output_type": "execute_result"
    }
   ],
   "source": [
    "c = 0\n",
    "for run in tqdm(runs):\n",
    "    # if run.id not in completed_runs:\n",
    "    #     continue\n",
    "    if run.job_type == \"agent\":\n",
    "        continue\n",
    "\n",
    "    # keys_not_present = []\n",
    "    # for k in target_summary_keys:\n",
    "    #     if k not in run.summary:\n",
    "    #         keys_not_present.append(k)\n",
    "    if \"pred/test_acc_overall\" in run.summary:\n",
    "        continue\n",
    "\n",
    "    print(run.group)\n",
    "    print(run.id)\n",
    "    print(run.url)\n",
    "    print(\"------------------\")\n",
    "\n",
    "    c += 1\n",
    "    # continue\n",
    "\n",
    "    h_all = list(run.scan_history())\n",
    "\n",
    "    s = {}\n",
    "    for h in h_all:\n",
    "        for k,v in h.items():\n",
    "            if k.startswith(\"pred/\"):\n",
    "                s[k] = v\n",
    "\n",
    "    run.summary.update(s)\n",
    "    run.save()\n",
    "\n",
    "c"
   ]
  }
 ],
 "metadata": {
  "kernelspec": {
   "display_name": "Python 3 (ipykernel)",
   "language": "python",
   "name": "python3"
  },
  "language_info": {
   "codemirror_mode": {
    "name": "ipython",
    "version": 3
   },
   "file_extension": ".py",
   "mimetype": "text/x-python",
   "name": "python",
   "nbconvert_exporter": "python",
   "pygments_lexer": "ipython3",
   "version": "3.9.7"
  }
 },
 "nbformat": 4,
 "nbformat_minor": 1
}
