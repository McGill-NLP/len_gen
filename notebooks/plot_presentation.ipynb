{
 "cells": [
  {
   "cell_type": "markdown",
   "metadata": {},
   "source": [
    "# Plot Scratchpad Results"
   ]
  },
  {
   "cell_type": "markdown",
   "metadata": {},
   "source": [
    "## Prerequisites"
   ]
  },
  {
   "cell_type": "code",
   "execution_count": 23,
   "metadata": {},
   "outputs": [],
   "source": [
    "import copy\n",
    "import datetime\n",
    "import importlib\n",
    "import re\n",
    "\n",
    "from pathlib import Path\n",
    "\n",
    "import numpy as np\n",
    "from tqdm import tqdm\n",
    "\n",
    "import plotnine as p9\n",
    "\n",
    "import pandas as pd\n",
    "from collections import deque\n",
    "\n",
    "from utils import add_src_to_sys_path\n",
    "\n",
    "add_src_to_sys_path()\n",
    "\n",
    "from common import wandb_utils, nest\n",
    "from common import plotnine_utils as p9u\n",
    "\n",
    "wandb_utils = importlib.reload(wandb_utils)\n",
    "p9u = importlib.reload(p9u)"
   ]
  },
  {
   "cell_type": "markdown",
   "metadata": {},
   "source": [
    "## Load the experiments"
   ]
  },
  {
   "cell_type": "code",
   "execution_count": 2,
   "metadata": {},
   "outputs": [],
   "source": [
    "tags = [\"presentation\"]"
   ]
  },
  {
   "cell_type": "code",
   "execution_count": 3,
   "metadata": {},
   "outputs": [],
   "source": [
    "plot_dir_name = \"__\".join(tags)\n",
    "output_dir = Path(\"output_plots\") / f\"{plot_dir_name}\"\n",
    "output_dir.mkdir(parents=True, exist_ok=True)"
   ]
  },
  {
   "cell_type": "code",
   "execution_count": 5,
   "metadata": {},
   "outputs": [
    {
     "data": {
      "application/vnd.jupyter.widget-view+json": {
       "model_id": "a97f3da7f75245859986a042d094efe1",
       "version_major": 2,
       "version_minor": 0
      },
      "text/plain": [
       "  0%|          | 0/401 [00:00<?, ?it/s]"
      ]
     },
     "metadata": {},
     "output_type": "display_data"
    },
    {
     "name": "stdout",
     "output_type": "stream",
     "text": [
      "Building dataframe...\n",
      "Saving results to /Users/amirhosein/Development/PycharmProjects/len_gen/results/sanity_check.jsonl\n"
     ]
    },
    {
     "data": {
      "text/plain": [
       "401"
      ]
     },
     "execution_count": 5,
     "metadata": {},
     "output_type": "execute_result"
    }
   ],
   "source": [
    "df = wandb_utils.download_and_load_results(\n",
    "    tags=tags,\n",
    "    force_download=True,\n",
    ")\n",
    "len(df)"
   ]
  },
  {
   "cell_type": "code",
   "execution_count": 6,
   "metadata": {},
   "outputs": [
    {
     "name": "stderr",
     "output_type": "stream",
     "text": [
      "100%|██████████| 401/401 [00:00<00:00, 1068.80it/s]\n"
     ]
    },
    {
     "data": {
      "text/html": [
       "<div>\n",
       "<style scoped>\n",
       "    .dataframe tbody tr th:only-of-type {\n",
       "        vertical-align: middle;\n",
       "    }\n",
       "\n",
       "    .dataframe tbody tr th {\n",
       "        vertical-align: top;\n",
       "    }\n",
       "\n",
       "    .dataframe thead th {\n",
       "        text-align: right;\n",
       "    }\n",
       "</style>\n",
       "<table border=\"1\" class=\"dataframe\">\n",
       "  <thead>\n",
       "    <tr style=\"text-align: right;\">\n",
       "      <th></th>\n",
       "      <th>scratchpad_config</th>\n",
       "      <th>ds</th>\n",
       "      <th>ds_split</th>\n",
       "      <th>dataset_name</th>\n",
       "      <th>pe</th>\n",
       "      <th>prediction_split</th>\n",
       "      <th>output_acc</th>\n",
       "      <th>seq_length</th>\n",
       "      <th>category</th>\n",
       "    </tr>\n",
       "  </thead>\n",
       "  <tbody>\n",
       "    <tr>\n",
       "      <th>0</th>\n",
       "      <td>no_scratchpad</td>\n",
       "      <td>s2s_copy</td>\n",
       "      <td>cmc2x_tr20_ts40</td>\n",
       "      <td>Copy (2x)</td>\n",
       "      <td>No PE</td>\n",
       "      <td>test</td>\n",
       "      <td>0.9220</td>\n",
       "      <td>26</td>\n",
       "      <td>26</td>\n",
       "    </tr>\n",
       "    <tr>\n",
       "      <th>1</th>\n",
       "      <td>no_scratchpad</td>\n",
       "      <td>s2s_copy</td>\n",
       "      <td>cmc2x_tr20_ts40</td>\n",
       "      <td>Copy (2x)</td>\n",
       "      <td>No PE</td>\n",
       "      <td>test</td>\n",
       "      <td>0.6460</td>\n",
       "      <td>29</td>\n",
       "      <td>29</td>\n",
       "    </tr>\n",
       "    <tr>\n",
       "      <th>2</th>\n",
       "      <td>no_scratchpad</td>\n",
       "      <td>s2s_copy</td>\n",
       "      <td>cmc2x_tr20_ts40</td>\n",
       "      <td>Copy (2x)</td>\n",
       "      <td>No PE</td>\n",
       "      <td>test</td>\n",
       "      <td>0.0000</td>\n",
       "      <td>39</td>\n",
       "      <td>39</td>\n",
       "    </tr>\n",
       "    <tr>\n",
       "      <th>3</th>\n",
       "      <td>no_scratchpad</td>\n",
       "      <td>s2s_copy</td>\n",
       "      <td>cmc2x_tr20_ts40</td>\n",
       "      <td>Copy (2x)</td>\n",
       "      <td>No PE</td>\n",
       "      <td>validation</td>\n",
       "      <td>0.9872</td>\n",
       "      <td>16</td>\n",
       "      <td>16</td>\n",
       "    </tr>\n",
       "    <tr>\n",
       "      <th>4</th>\n",
       "      <td>no_scratchpad</td>\n",
       "      <td>s2s_copy</td>\n",
       "      <td>cmc2x_tr20_ts40</td>\n",
       "      <td>Copy (2x)</td>\n",
       "      <td>No PE</td>\n",
       "      <td>test</td>\n",
       "      <td>0.1420</td>\n",
       "      <td>32</td>\n",
       "      <td>32</td>\n",
       "    </tr>\n",
       "    <tr>\n",
       "      <th>...</th>\n",
       "      <td>...</td>\n",
       "      <td>...</td>\n",
       "      <td>...</td>\n",
       "      <td>...</td>\n",
       "      <td>...</td>\n",
       "      <td>...</td>\n",
       "      <td>...</td>\n",
       "      <td>...</td>\n",
       "      <td>...</td>\n",
       "    </tr>\n",
       "    <tr>\n",
       "      <th>4915</th>\n",
       "      <td>no_scratchpad</td>\n",
       "      <td>s2s_copy</td>\n",
       "      <td>rsc_tr20_ts40</td>\n",
       "      <td>Copy (Repeat)</td>\n",
       "      <td>No PE</td>\n",
       "      <td>validation</td>\n",
       "      <td>0.9973</td>\n",
       "      <td>8</td>\n",
       "      <td>8</td>\n",
       "    </tr>\n",
       "    <tr>\n",
       "      <th>4916</th>\n",
       "      <td>no_scratchpad</td>\n",
       "      <td>s2s_copy</td>\n",
       "      <td>rsc_tr20_ts40</td>\n",
       "      <td>Copy (Repeat)</td>\n",
       "      <td>No PE</td>\n",
       "      <td>test</td>\n",
       "      <td>0.9960</td>\n",
       "      <td>30</td>\n",
       "      <td>30</td>\n",
       "    </tr>\n",
       "    <tr>\n",
       "      <th>4917</th>\n",
       "      <td>no_scratchpad</td>\n",
       "      <td>s2s_copy</td>\n",
       "      <td>rsc_tr20_ts40</td>\n",
       "      <td>Copy (Repeat)</td>\n",
       "      <td>No PE</td>\n",
       "      <td>test</td>\n",
       "      <td>0.9940</td>\n",
       "      <td>31</td>\n",
       "      <td>31</td>\n",
       "    </tr>\n",
       "    <tr>\n",
       "      <th>4918</th>\n",
       "      <td>no_scratchpad</td>\n",
       "      <td>s2s_copy</td>\n",
       "      <td>rsc_tr20_ts40</td>\n",
       "      <td>Copy (Repeat)</td>\n",
       "      <td>No PE</td>\n",
       "      <td>test</td>\n",
       "      <td>0.9980</td>\n",
       "      <td>23</td>\n",
       "      <td>23</td>\n",
       "    </tr>\n",
       "    <tr>\n",
       "      <th>4919</th>\n",
       "      <td>no_scratchpad</td>\n",
       "      <td>s2s_copy</td>\n",
       "      <td>rsc_tr20_ts40</td>\n",
       "      <td>Copy (Repeat)</td>\n",
       "      <td>No PE</td>\n",
       "      <td>validation</td>\n",
       "      <td>0.9973</td>\n",
       "      <td>20</td>\n",
       "      <td>20</td>\n",
       "    </tr>\n",
       "  </tbody>\n",
       "</table>\n",
       "<p>4920 rows × 9 columns</p>\n",
       "</div>"
      ],
      "text/plain": [
       "     scratchpad_config        ds         ds_split   dataset_name     pe  \\\n",
       "0        no_scratchpad  s2s_copy  cmc2x_tr20_ts40      Copy (2x)  No PE   \n",
       "1        no_scratchpad  s2s_copy  cmc2x_tr20_ts40      Copy (2x)  No PE   \n",
       "2        no_scratchpad  s2s_copy  cmc2x_tr20_ts40      Copy (2x)  No PE   \n",
       "3        no_scratchpad  s2s_copy  cmc2x_tr20_ts40      Copy (2x)  No PE   \n",
       "4        no_scratchpad  s2s_copy  cmc2x_tr20_ts40      Copy (2x)  No PE   \n",
       "...                ...       ...              ...            ...    ...   \n",
       "4915     no_scratchpad  s2s_copy    rsc_tr20_ts40  Copy (Repeat)  No PE   \n",
       "4916     no_scratchpad  s2s_copy    rsc_tr20_ts40  Copy (Repeat)  No PE   \n",
       "4917     no_scratchpad  s2s_copy    rsc_tr20_ts40  Copy (Repeat)  No PE   \n",
       "4918     no_scratchpad  s2s_copy    rsc_tr20_ts40  Copy (Repeat)  No PE   \n",
       "4919     no_scratchpad  s2s_copy    rsc_tr20_ts40  Copy (Repeat)  No PE   \n",
       "\n",
       "     prediction_split  output_acc  seq_length category  \n",
       "0                test      0.9220          26       26  \n",
       "1                test      0.6460          29       29  \n",
       "2                test      0.0000          39       39  \n",
       "3          validation      0.9872          16       16  \n",
       "4                test      0.1420          32       32  \n",
       "...               ...         ...         ...      ...  \n",
       "4915       validation      0.9973           8        8  \n",
       "4916             test      0.9960          30       30  \n",
       "4917             test      0.9940          31       31  \n",
       "4918             test      0.9980          23       23  \n",
       "4919       validation      0.9973          20       20  \n",
       "\n",
       "[4920 rows x 9 columns]"
      ]
     },
     "execution_count": 6,
     "metadata": {},
     "output_type": "execute_result"
    }
   ],
   "source": [
    "scratchpad_config_pattern = re.compile(r\"(.)*_scratchpad(.)+_ufs__(i._c._o._v._r.)_.*___.*\")\n",
    "\n",
    "overall_acc_pattern = re.compile(r\"pred\\/(\\w+)_acc_(.+)\")\n",
    "scratchpad_acc_pattern = re.compile(r\"pred\\/(\\w+)__(\\w+)_(\\w+)\")\n",
    "\n",
    "\n",
    "def get_split(key: str) -> str:\n",
    "    if \"test\" in key:\n",
    "        return \"test\"\n",
    "    elif \"valid\" in key:\n",
    "        return \"validation\"\n",
    "    else:\n",
    "        raise ValueError()\n",
    "\n",
    "\n",
    "def get_category(ds, ds_split, key: str) -> int:\n",
    "    if key == \"overall\":\n",
    "        return -1\n",
    "    if \"-by-\" in key:\n",
    "        a, b = key.split(\"-by-\")\n",
    "        a, b = int(a), int(b)\n",
    "        return max(a, b)\n",
    "    else:\n",
    "        return int(key)\n",
    "\n",
    "\n",
    "\n",
    "xdf_data = deque()\n",
    "for i, row in tqdm(df.iterrows(), total=len(df)):\n",
    "    if row[\"job_type\"] != \"best_run_seed_exp\":\n",
    "        continue\n",
    "\n",
    "    group = row[\"run_group\"]\n",
    "\n",
    "    scratchpad_config = \"no_scratchpad\"\n",
    "    result = scratchpad_config_pattern.search(group)\n",
    "    if result:\n",
    "        scratchpad_config = result.group(3)\n",
    "\n",
    "    dataset_name = row[\"cfg__dataset.name\"]\n",
    "    dataset_split = row[\"cfg__dataset.split\"]\n",
    "    dataset_pretty = wandb_utils.get_pretty_dataset_name(dataset_name, dataset_split)\n",
    "\n",
    "    pe_name = wandb_utils.get_pretty_pe_name(row[\"cfg__model.position_encoding_type\"])\n",
    "\n",
    "    # Overall Accuracy\n",
    "    for k, v in row.items():\n",
    "        if np.all(pd.isnull(v)):\n",
    "            continue\n",
    "            \n",
    "#         if k != \"sum__pred/test_seq_acc\":\n",
    "#             continue\n",
    "\n",
    "        if k.startswith(\"sum__pred/\"):\n",
    "            prediction_split = get_split(k)\n",
    "            if \"_acc_\" in k:\n",
    "                o = overall_acc_pattern.search(k)\n",
    "                category = o.group(2)\n",
    "                length = get_category(dataset_name, dataset_split, category)\n",
    "                metric = \"output_acc\"\n",
    "            else:\n",
    "                k2 = k.replace(\"__overall\", \"_overall\")\n",
    "                o = scratchpad_acc_pattern.search(k)\n",
    "                if o is None:\n",
    "                    continue\n",
    "\n",
    "                category = o.group(3)\n",
    "                length = get_category(dataset_name, dataset_split, category)\n",
    "                metric = o.group(2)\n",
    "\n",
    "            # d = copy.deepcopy(row.to_dict())\n",
    "            xdf_data.append({\n",
    "                \"scratchpad_config\": scratchpad_config,\n",
    "                \"ds\": dataset_name,\n",
    "                \"ds_split\": dataset_split,\n",
    "                \"dataset_name\": dataset_pretty,\n",
    "                \"pe\": pe_name,\n",
    "                \"prediction_split\": prediction_split,\n",
    "                metric: float(v),\n",
    "                \"seq_length\": length,\n",
    "                \"category\": category\n",
    "            })\n",
    "\n",
    "oxdf = pd.DataFrame.from_records(xdf_data)\n",
    "oxdf"
   ]
  },
  {
   "cell_type": "markdown",
   "metadata": {},
   "source": [
    "## Plot LLM context window size"
   ]
  },
  {
   "cell_type": "code",
   "execution_count": 58,
   "metadata": {},
   "outputs": [
    {
     "name": "stderr",
     "output_type": "stream",
     "text": [
      "/usr/local/miniconda3/envs/comp-gen_v2/lib/python3.9/site-packages/plotnine/ggplot.py:718: PlotnineWarning: Saving 15 x 8 in image.\n",
      "/usr/local/miniconda3/envs/comp-gen_v2/lib/python3.9/site-packages/plotnine/ggplot.py:719: PlotnineWarning: Filename: output_plots/presentation/context_size.pdf\n"
     ]
    },
    {
     "data": {
      "image/png": "[encoded data removed]",
      "text/plain": [
       "<Figure size 1500x800 with 1 Axes>"
      ]
     },
     "metadata": {},
     "output_type": "display_data"
    },
    {
     "data": {
      "text/plain": [
       "<ggplot: (8793513344413)>"
      ]
     },
     "execution_count": 58,
     "metadata": {},
     "output_type": "execute_result"
    }
   ],
   "source": [
    "from matplotlib import rc\n",
    "rc('text', usetex=True)\n",
    "\n",
    "pdf_data = {\n",
    "    \"llm\": [\"OPT\", \"PaLM\", \"BLOOM\", \"LLaMA\", \"GPT3.5\", \"GPT4\", \"GPT4-Long\"],\n",
    "    \"context_size\": [2048, 2048, 2048, 2048, 4096, 8192, 32000],\n",
    "}\n",
    "pdf = pd.DataFrame.from_dict(pdf_data)\n",
    "pdf[\"llm\"] = pdf[\"llm\"].astype(\"category\")\n",
    "pdf[\"llm\"] = pdf[\"llm\"].cat.reorder_categories([\"OPT\", \"PaLM\", \"BLOOM\", \"LLaMA\", \"GPT3.5\", \"GPT4\", \"GPT4-Long\"])\n",
    "\n",
    "p9 = importlib.reload(p9)\n",
    "\n",
    "p = (\n",
    "    p9.ggplot(pdf, p9.aes(x=\"llm\", y=\"context_size\", fill=\"llm\"))\n",
    "    + p9.geom_col(\n",
    "        color=\"black\",\n",
    "        size=1,\n",
    "        width=0.6,\n",
    "    )\n",
    "    + p9.scale_y_continuous(\n",
    "        breaks=[0] + sorted(set(pdf[\"context_size\"].tolist())),\n",
    "        labels=[\"0\"]+[str(c) if c != 32000 else str(\"32K\") for c in sorted(set(pdf[\"context_size\"].tolist()))],\n",
    "#         expand = (0, 0)\n",
    "    )\n",
    "    + p9.labs(\n",
    "        x=None,\n",
    "        y=r\"\\textbf{Training} Context Size (Number of Tokens)\",\n",
    "        color=None,\n",
    "        fill=None,\n",
    "    )\n",
    "    + p9u.scale_fill_prism(\"mila_purples_reverse\")\n",
    "#     + p9u.scale_color_prism(\"formal\")\n",
    "    #         + p9.theme_light()\n",
    "    + p9u.theme_formal(grid=\"Y\", axis_text_size=28, base_family=\"Computer Modern Sans serif\")\n",
    "#     + p9.theme_minimal()\n",
    "#     + p9u.theme_ipsum(grid=\"XY\", base_family=\"Times New Roman\", axis_title_size=12, axis_text_size=12)\n",
    "    + p9.theme(\n",
    "        #             plot_margin=0,\n",
    "#         text=p9.element_text(size=10),\n",
    "#         panel_spacing=,\n",
    "        legend_position=\"none\",\n",
    "        # legend_box=\"vertical\",\n",
    "        axis_title=p9.element_text(size=28),\n",
    "        axis_title_y=p9.element_text(margin=dict(r=30)),\n",
    "        figure_size=(15, 8),\n",
    "    )\n",
    ")\n",
    "p.save(output_dir / f\"context_size.pdf\", dpi=300)\n",
    "p"
   ]
  },
  {
   "cell_type": "code",
   "execution_count": null,
   "metadata": {},
   "outputs": [],
   "source": []
  },
  {
   "cell_type": "markdown",
   "metadata": {},
   "source": [
    "## Set Dataset"
   ]
  },
  {
   "cell_type": "code",
   "execution_count": 7,
   "metadata": {},
   "outputs": [
    {
     "data": {
      "text/plain": [
       "array(['s2s_copy', 's2s_reverse'], dtype=object)"
      ]
     },
     "execution_count": 7,
     "metadata": {},
     "output_type": "execute_result"
    }
   ],
   "source": [
    "oxdf[\"ds\"].unique()"
   ]
  },
  {
   "cell_type": "code",
   "execution_count": 8,
   "metadata": {},
   "outputs": [
    {
     "data": {
      "text/plain": [
       "array(['cmc2x_tr20_ts40', 'rsc2x_tr20_ts40', 'rdc_tr20_ts40',\n",
       "       'cmc_tr20_ts40', 'mc2x_tr20_ts40', 'mcrv_tr20_ts40',\n",
       "       'mc_tr20_ts40', 'rsc_tr20_ts40'], dtype=object)"
      ]
     },
     "execution_count": 8,
     "metadata": {},
     "output_type": "execute_result"
    }
   ],
   "source": [
    "oxdf[\"ds_split\"].unique()"
   ]
  },
  {
   "cell_type": "code",
   "execution_count": 9,
   "metadata": {},
   "outputs": [
    {
     "data": {
      "text/plain": [
       "4920"
      ]
     },
     "execution_count": 9,
     "metadata": {},
     "output_type": "execute_result"
    }
   ],
   "source": [
    "xdf = oxdf\n",
    "xdf = xdf[(xdf[\"pe\"] != \"Rotary (Fixed)\")]\n",
    "len(xdf)"
   ]
  }
 ],
 "metadata": {
  "kernelspec": {
   "display_name": "Python 3 (ipykernel)",
   "language": "python",
   "name": "python3"
  },
  "language_info": {
   "codemirror_mode": {
    "name": "ipython",
    "version": 3
   },
   "file_extension": ".py",
   "mimetype": "text/x-python",
   "name": "python",
   "nbconvert_exporter": "python",
   "pygments_lexer": "ipython3",
   "version": "3.9.7"
  }
 },
 "nbformat": 4,
 "nbformat_minor": 1
}
