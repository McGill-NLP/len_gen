{
 "cells": [
  {
   "cell_type": "markdown",
   "metadata": {},
   "source": [
    "# Check the status of uploaded experiments"
   ]
  },
  {
   "cell_type": "markdown",
   "metadata": {},
   "source": [
    "## Prerequisites"
   ]
  },
  {
   "cell_type": "code",
   "execution_count": 1,
   "metadata": {},
   "outputs": [
    {
     "ename": "KeyboardInterrupt",
     "evalue": "",
     "output_type": "error",
     "traceback": [
      "\u001B[0;31m---------------------------------------------------------------------------\u001B[0m",
      "\u001B[0;31mKeyboardInterrupt\u001B[0m                         Traceback (most recent call last)",
      "\u001B[0;32m/var/folders/1v/7yt3f78s4xq7g51lj7r4v9800000gn/T/ipykernel_31862/713845750.py\u001B[0m in \u001B[0;36m<module>\u001B[0;34m\u001B[0m\n\u001B[1;32m      4\u001B[0m \u001B[0;32mfrom\u001B[0m \u001B[0mtqdm\u001B[0m \u001B[0;32mimport\u001B[0m \u001B[0mtqdm\u001B[0m\u001B[0;34m\u001B[0m\u001B[0;34m\u001B[0m\u001B[0m\n\u001B[1;32m      5\u001B[0m \u001B[0;34m\u001B[0m\u001B[0m\n\u001B[0;32m----> 6\u001B[0;31m \u001B[0;32mimport\u001B[0m \u001B[0mplotnine\u001B[0m \u001B[0;32mas\u001B[0m \u001B[0mp9\u001B[0m\u001B[0;34m\u001B[0m\u001B[0;34m\u001B[0m\u001B[0m\n\u001B[0m\u001B[1;32m      7\u001B[0m \u001B[0;34m\u001B[0m\u001B[0m\n\u001B[1;32m      8\u001B[0m \u001B[0;32mimport\u001B[0m \u001B[0mpandas\u001B[0m \u001B[0;32mas\u001B[0m \u001B[0mpd\u001B[0m\u001B[0;34m\u001B[0m\u001B[0;34m\u001B[0m\u001B[0m\n",
      "\u001B[0;32m/usr/local/miniconda3/envs/comp-gen_v2/lib/python3.9/site-packages/plotnine/__init__.py\u001B[0m in \u001B[0;36m<module>\u001B[0;34m\u001B[0m\n\u001B[0;32m----> 1\u001B[0;31m \u001B[0;32mfrom\u001B[0m \u001B[0;34m.\u001B[0m\u001B[0mqplot\u001B[0m \u001B[0;32mimport\u001B[0m \u001B[0mqplot\u001B[0m            \u001B[0;31m# noqa: F401\u001B[0m\u001B[0;34m\u001B[0m\u001B[0;34m\u001B[0m\u001B[0m\n\u001B[0m\u001B[1;32m      2\u001B[0m \u001B[0;32mfrom\u001B[0m \u001B[0;34m.\u001B[0m\u001B[0mggplot\u001B[0m \u001B[0;32mimport\u001B[0m \u001B[0mggplot\u001B[0m\u001B[0;34m,\u001B[0m \u001B[0mggsave\u001B[0m  \u001B[0;31m# noqa: F401\u001B[0m\u001B[0;34m\u001B[0m\u001B[0;34m\u001B[0m\u001B[0m\n\u001B[1;32m      3\u001B[0m \u001B[0;32mfrom\u001B[0m \u001B[0;34m.\u001B[0m\u001B[0mggplot\u001B[0m \u001B[0;32mimport\u001B[0m \u001B[0msave_as_pdf_pages\u001B[0m  \u001B[0;31m# noqa: F401\u001B[0m\u001B[0;34m\u001B[0m\u001B[0;34m\u001B[0m\u001B[0m\n\u001B[1;32m      4\u001B[0m \u001B[0;32mfrom\u001B[0m \u001B[0;34m.\u001B[0m\u001B[0mwatermark\u001B[0m \u001B[0;32mimport\u001B[0m \u001B[0mwatermark\u001B[0m    \u001B[0;31m# noqa: F401\u001B[0m\u001B[0;34m\u001B[0m\u001B[0;34m\u001B[0m\u001B[0m\n\u001B[1;32m      5\u001B[0m \u001B[0;32mfrom\u001B[0m \u001B[0;34m.\u001B[0m\u001B[0mmapping\u001B[0m \u001B[0;32mimport\u001B[0m \u001B[0;34m*\u001B[0m              \u001B[0;31m# noqa: F401,F403,E261\u001B[0m\u001B[0;34m\u001B[0m\u001B[0;34m\u001B[0m\u001B[0m\n",
      "\u001B[0;32m/usr/local/miniconda3/envs/comp-gen_v2/lib/python3.9/site-packages/plotnine/qplot.py\u001B[0m in \u001B[0;36m<module>\u001B[0;34m\u001B[0m\n\u001B[1;32m      7\u001B[0m \u001B[0;32mfrom\u001B[0m \u001B[0mpatsy\u001B[0m\u001B[0;34m.\u001B[0m\u001B[0meval\u001B[0m \u001B[0;32mimport\u001B[0m \u001B[0mEvalEnvironment\u001B[0m\u001B[0;34m\u001B[0m\u001B[0;34m\u001B[0m\u001B[0m\n\u001B[1;32m      8\u001B[0m \u001B[0;34m\u001B[0m\u001B[0m\n\u001B[0;32m----> 9\u001B[0;31m \u001B[0;32mfrom\u001B[0m \u001B[0;34m.\u001B[0m\u001B[0mggplot\u001B[0m \u001B[0;32mimport\u001B[0m \u001B[0mggplot\u001B[0m\u001B[0;34m\u001B[0m\u001B[0;34m\u001B[0m\u001B[0m\n\u001B[0m\u001B[1;32m     10\u001B[0m \u001B[0;32mfrom\u001B[0m \u001B[0;34m.\u001B[0m\u001B[0mmapping\u001B[0m\u001B[0;34m.\u001B[0m\u001B[0maes\u001B[0m \u001B[0;32mimport\u001B[0m \u001B[0maes\u001B[0m\u001B[0;34m,\u001B[0m \u001B[0mALL_AESTHETICS\u001B[0m\u001B[0;34m,\u001B[0m \u001B[0mSCALED_AESTHETICS\u001B[0m\u001B[0;34m\u001B[0m\u001B[0;34m\u001B[0m\u001B[0m\n\u001B[1;32m     11\u001B[0m \u001B[0;32mfrom\u001B[0m \u001B[0;34m.\u001B[0m\u001B[0mlabels\u001B[0m \u001B[0;32mimport\u001B[0m \u001B[0mlabs\u001B[0m\u001B[0;34m\u001B[0m\u001B[0;34m\u001B[0m\u001B[0m\n",
      "\u001B[0;32m/usr/local/miniconda3/envs/comp-gen_v2/lib/python3.9/site-packages/plotnine/ggplot.py\u001B[0m in \u001B[0;36m<module>\u001B[0;34m\u001B[0m\n\u001B[1;32m     16\u001B[0m \u001B[0;32mfrom\u001B[0m \u001B[0;34m.\u001B[0m\u001B[0mmapping\u001B[0m\u001B[0;34m.\u001B[0m\u001B[0maes\u001B[0m \u001B[0;32mimport\u001B[0m \u001B[0maes\u001B[0m\u001B[0;34m,\u001B[0m \u001B[0mmake_labels\u001B[0m\u001B[0;34m\u001B[0m\u001B[0;34m\u001B[0m\u001B[0m\n\u001B[1;32m     17\u001B[0m \u001B[0;32mfrom\u001B[0m \u001B[0;34m.\u001B[0m\u001B[0mlayer\u001B[0m \u001B[0;32mimport\u001B[0m \u001B[0mLayers\u001B[0m\u001B[0;34m\u001B[0m\u001B[0;34m\u001B[0m\u001B[0m\n\u001B[0;32m---> 18\u001B[0;31m \u001B[0;32mfrom\u001B[0m \u001B[0;34m.\u001B[0m\u001B[0mfacets\u001B[0m \u001B[0;32mimport\u001B[0m \u001B[0mfacet_null\u001B[0m\u001B[0;34m\u001B[0m\u001B[0;34m\u001B[0m\u001B[0m\n\u001B[0m\u001B[1;32m     19\u001B[0m \u001B[0;32mfrom\u001B[0m \u001B[0;34m.\u001B[0m\u001B[0mfacets\u001B[0m\u001B[0;34m.\u001B[0m\u001B[0mlayout\u001B[0m \u001B[0;32mimport\u001B[0m \u001B[0mLayout\u001B[0m\u001B[0;34m\u001B[0m\u001B[0;34m\u001B[0m\u001B[0m\n\u001B[1;32m     20\u001B[0m \u001B[0;32mfrom\u001B[0m \u001B[0;34m.\u001B[0m\u001B[0moptions\u001B[0m \u001B[0;32mimport\u001B[0m \u001B[0mget_option\u001B[0m\u001B[0;34m,\u001B[0m \u001B[0mSUBPLOTS_ADJUST\u001B[0m\u001B[0;34m\u001B[0m\u001B[0;34m\u001B[0m\u001B[0m\n",
      "\u001B[0;32m/usr/local/miniconda3/envs/comp-gen_v2/lib/python3.9/site-packages/plotnine/facets/__init__.py\u001B[0m in \u001B[0;36m<module>\u001B[0;34m\u001B[0m\n\u001B[1;32m      2\u001B[0m \u001B[0mFacets\u001B[0m\u001B[0;34m\u001B[0m\u001B[0;34m\u001B[0m\u001B[0m\n\u001B[1;32m      3\u001B[0m \"\"\"\n\u001B[0;32m----> 4\u001B[0;31m \u001B[0;32mfrom\u001B[0m \u001B[0;34m.\u001B[0m\u001B[0mfacet_grid\u001B[0m \u001B[0;32mimport\u001B[0m \u001B[0mfacet_grid\u001B[0m\u001B[0;34m\u001B[0m\u001B[0;34m\u001B[0m\u001B[0m\n\u001B[0m\u001B[1;32m      5\u001B[0m \u001B[0;32mfrom\u001B[0m \u001B[0;34m.\u001B[0m\u001B[0mfacet_null\u001B[0m \u001B[0;32mimport\u001B[0m \u001B[0mfacet_null\u001B[0m\u001B[0;34m\u001B[0m\u001B[0;34m\u001B[0m\u001B[0m\n\u001B[1;32m      6\u001B[0m \u001B[0;32mfrom\u001B[0m \u001B[0;34m.\u001B[0m\u001B[0mfacet_wrap\u001B[0m \u001B[0;32mimport\u001B[0m \u001B[0mfacet_wrap\u001B[0m\u001B[0;34m\u001B[0m\u001B[0;34m\u001B[0m\u001B[0m\n",
      "\u001B[0;32m/usr/local/miniconda3/envs/comp-gen_v2/lib/python3.9/site-packages/plotnine/facets/facet_grid.py\u001B[0m in \u001B[0;36m<module>\u001B[0;34m\u001B[0m\n\u001B[1;32m      4\u001B[0m \u001B[0;32mfrom\u001B[0m \u001B[0;34m.\u001B[0m\u001B[0;34m.\u001B[0m\u001B[0mutils\u001B[0m \u001B[0;32mimport\u001B[0m \u001B[0mmatch\u001B[0m\u001B[0;34m,\u001B[0m \u001B[0mjoin_keys\u001B[0m\u001B[0;34m\u001B[0m\u001B[0;34m\u001B[0m\u001B[0m\n\u001B[1;32m      5\u001B[0m \u001B[0;32mfrom\u001B[0m \u001B[0;34m.\u001B[0m\u001B[0;34m.\u001B[0m\u001B[0mexceptions\u001B[0m \u001B[0;32mimport\u001B[0m \u001B[0mPlotnineError\u001B[0m\u001B[0;34m\u001B[0m\u001B[0;34m\u001B[0m\u001B[0m\n\u001B[0;32m----> 6\u001B[0;31m \u001B[0;32mfrom\u001B[0m \u001B[0;34m.\u001B[0m\u001B[0mfacet\u001B[0m \u001B[0;32mimport\u001B[0m \u001B[0mfacet\u001B[0m\u001B[0;34m,\u001B[0m \u001B[0mlayout_null\u001B[0m\u001B[0;34m,\u001B[0m \u001B[0mcombine_vars\u001B[0m\u001B[0;34m,\u001B[0m \u001B[0madd_missing_facets\u001B[0m\u001B[0;34m\u001B[0m\u001B[0;34m\u001B[0m\u001B[0m\n\u001B[0m\u001B[1;32m      7\u001B[0m \u001B[0;32mfrom\u001B[0m \u001B[0;34m.\u001B[0m\u001B[0mfacet\u001B[0m \u001B[0;32mimport\u001B[0m \u001B[0meval_facet_vars\u001B[0m\u001B[0;34m\u001B[0m\u001B[0;34m\u001B[0m\u001B[0m\n\u001B[1;32m      8\u001B[0m \u001B[0;32mfrom\u001B[0m \u001B[0;34m.\u001B[0m\u001B[0mstrips\u001B[0m \u001B[0;32mimport\u001B[0m \u001B[0mstrip\u001B[0m\u001B[0;34m\u001B[0m\u001B[0;34m\u001B[0m\u001B[0m\n",
      "\u001B[0;32m/usr/local/miniconda3/envs/comp-gen_v2/lib/python3.9/site-packages/plotnine/facets/facet.py\u001B[0m in \u001B[0;36m<module>\u001B[0;34m\u001B[0m\n\u001B[1;32m     12\u001B[0m \u001B[0;32mfrom\u001B[0m \u001B[0;34m.\u001B[0m\u001B[0;34m.\u001B[0m\u001B[0mutils\u001B[0m \u001B[0;32mimport\u001B[0m \u001B[0mcross_join\u001B[0m\u001B[0;34m,\u001B[0m \u001B[0mmatch\u001B[0m\u001B[0;34m\u001B[0m\u001B[0;34m\u001B[0m\u001B[0m\n\u001B[1;32m     13\u001B[0m \u001B[0;32mfrom\u001B[0m \u001B[0;34m.\u001B[0m\u001B[0;34m.\u001B[0m\u001B[0mexceptions\u001B[0m \u001B[0;32mimport\u001B[0m \u001B[0mPlotnineError\u001B[0m\u001B[0;34m,\u001B[0m \u001B[0mPlotnineWarning\u001B[0m\u001B[0;34m\u001B[0m\u001B[0;34m\u001B[0m\u001B[0m\n\u001B[0;32m---> 14\u001B[0;31m \u001B[0;32mfrom\u001B[0m \u001B[0;34m.\u001B[0m\u001B[0;34m.\u001B[0m\u001B[0mscales\u001B[0m\u001B[0;34m.\u001B[0m\u001B[0mscales\u001B[0m \u001B[0;32mimport\u001B[0m \u001B[0mScales\u001B[0m\u001B[0;34m\u001B[0m\u001B[0;34m\u001B[0m\u001B[0m\n\u001B[0m\u001B[1;32m     15\u001B[0m \u001B[0;34m\u001B[0m\u001B[0m\n\u001B[1;32m     16\u001B[0m \u001B[0;31m# For default matplotlib backend\u001B[0m\u001B[0;34m\u001B[0m\u001B[0;34m\u001B[0m\u001B[0m\n",
      "\u001B[0;32m/usr/local/miniconda3/envs/comp-gen_v2/lib/python3.9/site-packages/plotnine/scales/__init__.py\u001B[0m in \u001B[0;36m<module>\u001B[0;34m\u001B[0m\n\u001B[1;32m      3\u001B[0m \"\"\"\n\u001B[1;32m      4\u001B[0m \u001B[0;31m# alpha\u001B[0m\u001B[0;34m\u001B[0m\u001B[0;34m\u001B[0m\u001B[0m\n\u001B[0;32m----> 5\u001B[0;31m \u001B[0;32mfrom\u001B[0m \u001B[0;34m.\u001B[0m\u001B[0mscale_alpha\u001B[0m \u001B[0;32mimport\u001B[0m \u001B[0mscale_alpha\u001B[0m\u001B[0;34m\u001B[0m\u001B[0;34m\u001B[0m\u001B[0m\n\u001B[0m\u001B[1;32m      6\u001B[0m \u001B[0;32mfrom\u001B[0m \u001B[0;34m.\u001B[0m\u001B[0mscale_alpha\u001B[0m \u001B[0;32mimport\u001B[0m \u001B[0mscale_alpha_continuous\u001B[0m\u001B[0;34m\u001B[0m\u001B[0;34m\u001B[0m\u001B[0m\n\u001B[1;32m      7\u001B[0m \u001B[0;32mfrom\u001B[0m \u001B[0;34m.\u001B[0m\u001B[0mscale_alpha\u001B[0m \u001B[0;32mimport\u001B[0m \u001B[0mscale_alpha_ordinal\u001B[0m\u001B[0;34m\u001B[0m\u001B[0;34m\u001B[0m\u001B[0m\n",
      "\u001B[0;32m/usr/local/miniconda3/envs/comp-gen_v2/lib/python3.9/site-packages/plotnine/scales/scale_alpha.py\u001B[0m in \u001B[0;36m<module>\u001B[0;34m\u001B[0m\n\u001B[1;32m      7\u001B[0m \u001B[0;32mfrom\u001B[0m \u001B[0;34m.\u001B[0m\u001B[0;34m.\u001B[0m\u001B[0mutils\u001B[0m \u001B[0;32mimport\u001B[0m \u001B[0malias\u001B[0m\u001B[0;34m\u001B[0m\u001B[0;34m\u001B[0m\u001B[0m\n\u001B[1;32m      8\u001B[0m \u001B[0;32mfrom\u001B[0m \u001B[0;34m.\u001B[0m\u001B[0;34m.\u001B[0m\u001B[0mexceptions\u001B[0m \u001B[0;32mimport\u001B[0m \u001B[0mPlotnineWarning\u001B[0m\u001B[0;34m\u001B[0m\u001B[0;34m\u001B[0m\u001B[0m\n\u001B[0;32m----> 9\u001B[0;31m \u001B[0;32mfrom\u001B[0m \u001B[0;34m.\u001B[0m\u001B[0mscale\u001B[0m \u001B[0;32mimport\u001B[0m \u001B[0mscale_discrete\u001B[0m\u001B[0;34m,\u001B[0m \u001B[0mscale_continuous\u001B[0m\u001B[0;34m,\u001B[0m \u001B[0mscale_datetime\u001B[0m\u001B[0;34m\u001B[0m\u001B[0;34m\u001B[0m\u001B[0m\n\u001B[0m\u001B[1;32m     10\u001B[0m \u001B[0;34m\u001B[0m\u001B[0m\n\u001B[1;32m     11\u001B[0m \u001B[0;34m\u001B[0m\u001B[0m\n",
      "\u001B[0;32m/usr/local/miniconda3/envs/comp-gen_v2/lib/python3.9/site-packages/plotnine/scales/scale.py\u001B[0m in \u001B[0;36m<module>\u001B[0;34m\u001B[0m\n\u001B[1;32m     11\u001B[0m \u001B[0;32mfrom\u001B[0m \u001B[0mmizani\u001B[0m\u001B[0;34m.\u001B[0m\u001B[0mbreaks\u001B[0m \u001B[0;32mimport\u001B[0m \u001B[0mdate_breaks\u001B[0m\u001B[0;34m\u001B[0m\u001B[0;34m\u001B[0m\u001B[0m\n\u001B[1;32m     12\u001B[0m \u001B[0;32mfrom\u001B[0m \u001B[0mmizani\u001B[0m\u001B[0;34m.\u001B[0m\u001B[0mformatters\u001B[0m \u001B[0;32mimport\u001B[0m \u001B[0mdate_format\u001B[0m\u001B[0;34m\u001B[0m\u001B[0;34m\u001B[0m\u001B[0m\n\u001B[0;32m---> 13\u001B[0;31m \u001B[0;32mfrom\u001B[0m \u001B[0mmizani\u001B[0m\u001B[0;34m.\u001B[0m\u001B[0mtransforms\u001B[0m \u001B[0;32mimport\u001B[0m \u001B[0mgettrans\u001B[0m\u001B[0;34m\u001B[0m\u001B[0;34m\u001B[0m\u001B[0m\n\u001B[0m\u001B[1;32m     14\u001B[0m \u001B[0;34m\u001B[0m\u001B[0m\n\u001B[1;32m     15\u001B[0m \u001B[0;32mfrom\u001B[0m \u001B[0;34m.\u001B[0m\u001B[0;34m.\u001B[0m\u001B[0mmapping\u001B[0m\u001B[0;34m.\u001B[0m\u001B[0maes\u001B[0m \u001B[0;32mimport\u001B[0m \u001B[0mis_position_aes\u001B[0m\u001B[0;34m,\u001B[0m \u001B[0mrename_aesthetics\u001B[0m\u001B[0;34m\u001B[0m\u001B[0;34m\u001B[0m\u001B[0m\n",
      "\u001B[0;32m/usr/local/miniconda3/envs/comp-gen_v2/lib/python3.9/site-packages/mizani/transforms.py\u001B[0m in \u001B[0;36m<module>\u001B[0;34m\u001B[0m\n\u001B[1;32m     32\u001B[0m \u001B[0;32mimport\u001B[0m \u001B[0mnumpy\u001B[0m \u001B[0;32mas\u001B[0m \u001B[0mnp\u001B[0m\u001B[0;34m\u001B[0m\u001B[0;34m\u001B[0m\u001B[0m\n\u001B[1;32m     33\u001B[0m \u001B[0;32mimport\u001B[0m \u001B[0mpandas\u001B[0m \u001B[0;32mas\u001B[0m \u001B[0mpd\u001B[0m\u001B[0;34m\u001B[0m\u001B[0;34m\u001B[0m\u001B[0m\n\u001B[0;32m---> 34\u001B[0;31m \u001B[0;32mimport\u001B[0m \u001B[0mscipy\u001B[0m\u001B[0;34m.\u001B[0m\u001B[0mstats\u001B[0m \u001B[0;32mas\u001B[0m \u001B[0mstats\u001B[0m\u001B[0;34m\u001B[0m\u001B[0;34m\u001B[0m\u001B[0m\n\u001B[0m\u001B[1;32m     35\u001B[0m \u001B[0;32mfrom\u001B[0m \u001B[0mmatplotlib\u001B[0m\u001B[0;34m.\u001B[0m\u001B[0mdates\u001B[0m \u001B[0;32mimport\u001B[0m \u001B[0mdate2num\u001B[0m\u001B[0;34m,\u001B[0m \u001B[0mnum2date\u001B[0m\u001B[0;34m\u001B[0m\u001B[0;34m\u001B[0m\u001B[0m\n\u001B[1;32m     36\u001B[0m \u001B[0;34m\u001B[0m\u001B[0m\n",
      "\u001B[0;32m/usr/local/miniconda3/envs/comp-gen_v2/lib/python3.9/site-packages/scipy/stats/__init__.py\u001B[0m in \u001B[0;36m<module>\u001B[0;34m\u001B[0m\n\u001B[1;32m    451\u001B[0m \"\"\"\n\u001B[1;32m    452\u001B[0m \u001B[0;34m\u001B[0m\u001B[0m\n\u001B[0;32m--> 453\u001B[0;31m \u001B[0;32mfrom\u001B[0m \u001B[0;34m.\u001B[0m\u001B[0m_stats_py\u001B[0m \u001B[0;32mimport\u001B[0m \u001B[0;34m*\u001B[0m\u001B[0;34m\u001B[0m\u001B[0;34m\u001B[0m\u001B[0m\n\u001B[0m\u001B[1;32m    454\u001B[0m \u001B[0;32mfrom\u001B[0m \u001B[0;34m.\u001B[0m\u001B[0m_variation\u001B[0m \u001B[0;32mimport\u001B[0m \u001B[0mvariation\u001B[0m\u001B[0;34m\u001B[0m\u001B[0;34m\u001B[0m\u001B[0m\n\u001B[1;32m    455\u001B[0m \u001B[0;32mfrom\u001B[0m \u001B[0;34m.\u001B[0m\u001B[0mdistributions\u001B[0m \u001B[0;32mimport\u001B[0m \u001B[0;34m*\u001B[0m\u001B[0;34m\u001B[0m\u001B[0;34m\u001B[0m\u001B[0m\n",
      "\u001B[0;32m/usr/local/miniconda3/envs/comp-gen_v2/lib/python3.9/site-packages/scipy/stats/_stats_py.py\u001B[0m in \u001B[0;36m<module>\u001B[0;34m\u001B[0m\n\u001B[1;32m     42\u001B[0m \u001B[0;32mimport\u001B[0m \u001B[0mscipy\u001B[0m\u001B[0;34m.\u001B[0m\u001B[0mspecial\u001B[0m \u001B[0;32mas\u001B[0m \u001B[0mspecial\u001B[0m\u001B[0;34m\u001B[0m\u001B[0;34m\u001B[0m\u001B[0m\n\u001B[1;32m     43\u001B[0m \u001B[0;32mfrom\u001B[0m \u001B[0mscipy\u001B[0m \u001B[0;32mimport\u001B[0m \u001B[0mlinalg\u001B[0m\u001B[0;34m\u001B[0m\u001B[0;34m\u001B[0m\u001B[0m\n\u001B[0;32m---> 44\u001B[0;31m \u001B[0;32mfrom\u001B[0m \u001B[0;34m.\u001B[0m \u001B[0;32mimport\u001B[0m \u001B[0mdistributions\u001B[0m\u001B[0;34m\u001B[0m\u001B[0;34m\u001B[0m\u001B[0m\n\u001B[0m\u001B[1;32m     45\u001B[0m \u001B[0;32mfrom\u001B[0m \u001B[0;34m.\u001B[0m \u001B[0;32mimport\u001B[0m \u001B[0m_mstats_basic\u001B[0m \u001B[0;32mas\u001B[0m \u001B[0mmstats_basic\u001B[0m\u001B[0;34m\u001B[0m\u001B[0;34m\u001B[0m\u001B[0m\n\u001B[1;32m     46\u001B[0m from ._stats_mstats_common import (_find_repeats, linregress, theilslopes,\n",
      "\u001B[0;32m/usr/local/miniconda3/envs/comp-gen_v2/lib/python3.9/site-packages/scipy/stats/distributions.py\u001B[0m in \u001B[0;36m<module>\u001B[0;34m\u001B[0m\n\u001B[1;32m      6\u001B[0m \u001B[0;31m#       instead of `git blame -Lxxx,+x`.\u001B[0m\u001B[0;34m\u001B[0m\u001B[0;34m\u001B[0m\u001B[0m\n\u001B[1;32m      7\u001B[0m \u001B[0;31m#\u001B[0m\u001B[0;34m\u001B[0m\u001B[0;34m\u001B[0m\u001B[0m\n\u001B[0;32m----> 8\u001B[0;31m \u001B[0;32mfrom\u001B[0m \u001B[0;34m.\u001B[0m\u001B[0m_distn_infrastructure\u001B[0m \u001B[0;32mimport\u001B[0m \u001B[0;34m(\u001B[0m\u001B[0mrv_discrete\u001B[0m\u001B[0;34m,\u001B[0m \u001B[0mrv_continuous\u001B[0m\u001B[0;34m,\u001B[0m \u001B[0mrv_frozen\u001B[0m\u001B[0;34m)\u001B[0m\u001B[0;34m\u001B[0m\u001B[0;34m\u001B[0m\u001B[0m\n\u001B[0m\u001B[1;32m      9\u001B[0m \u001B[0;34m\u001B[0m\u001B[0m\n\u001B[1;32m     10\u001B[0m \u001B[0;32mfrom\u001B[0m \u001B[0;34m.\u001B[0m \u001B[0;32mimport\u001B[0m \u001B[0m_continuous_distns\u001B[0m\u001B[0;34m\u001B[0m\u001B[0;34m\u001B[0m\u001B[0m\n",
      "\u001B[0;32m/usr/local/miniconda3/envs/comp-gen_v2/lib/python3.9/site-packages/scipy/stats/_distn_infrastructure.py\u001B[0m in \u001B[0;36m<module>\u001B[0;34m\u001B[0m\n\u001B[1;32m     22\u001B[0m \u001B[0;31m# for root finding for continuous distribution ppf, and max likelihood\u001B[0m\u001B[0;34m\u001B[0m\u001B[0;34m\u001B[0m\u001B[0m\n\u001B[1;32m     23\u001B[0m \u001B[0;31m# estimation\u001B[0m\u001B[0;34m\u001B[0m\u001B[0;34m\u001B[0m\u001B[0m\n\u001B[0;32m---> 24\u001B[0;31m \u001B[0;32mfrom\u001B[0m \u001B[0mscipy\u001B[0m \u001B[0;32mimport\u001B[0m \u001B[0moptimize\u001B[0m\u001B[0;34m\u001B[0m\u001B[0;34m\u001B[0m\u001B[0m\n\u001B[0m\u001B[1;32m     25\u001B[0m \u001B[0;34m\u001B[0m\u001B[0m\n\u001B[1;32m     26\u001B[0m \u001B[0;31m# for functions of continuous distributions (e.g. moments, entropy, cdf)\u001B[0m\u001B[0;34m\u001B[0m\u001B[0;34m\u001B[0m\u001B[0m\n",
      "\u001B[0;32m/usr/local/miniconda3/envs/comp-gen_v2/lib/python3.9/site-packages/scipy/optimize/__init__.py\u001B[0m in \u001B[0;36m<module>\u001B[0;34m\u001B[0m\n\u001B[1;32m    410\u001B[0m \u001B[0;32mfrom\u001B[0m \u001B[0;34m.\u001B[0m\u001B[0m_nnls\u001B[0m \u001B[0;32mimport\u001B[0m \u001B[0mnnls\u001B[0m\u001B[0;34m\u001B[0m\u001B[0;34m\u001B[0m\u001B[0m\n\u001B[1;32m    411\u001B[0m \u001B[0;32mfrom\u001B[0m \u001B[0;34m.\u001B[0m\u001B[0m_basinhopping\u001B[0m \u001B[0;32mimport\u001B[0m \u001B[0mbasinhopping\u001B[0m\u001B[0;34m\u001B[0m\u001B[0;34m\u001B[0m\u001B[0m\n\u001B[0;32m--> 412\u001B[0;31m \u001B[0;32mfrom\u001B[0m \u001B[0;34m.\u001B[0m\u001B[0m_linprog\u001B[0m \u001B[0;32mimport\u001B[0m \u001B[0mlinprog\u001B[0m\u001B[0;34m,\u001B[0m \u001B[0mlinprog_verbose_callback\u001B[0m\u001B[0;34m\u001B[0m\u001B[0;34m\u001B[0m\u001B[0m\n\u001B[0m\u001B[1;32m    413\u001B[0m \u001B[0;32mfrom\u001B[0m \u001B[0;34m.\u001B[0m\u001B[0m_lsap\u001B[0m \u001B[0;32mimport\u001B[0m \u001B[0mlinear_sum_assignment\u001B[0m\u001B[0;34m\u001B[0m\u001B[0;34m\u001B[0m\u001B[0m\n\u001B[1;32m    414\u001B[0m \u001B[0;32mfrom\u001B[0m \u001B[0;34m.\u001B[0m\u001B[0m_differentialevolution\u001B[0m \u001B[0;32mimport\u001B[0m \u001B[0mdifferential_evolution\u001B[0m\u001B[0;34m\u001B[0m\u001B[0;34m\u001B[0m\u001B[0m\n",
      "\u001B[0;32m/usr/local/miniconda3/envs/comp-gen_v2/lib/python3.9/site-packages/scipy/optimize/_linprog.py\u001B[0m in \u001B[0;36m<module>\u001B[0;34m\u001B[0m\n\u001B[1;32m     20\u001B[0m \u001B[0;32mfrom\u001B[0m \u001B[0;34m.\u001B[0m\u001B[0m_optimize\u001B[0m \u001B[0;32mimport\u001B[0m \u001B[0mOptimizeResult\u001B[0m\u001B[0;34m,\u001B[0m \u001B[0mOptimizeWarning\u001B[0m\u001B[0;34m\u001B[0m\u001B[0;34m\u001B[0m\u001B[0m\n\u001B[1;32m     21\u001B[0m \u001B[0;32mfrom\u001B[0m \u001B[0mwarnings\u001B[0m \u001B[0;32mimport\u001B[0m \u001B[0mwarn\u001B[0m\u001B[0;34m\u001B[0m\u001B[0;34m\u001B[0m\u001B[0m\n\u001B[0;32m---> 22\u001B[0;31m \u001B[0;32mfrom\u001B[0m \u001B[0;34m.\u001B[0m\u001B[0m_linprog_highs\u001B[0m \u001B[0;32mimport\u001B[0m \u001B[0m_linprog_highs\u001B[0m\u001B[0;34m\u001B[0m\u001B[0;34m\u001B[0m\u001B[0m\n\u001B[0m\u001B[1;32m     23\u001B[0m \u001B[0;32mfrom\u001B[0m \u001B[0;34m.\u001B[0m\u001B[0m_linprog_ip\u001B[0m \u001B[0;32mimport\u001B[0m \u001B[0m_linprog_ip\u001B[0m\u001B[0;34m\u001B[0m\u001B[0;34m\u001B[0m\u001B[0m\n\u001B[1;32m     24\u001B[0m \u001B[0;32mfrom\u001B[0m \u001B[0;34m.\u001B[0m\u001B[0m_linprog_simplex\u001B[0m \u001B[0;32mimport\u001B[0m \u001B[0m_linprog_simplex\u001B[0m\u001B[0;34m\u001B[0m\u001B[0;34m\u001B[0m\u001B[0m\n",
      "\u001B[0;32m/usr/local/miniconda3/envs/comp-gen_v2/lib/python3.9/site-packages/scipy/optimize/_linprog_highs.py\u001B[0m in \u001B[0;36m<module>\u001B[0;34m\u001B[0m\n\u001B[1;32m     18\u001B[0m \u001B[0;32mfrom\u001B[0m \u001B[0;34m.\u001B[0m\u001B[0m_optimize\u001B[0m \u001B[0;32mimport\u001B[0m \u001B[0m_check_unknown_options\u001B[0m\u001B[0;34m,\u001B[0m \u001B[0mOptimizeWarning\u001B[0m\u001B[0;34m,\u001B[0m \u001B[0mOptimizeResult\u001B[0m\u001B[0;34m\u001B[0m\u001B[0;34m\u001B[0m\u001B[0m\n\u001B[1;32m     19\u001B[0m \u001B[0;32mfrom\u001B[0m \u001B[0mwarnings\u001B[0m \u001B[0;32mimport\u001B[0m \u001B[0mwarn\u001B[0m\u001B[0;34m\u001B[0m\u001B[0;34m\u001B[0m\u001B[0m\n\u001B[0;32m---> 20\u001B[0;31m \u001B[0;32mfrom\u001B[0m \u001B[0;34m.\u001B[0m\u001B[0m_highs\u001B[0m\u001B[0;34m.\u001B[0m\u001B[0m_highs_wrapper\u001B[0m \u001B[0;32mimport\u001B[0m \u001B[0m_highs_wrapper\u001B[0m\u001B[0;34m\u001B[0m\u001B[0;34m\u001B[0m\u001B[0m\n\u001B[0m\u001B[1;32m     21\u001B[0m from ._highs._highs_constants import (\n\u001B[1;32m     22\u001B[0m     \u001B[0mCONST_I_INF\u001B[0m\u001B[0;34m,\u001B[0m\u001B[0;34m\u001B[0m\u001B[0;34m\u001B[0m\u001B[0m\n",
      "\u001B[0;32m/usr/local/miniconda3/envs/comp-gen_v2/lib/python3.9/importlib/_bootstrap.py\u001B[0m in \u001B[0;36mparent\u001B[0;34m(self)\u001B[0m\n",
      "\u001B[0;31mKeyboardInterrupt\u001B[0m: "
     ]
    }
   ],
   "source": [
    "import datetime\n",
    "import importlib\n",
    "import re\n",
    "from tqdm import tqdm\n",
    "\n",
    "import plotnine as p9\n",
    "\n",
    "import pandas as pd\n",
    "\n",
    "from utils import add_src_to_sys_path\n",
    "\n",
    "add_src_to_sys_path()\n",
    "\n",
    "from common import wandb_utils, nest\n",
    "\n",
    "wandb_utils = importlib.reload(wandb_utils)"
   ]
  },
  {
   "cell_type": "markdown",
   "metadata": {},
   "source": [
    "## Load the experiments"
   ]
  },
  {
   "cell_type": "code",
   "execution_count": null,
   "metadata": {},
   "outputs": [],
   "source": [
    "wandb_api = wandb_utils.get_wandb_api()"
   ]
  },
  {
   "cell_type": "code",
   "execution_count": null,
   "metadata": {},
   "outputs": [],
   "source": [
    "runs = wandb_api.runs(\n",
    "    f\"{wandb_utils.get_entity_name()}/{wandb_utils.get_project_name()}\",\n",
    "    filters={\n",
    "        \"tags\": {\n",
    "            \"$in\": [\"attention_analysis\"]\n",
    "        }\n",
    "    }\n",
    ")\n",
    "\n",
    "runs = list(runs)\n",
    "len(runs)"
   ]
  },
  {
   "cell_type": "code",
   "execution_count": 5,
   "metadata": {},
   "outputs": [],
   "source": [
    "manually_checked_to_be_complete = {}"
   ]
  },
  {
   "cell_type": "code",
   "execution_count": 12,
   "metadata": {},
   "outputs": [
    {
     "name": "stderr",
     "output_type": "stream",
     "text": [
      " 86%|████████▌ | 334/388 [01:43<01:12,  1.34s/it]"
     ]
    },
    {
     "name": "stdout",
     "output_type": "stream",
     "text": [
      "analyze_all_test_ckpt_path is none\n",
      "analyze_all_test_ckpt_path is none\n"
     ]
    },
    {
     "name": "stderr",
     "output_type": "stream",
     "text": [
      " 90%|████████▉ | 348/388 [01:58<00:52,  1.31s/it]"
     ]
    },
    {
     "name": "stdout",
     "output_type": "stream",
     "text": [
      "analyze_all_test_ckpt_path is none\n"
     ]
    },
    {
     "name": "stderr",
     "output_type": "stream",
     "text": [
      " 91%|█████████ | 352/388 [02:03<00:43,  1.22s/it]"
     ]
    },
    {
     "name": "stdout",
     "output_type": "stream",
     "text": [
      "analyze_all_test_ckpt_path is none\n",
      "analyze_all_test_ckpt_path is none\n"
     ]
    },
    {
     "name": "stderr",
     "output_type": "stream",
     "text": [
      " 91%|█████████▏| 355/388 [02:04<00:27,  1.19it/s]"
     ]
    },
    {
     "name": "stdout",
     "output_type": "stream",
     "text": [
      "analyze_all_test_ckpt_path is none\n"
     ]
    },
    {
     "name": "stderr",
     "output_type": "stream",
     "text": [
      " 94%|█████████▍| 364/388 [02:15<00:29,  1.22s/it]"
     ]
    },
    {
     "name": "stdout",
     "output_type": "stream",
     "text": [
      "analyze_all_test_ckpt_path is none\n"
     ]
    },
    {
     "name": "stderr",
     "output_type": "stream",
     "text": [
      " 94%|█████████▍| 366/388 [02:16<00:21,  1.02it/s]"
     ]
    },
    {
     "name": "stdout",
     "output_type": "stream",
     "text": [
      "analyze_all_test_ckpt_path is none\n"
     ]
    },
    {
     "name": "stderr",
     "output_type": "stream",
     "text": [
      " 96%|█████████▌| 371/388 [02:22<00:19,  1.15s/it]"
     ]
    },
    {
     "name": "stdout",
     "output_type": "stream",
     "text": [
      "analyze_all_test_ckpt_path is none\n",
      "analyze_all_test_ckpt_path is none\n",
      "analyze_all_test_ckpt_path is none\n",
      "analyze_all_test_ckpt_path is none\n"
     ]
    },
    {
     "name": "stderr",
     "output_type": "stream",
     "text": [
      "100%|██████████| 388/388 [02:40<00:00,  2.42it/s]\n"
     ]
    }
   ],
   "source": [
    "def get_model_name(group_str: str) -> str:\n",
    "    pe_names = [\"pe_none\", \"pe_t5\", \"pe_abs_sin\", \"pe_alibi\", \"pe_rotary\", \"pe_newRot\"]\n",
    "    for pe in pe_names:\n",
    "        if pe in group_str:\n",
    "            return pe\n",
    "    raise ValueError(\"Invalid pe\")\n",
    "\n",
    "def get_launcher(run) -> str:\n",
    "    if run.job_type == \"agent\":\n",
    "        return run.id\n",
    "\n",
    "    launcher_tag = [t for t in run.tags if t.startswith(\"launched_by_\")][0]\n",
    "    return launcher_tag.split(\"launched_by_\")[1]\n",
    "\n",
    "\n",
    "def check_runs_generated_by_launcher_id(launcher_id: str) -> None:\n",
    "    l_runs = wandb_api.runs(\n",
    "        f\"{wandb_utils.get_entity_name()}/{wandb_utils.get_project_name()}\",\n",
    "        filters={\n",
    "            \"tags\": {\n",
    "                \"$in\": [\"launched_by_\" + launcher_id]\n",
    "            }\n",
    "        }\n",
    "    )\n",
    "\n",
    "    l_runs = list(l_runs)\n",
    "\n",
    "    for run in l_runs:\n",
    "        if run.job_type == \"agent\":\n",
    "            continue\n",
    "        print(run.id, run.state, run.job_type, run.group, run.tags)\n",
    "        is_complete = is_run_complete(run)\n",
    "        print(is_complete)\n",
    "        print()\n",
    "\n",
    "dataset_to_num_metadata_files = {\n",
    "    (\"s2s_addition\", \"len_tr8_ts16\"): 256,\n",
    "    ('s2s_copy', 'cmc2x_tr20_ts40'): 39,\n",
    "    ('s2s_copy', 'rsc2x_tr20_ts40'): 39,\n",
    "    ('s2s_copy', 'cmc_tr20_ts40'): 39,\n",
    "    ('s2s_copy', 'rdc_tr20_ts40'): 39,\n",
    "    ('s2s_copy', 'rsc_tr20_ts40'): 39,\n",
    "    ('s2s_reverse', 'mc_tr20_ts40'): 39,\n",
    "    ('s2s_reverse', 'mc2x_tr20_ts40'): 39,\n",
    "    ('s2s_reverse', 'mcrv_tr20_ts40'): 39,\n",
    "    ('pcfg', 'md_productivity'): 32,\n",
    "    ('scan', 'len_tr25_ts48'): 32,\n",
    "}\n",
    "\n",
    "def is_run_complete(run) -> bool:\n",
    "    if run.id in manually_checked_to_be_complete:\n",
    "        return True\n",
    "\n",
    "    # Assert training is done\n",
    "    try:\n",
    "        ds = run.config[\"dataset\"][\"name\"]\n",
    "        split = run.config[\"dataset\"][\"split\"]\n",
    "    except Exception as e:\n",
    "        print(\"Could not get max_steps\")\n",
    "        return False\n",
    "\n",
    "    # Check if the best checkpoint was loaded:\n",
    "    analyze_all_test_ckpt_path = run.summary[\"analyze_all_test_ckpt_path\"]\n",
    "    if analyze_all_test_ckpt_path is None:\n",
    "        print(\"No analyze_all_test_ckpt_path\")\n",
    "        return False\n",
    "\n",
    "    if \"experiments/\" not in analyze_all_test_ckpt_path.lower():\n",
    "        print(\"analyze_all_test_ckpt_path is none\")\n",
    "        return False\n",
    "\n",
    "    files = list(run.files())\n",
    "    metadata_files = [\n",
    "        f for f in files if f.name.startswith(\"attn_metadata_\") and f.name.endswith(\".json\")\n",
    "    ]\n",
    "    # print(len(metadata_files))\n",
    "    if len(metadata_files) != dataset_to_num_metadata_files[(ds, split)]:\n",
    "        print(f\"Not enough metadata files: {len(metadata_files)}\")\n",
    "        return False\n",
    "\n",
    "    return True\n",
    "\n",
    "df_data = []\n",
    "\n",
    "scratchpad_config_pattern = re.compile(r\"(.)*_scratchpad(.)+_ufs__(i._c._o._v._r.)_.*___.*\")\n",
    "dataset_name_pattern = re.compile(f\".*___data-(.+)-(.+)\")\n",
    "\n",
    "for run in tqdm(runs):\n",
    "    group = run.group\n",
    "\n",
    "    scratchpad_config = \"no_scratchpad\"\n",
    "    result = scratchpad_config_pattern.search(group)\n",
    "    if result:\n",
    "        scratchpad_config = result.group(3)\n",
    "\n",
    "    result = dataset_name_pattern.search(group)\n",
    "    dataset_name = result.group(1)\n",
    "    dataset_split = result.group(2)\n",
    "    dataset_comb = f\"{dataset_name}--{dataset_split}\"\n",
    "\n",
    "    model_name = get_model_name(group)\n",
    "\n",
    "    if run.job_type == \"agent\":\n",
    "        is_complete = True\n",
    "    elif run.job_type != \"attn_analysis2\":\n",
    "        continue\n",
    "    else:\n",
    "        is_complete = is_run_complete(run)\n",
    "\n",
    "    df_data.append({\n",
    "        \"run_group\": group,\n",
    "        \"job_type\": run.job_type,\n",
    "        \"launcher_id\": get_launcher(run),\n",
    "        \"ds_name\": dataset_name,\n",
    "        \"ds_split\": dataset_split,\n",
    "        \"ds\": dataset_comb,\n",
    "        \"scratchpad_config\": scratchpad_config,\n",
    "        \"model\": model_name,\n",
    "        \"is_complete\": is_complete,\n",
    "        \"state\": run.state,\n",
    "        \"id\": run.id,\n",
    "        \"gr_url\": f\"https://wandb.ai/kzmnjd/len_gen/groups/{group}\",\n",
    "        \"run_url\": run.url,\n",
    "        \"created_at\": run.created_at,\n",
    "        \"host\": run.host,\n",
    "    })\n",
    "\n",
    "df = pd.DataFrame.from_records(df_data)\n",
    "# df"
   ]
  },
  {
   "cell_type": "code",
   "execution_count": 17,
   "metadata": {},
   "outputs": [],
   "source": [
    "def get_compute_cluster(host: str):\n",
    "    if \"cedar\" in host:\n",
    "        return \"cc_cedar\"\n",
    "    elif \"narval\" in host:\n",
    "        return \"cc_narval\"\n",
    "    elif host.startswith(\"cn-\"):\n",
    "        return \"mila\"\n",
    "    else:\n",
    "        return host\n",
    "\n",
    "def get_grouped_df(gdf):\n",
    "    seed_runs = gdf[gdf.job_type == \"attn_analysis2\"]\n",
    "    completed = len(seed_runs[seed_runs.is_complete == True])\n",
    "    is_running = \"running\" in gdf.state.unique().tolist()\n",
    "    group_url = gdf.gr_url.tolist()[0]\n",
    "    host = gdf.host.tolist()[0]\n",
    "    launcher_ids = gdf[[\"launcher_id\", \"created_at\"]]\n",
    "    launcher_ids = [tuple(x) for x in launcher_ids.values]\n",
    "    launcher_ids.sort(key=lambda x: datetime.datetime.fromisoformat(x[1]), reverse=True)\n",
    "    launcher_id = launcher_ids[0][0]\n",
    "\n",
    "    return pd.DataFrame.from_records([{\n",
    "        \"num_completed\": completed,\n",
    "        \"num_seed_runs\": len(seed_runs),\n",
    "        \"is_running\": is_running,\n",
    "        \"is_done\": completed >= 3,\n",
    "        \"launcher_id\": launcher_id,\n",
    "        \"group_url\": group_url,\n",
    "        \"cluster\": get_compute_cluster(host),\n",
    "    }])\n"
   ]
  },
  {
   "cell_type": "code",
   "execution_count": 18,
   "metadata": {},
   "outputs": [
    {
     "data": {
      "text/plain": "                                                      num_completed  \\\nds                    model      scratchpad_config                    \npcfg--md_productivity pe_abs_sin no_scratchpad     0              3   \n                      pe_alibi   no_scratchpad     0              3   \n                      pe_none    no_scratchpad     0              3   \n                      pe_rotary  no_scratchpad     0              3   \n                      pe_t5      no_scratchpad     0              3   \n...                                                             ...   \nscan--len_tr25_ts48   pe_abs_sin no_scratchpad     0              3   \n                      pe_alibi   no_scratchpad     0              3   \n                      pe_none    no_scratchpad     0              3   \n                      pe_rotary  no_scratchpad     0              3   \n                      pe_t5      no_scratchpad     0              3   \n\n                                                      num_seed_runs  \\\nds                    model      scratchpad_config                    \npcfg--md_productivity pe_abs_sin no_scratchpad     0              3   \n                      pe_alibi   no_scratchpad     0              3   \n                      pe_none    no_scratchpad     0              3   \n                      pe_rotary  no_scratchpad     0              3   \n                      pe_t5      no_scratchpad     0              3   \n...                                                             ...   \nscan--len_tr25_ts48   pe_abs_sin no_scratchpad     0              3   \n                      pe_alibi   no_scratchpad     0              3   \n                      pe_none    no_scratchpad     0              3   \n                      pe_rotary  no_scratchpad     0              3   \n                      pe_t5      no_scratchpad     0              3   \n\n                                                      is_running  is_done  \\\nds                    model      scratchpad_config                          \npcfg--md_productivity pe_abs_sin no_scratchpad     0       False     True   \n                      pe_alibi   no_scratchpad     0       False     True   \n                      pe_none    no_scratchpad     0       False     True   \n                      pe_rotary  no_scratchpad     0       False     True   \n                      pe_t5      no_scratchpad     0       False     True   \n...                                                          ...      ...   \nscan--len_tr25_ts48   pe_abs_sin no_scratchpad     0       False     True   \n                      pe_alibi   no_scratchpad     0       False     True   \n                      pe_none    no_scratchpad     0       False     True   \n                      pe_rotary  no_scratchpad     0       False     True   \n                      pe_t5      no_scratchpad     0       False     True   \n\n                                                     launcher_id  \\\nds                    model      scratchpad_config                 \npcfg--md_productivity pe_abs_sin no_scratchpad     0    tmow5sw8   \n                      pe_alibi   no_scratchpad     0    hgdqbeme   \n                      pe_none    no_scratchpad     0    10fmychn   \n                      pe_rotary  no_scratchpad     0    20va5o6z   \n                      pe_t5      no_scratchpad     0    3q091sft   \n...                                                          ...   \nscan--len_tr25_ts48   pe_abs_sin no_scratchpad     0    2h78fggj   \n                      pe_alibi   no_scratchpad     0    2f1ugo2p   \n                      pe_none    no_scratchpad     0    1c6wqxht   \n                      pe_rotary  no_scratchpad     0    3ubk5nqu   \n                      pe_t5      no_scratchpad     0    fn8tia8y   \n\n                                                                                              group_url  \\\nds                    model      scratchpad_config                                                        \npcfg--md_productivity pe_abs_sin no_scratchpad     0  https://wandb.ai/kzmnjd/len_gen/groups/SW-t5_d...   \n                      pe_alibi   no_scratchpad     0  https://wandb.ai/kzmnjd/len_gen/groups/SW-t5_d...   \n                      pe_none    no_scratchpad     0  https://wandb.ai/kzmnjd/len_gen/groups/SW-t5_d...   \n                      pe_rotary  no_scratchpad     0  https://wandb.ai/kzmnjd/len_gen/groups/SW-t5_d...   \n                      pe_t5      no_scratchpad     0  https://wandb.ai/kzmnjd/len_gen/groups/SW-t5_d...   \n...                                                                                                 ...   \nscan--len_tr25_ts48   pe_abs_sin no_scratchpad     0  https://wandb.ai/kzmnjd/len_gen/groups/SW-t5_d...   \n                      pe_alibi   no_scratchpad     0  https://wandb.ai/kzmnjd/len_gen/groups/SW-t5_d...   \n                      pe_none    no_scratchpad     0  https://wandb.ai/kzmnjd/len_gen/groups/SW-t5_d...   \n                      pe_rotary  no_scratchpad     0  https://wandb.ai/kzmnjd/len_gen/groups/SW-t5_d...   \n                      pe_t5      no_scratchpad     0  https://wandb.ai/kzmnjd/len_gen/groups/SW-t5_d...   \n\n                                                        cluster  \nds                    model      scratchpad_config               \npcfg--md_productivity pe_abs_sin no_scratchpad     0  cc_narval  \n                      pe_alibi   no_scratchpad     0  cc_narval  \n                      pe_none    no_scratchpad     0  cc_narval  \n                      pe_rotary  no_scratchpad     0  cc_narval  \n                      pe_t5      no_scratchpad     0  cc_narval  \n...                                                         ...  \nscan--len_tr25_ts48   pe_abs_sin no_scratchpad     0   cc_cedar  \n                      pe_alibi   no_scratchpad     0   cc_cedar  \n                      pe_none    no_scratchpad     0   cc_cedar  \n                      pe_rotary  no_scratchpad     0   cc_cedar  \n                      pe_t5      no_scratchpad     0   cc_cedar  \n\n[80 rows x 7 columns]",
      "text/html": "<div>\n<style scoped>\n    .dataframe tbody tr th:only-of-type {\n        vertical-align: middle;\n    }\n\n    .dataframe tbody tr th {\n        vertical-align: top;\n    }\n\n    .dataframe thead th {\n        text-align: right;\n    }\n</style>\n<table border=\"1\" class=\"dataframe\">\n  <thead>\n    <tr style=\"text-align: right;\">\n      <th></th>\n      <th></th>\n      <th></th>\n      <th></th>\n      <th>num_completed</th>\n      <th>num_seed_runs</th>\n      <th>is_running</th>\n      <th>is_done</th>\n      <th>launcher_id</th>\n      <th>group_url</th>\n      <th>cluster</th>\n    </tr>\n    <tr>\n      <th>ds</th>\n      <th>model</th>\n      <th>scratchpad_config</th>\n      <th></th>\n      <th></th>\n      <th></th>\n      <th></th>\n      <th></th>\n      <th></th>\n      <th></th>\n      <th></th>\n    </tr>\n  </thead>\n  <tbody>\n    <tr>\n      <th rowspan=\"5\" valign=\"top\">pcfg--md_productivity</th>\n      <th>pe_abs_sin</th>\n      <th>no_scratchpad</th>\n      <th>0</th>\n      <td>3</td>\n      <td>3</td>\n      <td>False</td>\n      <td>True</td>\n      <td>tmow5sw8</td>\n      <td>https://wandb.ai/kzmnjd/len_gen/groups/SW-t5_d...</td>\n      <td>cc_narval</td>\n    </tr>\n    <tr>\n      <th>pe_alibi</th>\n      <th>no_scratchpad</th>\n      <th>0</th>\n      <td>3</td>\n      <td>3</td>\n      <td>False</td>\n      <td>True</td>\n      <td>hgdqbeme</td>\n      <td>https://wandb.ai/kzmnjd/len_gen/groups/SW-t5_d...</td>\n      <td>cc_narval</td>\n    </tr>\n    <tr>\n      <th>pe_none</th>\n      <th>no_scratchpad</th>\n      <th>0</th>\n      <td>3</td>\n      <td>3</td>\n      <td>False</td>\n      <td>True</td>\n      <td>10fmychn</td>\n      <td>https://wandb.ai/kzmnjd/len_gen/groups/SW-t5_d...</td>\n      <td>cc_narval</td>\n    </tr>\n    <tr>\n      <th>pe_rotary</th>\n      <th>no_scratchpad</th>\n      <th>0</th>\n      <td>3</td>\n      <td>3</td>\n      <td>False</td>\n      <td>True</td>\n      <td>20va5o6z</td>\n      <td>https://wandb.ai/kzmnjd/len_gen/groups/SW-t5_d...</td>\n      <td>cc_narval</td>\n    </tr>\n    <tr>\n      <th>pe_t5</th>\n      <th>no_scratchpad</th>\n      <th>0</th>\n      <td>3</td>\n      <td>3</td>\n      <td>False</td>\n      <td>True</td>\n      <td>3q091sft</td>\n      <td>https://wandb.ai/kzmnjd/len_gen/groups/SW-t5_d...</td>\n      <td>cc_narval</td>\n    </tr>\n    <tr>\n      <th>...</th>\n      <th>...</th>\n      <th>...</th>\n      <th>...</th>\n      <td>...</td>\n      <td>...</td>\n      <td>...</td>\n      <td>...</td>\n      <td>...</td>\n      <td>...</td>\n      <td>...</td>\n    </tr>\n    <tr>\n      <th rowspan=\"5\" valign=\"top\">scan--len_tr25_ts48</th>\n      <th>pe_abs_sin</th>\n      <th>no_scratchpad</th>\n      <th>0</th>\n      <td>3</td>\n      <td>3</td>\n      <td>False</td>\n      <td>True</td>\n      <td>2h78fggj</td>\n      <td>https://wandb.ai/kzmnjd/len_gen/groups/SW-t5_d...</td>\n      <td>cc_cedar</td>\n    </tr>\n    <tr>\n      <th>pe_alibi</th>\n      <th>no_scratchpad</th>\n      <th>0</th>\n      <td>3</td>\n      <td>3</td>\n      <td>False</td>\n      <td>True</td>\n      <td>2f1ugo2p</td>\n      <td>https://wandb.ai/kzmnjd/len_gen/groups/SW-t5_d...</td>\n      <td>cc_cedar</td>\n    </tr>\n    <tr>\n      <th>pe_none</th>\n      <th>no_scratchpad</th>\n      <th>0</th>\n      <td>3</td>\n      <td>3</td>\n      <td>False</td>\n      <td>True</td>\n      <td>1c6wqxht</td>\n      <td>https://wandb.ai/kzmnjd/len_gen/groups/SW-t5_d...</td>\n      <td>cc_cedar</td>\n    </tr>\n    <tr>\n      <th>pe_rotary</th>\n      <th>no_scratchpad</th>\n      <th>0</th>\n      <td>3</td>\n      <td>3</td>\n      <td>False</td>\n      <td>True</td>\n      <td>3ubk5nqu</td>\n      <td>https://wandb.ai/kzmnjd/len_gen/groups/SW-t5_d...</td>\n      <td>cc_cedar</td>\n    </tr>\n    <tr>\n      <th>pe_t5</th>\n      <th>no_scratchpad</th>\n      <th>0</th>\n      <td>3</td>\n      <td>3</td>\n      <td>False</td>\n      <td>True</td>\n      <td>fn8tia8y</td>\n      <td>https://wandb.ai/kzmnjd/len_gen/groups/SW-t5_d...</td>\n      <td>cc_cedar</td>\n    </tr>\n  </tbody>\n</table>\n<p>80 rows × 7 columns</p>\n</div>"
     },
     "execution_count": 18,
     "metadata": {},
     "output_type": "execute_result"
    }
   ],
   "source": [
    "xdf = df.groupby([\"ds\", \"model\", \"scratchpad_config\"]).apply(get_grouped_df)\n",
    "xdf"
   ]
  },
  {
   "cell_type": "code",
   "execution_count": 19,
   "metadata": {},
   "outputs": [
    {
     "data": {
      "text/plain": "                                                           num_completed  \\\nds                         model      scratchpad_config                    \ns2s_addition--len_tr8_ts16 pe_abs_sin i0_c1_o1_v1_r1    0              0   \n                                      i1_c0_o1_v1_r1    0              0   \n                                      i1_c1_o1_v0_r1    0              0   \n                                      i1_c1_o1_v1_r0    0              0   \n\n                                                           num_seed_runs  \\\nds                         model      scratchpad_config                    \ns2s_addition--len_tr8_ts16 pe_abs_sin i0_c1_o1_v1_r1    0              3   \n                                      i1_c0_o1_v1_r1    0              3   \n                                      i1_c1_o1_v0_r1    0              3   \n                                      i1_c1_o1_v1_r0    0              3   \n\n                                                           is_running  \\\nds                         model      scratchpad_config                 \ns2s_addition--len_tr8_ts16 pe_abs_sin i0_c1_o1_v1_r1    0       False   \n                                      i1_c0_o1_v1_r1    0       False   \n                                      i1_c1_o1_v0_r1    0       False   \n                                      i1_c1_o1_v1_r0    0       False   \n\n                                                           is_done  \\\nds                         model      scratchpad_config              \ns2s_addition--len_tr8_ts16 pe_abs_sin i0_c1_o1_v1_r1    0    False   \n                                      i1_c0_o1_v1_r1    0    False   \n                                      i1_c1_o1_v0_r1    0    False   \n                                      i1_c1_o1_v1_r0    0    False   \n\n                                                          launcher_id  \\\nds                         model      scratchpad_config                 \ns2s_addition--len_tr8_ts16 pe_abs_sin i0_c1_o1_v1_r1    0    dww6ak56   \n                                      i1_c0_o1_v1_r1    0    2zaci7fu   \n                                      i1_c1_o1_v0_r1    0    18hplwyn   \n                                      i1_c1_o1_v1_r0    0    x5ui27ay   \n\n                                                                                                   group_url  \\\nds                         model      scratchpad_config                                                        \ns2s_addition--len_tr8_ts16 pe_abs_sin i0_c1_o1_v1_r1    0  https://wandb.ai/kzmnjd/len_gen/groups/SW-t5_d...   \n                                      i1_c0_o1_v1_r1    0  https://wandb.ai/kzmnjd/len_gen/groups/SW-t5_d...   \n                                      i1_c1_o1_v0_r1    0  https://wandb.ai/kzmnjd/len_gen/groups/SW-t5_d...   \n                                      i1_c1_o1_v1_r0    0  https://wandb.ai/kzmnjd/len_gen/groups/SW-t5_d...   \n\n                                                             cluster  \nds                         model      scratchpad_config               \ns2s_addition--len_tr8_ts16 pe_abs_sin i0_c1_o1_v1_r1    0  cc_narval  \n                                      i1_c0_o1_v1_r1    0  cc_narval  \n                                      i1_c1_o1_v0_r1    0  cc_narval  \n                                      i1_c1_o1_v1_r0    0  cc_narval  ",
      "text/html": "<div>\n<style scoped>\n    .dataframe tbody tr th:only-of-type {\n        vertical-align: middle;\n    }\n\n    .dataframe tbody tr th {\n        vertical-align: top;\n    }\n\n    .dataframe thead th {\n        text-align: right;\n    }\n</style>\n<table border=\"1\" class=\"dataframe\">\n  <thead>\n    <tr style=\"text-align: right;\">\n      <th></th>\n      <th></th>\n      <th></th>\n      <th></th>\n      <th>num_completed</th>\n      <th>num_seed_runs</th>\n      <th>is_running</th>\n      <th>is_done</th>\n      <th>launcher_id</th>\n      <th>group_url</th>\n      <th>cluster</th>\n    </tr>\n    <tr>\n      <th>ds</th>\n      <th>model</th>\n      <th>scratchpad_config</th>\n      <th></th>\n      <th></th>\n      <th></th>\n      <th></th>\n      <th></th>\n      <th></th>\n      <th></th>\n      <th></th>\n    </tr>\n  </thead>\n  <tbody>\n    <tr>\n      <th rowspan=\"4\" valign=\"top\">s2s_addition--len_tr8_ts16</th>\n      <th rowspan=\"4\" valign=\"top\">pe_abs_sin</th>\n      <th>i0_c1_o1_v1_r1</th>\n      <th>0</th>\n      <td>0</td>\n      <td>3</td>\n      <td>False</td>\n      <td>False</td>\n      <td>dww6ak56</td>\n      <td>https://wandb.ai/kzmnjd/len_gen/groups/SW-t5_d...</td>\n      <td>cc_narval</td>\n    </tr>\n    <tr>\n      <th>i1_c0_o1_v1_r1</th>\n      <th>0</th>\n      <td>0</td>\n      <td>3</td>\n      <td>False</td>\n      <td>False</td>\n      <td>2zaci7fu</td>\n      <td>https://wandb.ai/kzmnjd/len_gen/groups/SW-t5_d...</td>\n      <td>cc_narval</td>\n    </tr>\n    <tr>\n      <th>i1_c1_o1_v0_r1</th>\n      <th>0</th>\n      <td>0</td>\n      <td>3</td>\n      <td>False</td>\n      <td>False</td>\n      <td>18hplwyn</td>\n      <td>https://wandb.ai/kzmnjd/len_gen/groups/SW-t5_d...</td>\n      <td>cc_narval</td>\n    </tr>\n    <tr>\n      <th>i1_c1_o1_v1_r0</th>\n      <th>0</th>\n      <td>0</td>\n      <td>3</td>\n      <td>False</td>\n      <td>False</td>\n      <td>x5ui27ay</td>\n      <td>https://wandb.ai/kzmnjd/len_gen/groups/SW-t5_d...</td>\n      <td>cc_narval</td>\n    </tr>\n  </tbody>\n</table>\n</div>"
     },
     "execution_count": 19,
     "metadata": {},
     "output_type": "execute_result"
    }
   ],
   "source": [
    "xdf[(xdf[\"is_done\"] == False) & (xdf[\"is_running\"] == False)]"
   ]
  },
  {
   "cell_type": "code",
   "execution_count": 36,
   "metadata": {},
   "outputs": [
    {
     "name": "stdout",
     "output_type": "stream",
     "text": [
      "sw_7ab136dc4d07a4313a1f8bf646f4808c_2_256788 crashed attn_analysis2 SW-t5_dec_base_pe_t5_w_scratchpad_f_ufs__i1_c1_o1_v0_r1_s2s_addition_sweep___data-s2s_addition-len_tr8_ts16 ['attention_analysis', 'launched_by_2nxodkyt', 'manual_sweep', 'scratchpad', 'scratchpad_f', 'scratchpad_s2s_addition', 'sweep']\n",
      "Not enough metadata files: 119\n",
      "False\n",
      "\n"
     ]
    }
   ],
   "source": [
    "check_runs_generated_by_launcher_id(\"2nxodkyt\")"
   ]
  },
  {
   "cell_type": "code",
   "execution_count": null,
   "metadata": {},
   "outputs": [],
   "source": [
    "xxdf = xdf.reset_index()\n",
    "xxdf[(xxdf[\"is_done\"] == False) & (xxdf[\"ds\"] == \"s2s_addition--len_tr8_ts16\")]"
   ]
  },
  {
   "cell_type": "code",
   "execution_count": null,
   "metadata": {},
   "outputs": [],
   "source": [
    "xdf[(xdf[\"is_done\"] == False) & (xdf[\"is_running\"] == False) & (xdf[\"ds\"] == \"s2s_addition--len_tr8_ts16\")]"
   ]
  },
  {
   "cell_type": "code",
   "execution_count": null,
   "metadata": {},
   "outputs": [],
   "source": [
    "xdf.columns"
   ]
  },
  {
   "cell_type": "markdown",
   "metadata": {},
   "source": [
    "## Fix Runs without summary"
   ]
  },
  {
   "cell_type": "code",
   "execution_count": 10,
   "metadata": {},
   "outputs": [],
   "source": [
    "# completed_runs = set(df[(df[\"is_complete\"] == True) & (df[\"job_type\"] == \"best_run_seed_exp\")][\"id\"].tolist())\n",
    "\n",
    "completed_runs = set(df[(df[\"job_type\"] == \"best_run_seed_exp\")][\"id\"].tolist())\n"
   ]
  },
  {
   "cell_type": "code",
   "execution_count": 11,
   "metadata": {},
   "outputs": [
    {
     "name": "stderr",
     "output_type": "stream",
     "text": [
      "  0%|          | 0/684 [00:00<?, ?it/s]"
     ]
    },
    {
     "name": "stdout",
     "output_type": "stream",
     "text": [
      "SW-t5_dec_base_pe_t5_w_scratchpad_f_ufs__i1_c1_o1_v1_r1_s2s_poly_sweep___data-s2s_poly-n_terms_tr8_ts16\n",
      "sw_a62383120826ac1dfd973fd78242ae47__234054\n",
      "https://wandb.ai/kzmnjd/len_gen/runs/sw_a62383120826ac1dfd973fd78242ae47__234054\n",
      "------------------\n"
     ]
    },
    {
     "name": "stderr",
     "output_type": "stream",
     "text": [
      "  2%|▏         | 11/684 [00:01<01:13,  9.18it/s]"
     ]
    },
    {
     "name": "stdout",
     "output_type": "stream",
     "text": [
      "SW-t5_dec_base_pe_rotary_w_scratchpad_f_ufs__i1_c1_o0_v0_r1_s2s_sort_sweep___data-s2s_sort-len_mltd_tr8_ts16\n",
      "sw_a79eb30b88160539e41e9c6fcc3edd63__146317\n",
      "https://wandb.ai/kzmnjd/len_gen/runs/sw_a79eb30b88160539e41e9c6fcc3edd63__146317\n",
      "------------------\n"
     ]
    },
    {
     "name": "stderr",
     "output_type": "stream",
     "text": [
      "  5%|▌         | 36/684 [00:03<01:01, 10.48it/s]"
     ]
    },
    {
     "name": "stdout",
     "output_type": "stream",
     "text": [
      "SW-t5_dec_base_pe_rotary_w_scratchpad_f_ufs__i0_c1_o1_v0_r1_s2s_sort_sweep___data-s2s_sort-len_mltd_tr8_ts16\n",
      "sw_a36b16200f2194a71894e7f64f30cf65__146317\n",
      "https://wandb.ai/kzmnjd/len_gen/runs/sw_a36b16200f2194a71894e7f64f30cf65__146317\n",
      "------------------\n"
     ]
    },
    {
     "name": "stderr",
     "output_type": "stream",
     "text": [
      "  6%|▌         | 41/684 [00:05<01:51,  5.74it/s]"
     ]
    },
    {
     "name": "stdout",
     "output_type": "stream",
     "text": [
      "SW-t5_dec_base_pe_rotary_w_scratchpad_f_ufs__i1_c1_o1_v0_r0_s2s_sort_sweep___data-s2s_sort-len_mltd_tr8_ts16\n",
      "sw_eeeb4be8a6b915880903e86e11cc8846__146317\n",
      "https://wandb.ai/kzmnjd/len_gen/runs/sw_eeeb4be8a6b915880903e86e11cc8846__146317\n",
      "------------------\n"
     ]
    },
    {
     "name": "stderr",
     "output_type": "stream",
     "text": [
      "100%|██████████| 684/684 [00:06<00:00, 99.22it/s]\n"
     ]
    },
    {
     "data": {
      "text/plain": "4"
     },
     "execution_count": 11,
     "metadata": {},
     "output_type": "execute_result"
    }
   ],
   "source": [
    "c = 0\n",
    "for run in tqdm(runs):\n",
    "    # if run.id not in completed_runs:\n",
    "    #     continue\n",
    "    if run.job_type == \"agent\":\n",
    "        continue\n",
    "\n",
    "    # keys_not_present = []\n",
    "    # for k in target_summary_keys:\n",
    "    #     if k not in run.summary:\n",
    "    #         keys_not_present.append(k)\n",
    "    if \"pred/test_acc_overall\" in run.summary:\n",
    "        continue\n",
    "\n",
    "    print(run.group)\n",
    "    print(run.id)\n",
    "    print(run.url)\n",
    "    print(\"------------------\")\n",
    "\n",
    "    c += 1\n",
    "    # continue\n",
    "\n",
    "    h_all = list(run.scan_history())\n",
    "\n",
    "    s = {}\n",
    "    for h in h_all:\n",
    "        for k,v in h.items():\n",
    "            if k.startswith(\"pred/\"):\n",
    "                s[k] = v\n",
    "\n",
    "    run.summary.update(s)\n",
    "    run.save()\n",
    "\n",
    "c"
   ]
  }
 ],
 "metadata": {
  "kernelspec": {
   "display_name": "Python 3 (ipykernel)",
   "language": "python",
   "name": "python3"
  },
  "language_info": {
   "codemirror_mode": {
    "name": "ipython",
    "version": 3
   },
   "file_extension": ".py",
   "mimetype": "text/x-python",
   "name": "python",
   "nbconvert_exporter": "python",
   "pygments_lexer": "ipython3",
   "version": "3.9.7"
  }
 },
 "nbformat": 4,
 "nbformat_minor": 1
}
