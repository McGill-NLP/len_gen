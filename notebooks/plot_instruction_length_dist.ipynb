{
 "cells": [
  {
   "cell_type": "markdown",
   "metadata": {},
   "source": [
    "# Plot Scratchpad Results"
   ]
  },
  {
   "cell_type": "markdown",
   "metadata": {},
   "source": [
    "## Prerequisites"
   ]
  },
  {
   "cell_type": "code",
   "execution_count": 1,
   "metadata": {
    "ExecuteTime": {
     "end_time": "2023-04-04T18:27:08.735470Z",
     "start_time": "2023-04-04T18:27:06.043912Z"
    }
   },
   "outputs": [],
   "source": [
    "import copy\n",
    "import datetime\n",
    "import importlib\n",
    "import re\n",
    "\n",
    "from pathlib import Path\n",
    "\n",
    "import numpy as np\n",
    "from tqdm import tqdm\n",
    "\n",
    "import plotnine as p9\n",
    "\n",
    "import pandas as pd\n",
    "from collections import deque\n",
    "\n",
    "from utils import add_src_to_sys_path\n",
    "\n",
    "add_src_to_sys_path()\n",
    "\n",
    "from common import wandb_utils, nest\n",
    "from common import plotnine_utils as p9u\n",
    "\n",
    "wandb_utils = importlib.reload(wandb_utils)\n",
    "p9u = importlib.reload(p9u)"
   ]
  },
  {
   "cell_type": "markdown",
   "metadata": {},
   "source": [
    "## Load the experiments"
   ]
  },
  {
   "cell_type": "code",
   "execution_count": 2,
   "metadata": {
    "ExecuteTime": {
     "end_time": "2023-04-04T18:27:08.745408Z",
     "start_time": "2023-04-04T18:27:08.739702Z"
    }
   },
   "outputs": [],
   "source": [
    "tags = [\"instruction_length_dist\"]"
   ]
  },
  {
   "cell_type": "code",
   "execution_count": 3,
   "metadata": {
    "ExecuteTime": {
     "end_time": "2023-04-04T18:27:08.753788Z",
     "start_time": "2023-04-04T18:27:08.749144Z"
    }
   },
   "outputs": [],
   "source": [
    "plot_dir_name = \"__\".join(tags)\n",
    "output_dir = Path(\"output_plots\") / f\"{plot_dir_name}\"\n",
    "output_dir.mkdir(parents=True, exist_ok=True)"
   ]
  },
  {
   "cell_type": "code",
   "execution_count": 5,
   "metadata": {},
   "outputs": [
    {
     "data": {
      "application/vnd.jupyter.widget-view+json": {
       "model_id": "a97f3da7f75245859986a042d094efe1",
       "version_major": 2,
       "version_minor": 0
      },
      "text/plain": [
       "  0%|          | 0/401 [00:00<?, ?it/s]"
      ]
     },
     "metadata": {},
     "output_type": "display_data"
    },
    {
     "name": "stdout",
     "output_type": "stream",
     "text": [
      "Building dataframe...\n",
      "Saving results to /Users/amirhosein/Development/PycharmProjects/len_gen/results/sanity_check.jsonl\n"
     ]
    },
    {
     "data": {
      "text/plain": [
       "401"
      ]
     },
     "execution_count": 5,
     "metadata": {},
     "output_type": "execute_result"
    }
   ],
   "source": [
    "# df = wandb_utils.download_and_load_results(\n",
    "#     tags=tags,\n",
    "#     force_download=True,\n",
    "# )\n",
    "# len(df)"
   ]
  },
  {
   "cell_type": "code",
   "execution_count": 63,
   "metadata": {
    "ExecuteTime": {
     "end_time": "2023-04-04T18:27:09.028285Z",
     "start_time": "2023-04-04T18:27:08.757511Z"
    }
   },
   "outputs": [
    {
     "name": "stdout",
     "output_type": "stream",
     "text": [
      "cot_fsopt 182340\n",
      "cot_submix 193511\n",
      "cot_zsopt 95079\n",
      "niv2_submix 180000\n"
     ]
    },
    {
     "data": {
      "text/html": [
       "<div>\n",
       "<style scoped>\n",
       "    .dataframe tbody tr th:only-of-type {\n",
       "        vertical-align: middle;\n",
       "    }\n",
       "\n",
       "    .dataframe tbody tr th {\n",
       "        vertical-align: top;\n",
       "    }\n",
       "\n",
       "    .dataframe thead th {\n",
       "        text-align: right;\n",
       "    }\n",
       "</style>\n",
       "<table border=\"1\" class=\"dataframe\">\n",
       "  <thead>\n",
       "    <tr style=\"text-align: right;\">\n",
       "      <th></th>\n",
       "      <th>input_len</th>\n",
       "      <th>target_len</th>\n",
       "      <th>task_source</th>\n",
       "      <th>idx</th>\n",
       "      <th>dataset</th>\n",
       "    </tr>\n",
       "  </thead>\n",
       "  <tbody>\n",
       "    <tr>\n",
       "      <th>0</th>\n",
       "      <td>681</td>\n",
       "      <td>122</td>\n",
       "      <td>CoT</td>\n",
       "      <td>0</td>\n",
       "      <td>cot_fsopt</td>\n",
       "    </tr>\n",
       "    <tr>\n",
       "      <th>1</th>\n",
       "      <td>425</td>\n",
       "      <td>39</td>\n",
       "      <td>CoT</td>\n",
       "      <td>1</td>\n",
       "      <td>cot_fsopt</td>\n",
       "    </tr>\n",
       "    <tr>\n",
       "      <th>2</th>\n",
       "      <td>391</td>\n",
       "      <td>29</td>\n",
       "      <td>CoT</td>\n",
       "      <td>2</td>\n",
       "      <td>cot_fsopt</td>\n",
       "    </tr>\n",
       "    <tr>\n",
       "      <th>3</th>\n",
       "      <td>139</td>\n",
       "      <td>32</td>\n",
       "      <td>CoT</td>\n",
       "      <td>3</td>\n",
       "      <td>cot_fsopt</td>\n",
       "    </tr>\n",
       "    <tr>\n",
       "      <th>4</th>\n",
       "      <td>278</td>\n",
       "      <td>33</td>\n",
       "      <td>CoT</td>\n",
       "      <td>4</td>\n",
       "      <td>cot_fsopt</td>\n",
       "    </tr>\n",
       "    <tr>\n",
       "      <th>...</th>\n",
       "      <td>...</td>\n",
       "      <td>...</td>\n",
       "      <td>...</td>\n",
       "      <td>...</td>\n",
       "      <td>...</td>\n",
       "    </tr>\n",
       "    <tr>\n",
       "      <th>986705</th>\n",
       "      <td>55</td>\n",
       "      <td>23</td>\n",
       "      <td>NIv2</td>\n",
       "      <td>986705</td>\n",
       "      <td>niv2_submix</td>\n",
       "    </tr>\n",
       "    <tr>\n",
       "      <th>1438794</th>\n",
       "      <td>167</td>\n",
       "      <td>2</td>\n",
       "      <td>NIv2</td>\n",
       "      <td>1438794</td>\n",
       "      <td>niv2_submix</td>\n",
       "    </tr>\n",
       "    <tr>\n",
       "      <th>4025403</th>\n",
       "      <td>210</td>\n",
       "      <td>2</td>\n",
       "      <td>NIv2</td>\n",
       "      <td>4025403</td>\n",
       "      <td>niv2_submix</td>\n",
       "    </tr>\n",
       "    <tr>\n",
       "      <th>1698523</th>\n",
       "      <td>88</td>\n",
       "      <td>4</td>\n",
       "      <td>NIv2</td>\n",
       "      <td>1698523</td>\n",
       "      <td>niv2_submix</td>\n",
       "    </tr>\n",
       "    <tr>\n",
       "      <th>1564072</th>\n",
       "      <td>643</td>\n",
       "      <td>14</td>\n",
       "      <td>NIv2</td>\n",
       "      <td>1564072</td>\n",
       "      <td>niv2_submix</td>\n",
       "    </tr>\n",
       "  </tbody>\n",
       "</table>\n",
       "<p>650930 rows × 5 columns</p>\n",
       "</div>"
      ],
      "text/plain": [
       "         input_len  target_len task_source      idx      dataset\n",
       "0              681         122         CoT        0    cot_fsopt\n",
       "1              425          39         CoT        1    cot_fsopt\n",
       "2              391          29         CoT        2    cot_fsopt\n",
       "3              139          32         CoT        3    cot_fsopt\n",
       "4              278          33         CoT        4    cot_fsopt\n",
       "...            ...         ...         ...      ...          ...\n",
       "986705          55          23        NIv2   986705  niv2_submix\n",
       "1438794        167           2        NIv2  1438794  niv2_submix\n",
       "4025403        210           2        NIv2  4025403  niv2_submix\n",
       "1698523         88           4        NIv2  1698523  niv2_submix\n",
       "1564072        643          14        NIv2  1564072  niv2_submix\n",
       "\n",
       "[650930 rows x 5 columns]"
      ]
     },
     "execution_count": 63,
     "metadata": {},
     "output_type": "execute_result"
    }
   ],
   "source": [
    "instruction_lengths_datasets = [\n",
    "    \"cot_fsopt\",\n",
    "    \"cot_submix\",\n",
    "    \"cot_zsopt\",\n",
    "    \"niv2_submix\",\n",
    "]\n",
    "\n",
    "df_lst = []\n",
    "for fn in instruction_lengths_datasets:\n",
    "    df = pd.read_csv(wandb_utils.get_repo_dir() / \"results\" / f\"instruct_lengths_{fn}.csv\")\n",
    "    if fn == \"niv2_submix\":\n",
    "#         Sample 200000, with seed 42\n",
    "        df = df.sample(n=180000, random_state=42)\n",
    "\n",
    "    print(fn, len(df))\n",
    "    df[\"dataset\"] = fn\n",
    "    df_lst.append(df)\n",
    "\n",
    "df = pd.concat(df_lst)\n",
    "df"
   ]
  },
  {
   "cell_type": "markdown",
   "metadata": {},
   "source": [
    "## Plot Instruction Lengths"
   ]
  },
  {
   "cell_type": "code",
   "execution_count": null,
   "metadata": {},
   "outputs": [],
   "source": []
  },
  {
   "cell_type": "code",
   "execution_count": 27,
   "metadata": {
    "ExecuteTime": {
     "end_time": "2023-04-04T18:27:09.224279Z",
     "start_time": "2023-04-04T18:27:09.077063Z"
    }
   },
   "outputs": [
    {
     "name": "stdout",
     "output_type": "stream",
     "text": [
      "182340\n"
     ]
    },
    {
     "name": "stderr",
     "output_type": "stream",
     "text": [
      "/var/folders/1v/7yt3f78s4xq7g51lj7r4v9800000gn/T/ipykernel_84935/3072926237.py:8: SettingWithCopyWarning: \n",
      "A value is trying to be set on a copy of a slice from a DataFrame.\n",
      "Try using .loc[row_indexer,col_indexer] = value instead\n",
      "\n",
      "See the caveats in the documentation: https://pandas.pydata.org/pandas-docs/stable/user_guide/indexing.html#returning-a-view-versus-a-copy\n"
     ]
    }
   ],
   "source": [
    "from matplotlib import rc\n",
    "rc('text', usetex=True)\n",
    "\n",
    "pdf = df\n",
    "\n",
    "\n",
    "pdf = pdf[pdf[\"dataset\"] == \"cot_fsopt\"]\n",
    "pdf[\"instance_len\"] = pdf[\"input_len\"] + pdf[\"target_len\"]\n",
    "\n",
    "column = \"target_len\"\n",
    "\n",
    "print(len(pdf))"
   ]
  },
  {
   "cell_type": "code",
   "execution_count": 35,
   "metadata": {
    "ExecuteTime": {
     "end_time": "2023-04-04T18:27:48.770147Z",
     "start_time": "2023-04-04T18:27:48.750831Z"
    }
   },
   "outputs": [],
   "source": [
    "# Sample pandas dataframe\n",
    "# pdf = pdf.sample(n=1000)"
   ]
  },
  {
   "cell_type": "code",
   "execution_count": 8,
   "metadata": {
    "ExecuteTime": {
     "end_time": "2023-04-04T18:31:22.941898Z",
     "start_time": "2023-04-04T18:31:22.116558Z"
    }
   },
   "outputs": [
    {
     "name": "stderr",
     "output_type": "stream",
     "text": [
      "/usr/local/miniconda3/envs/comp-gen_v2/lib/python3.9/site-packages/plotnine/layer.py:411: PlotnineWarning: geom_histogram : Removed 1 rows containing missing values.\n"
     ]
    },
    {
     "data": {
      "image/png": "[encoded data removed]",
      "text/plain": [
       "<Figure size 1500x1000 with 1 Axes>"
      ]
     },
     "metadata": {},
     "output_type": "display_data"
    },
    {
     "data": {
      "text/plain": [
       "<ggplot: (8763163144117)>"
      ]
     },
     "execution_count": 8,
     "metadata": {},
     "output_type": "execute_result"
    }
   ],
   "source": [
    "p9 = importlib.reload(p9)\n",
    "\n",
    "p = (\n",
    "    p9.ggplot(pdf, p9.aes(x=\"target_len\", y=p9.after_stat('width*density')))\n",
    "    + p9.geom_histogram(\n",
    "        bins=100,\n",
    "        color=\"black\",\n",
    "        fill=\"#6E006E\",\n",
    "        # size=1,\n",
    "        # width=0.6,\n",
    "    )\n",
    "    + p9.scale_y_continuous(\n",
    "        breaks=np.arange(0, 1, 0.05),\n",
    "        limits=[0, 0.33],\n",
    "        expand = (0, 0)\n",
    "    )\n",
    "#     + p9.facet_wrap(\"dataset\", ncol=1)\n",
    "    + p9.labs(\n",
    "        x=r\"Output Length ($y$)\",\n",
    "        y=\"Fraction of samples\",\n",
    "        # y=r\"\\textbf{Training} Context Size (Number of Tokens)\",\n",
    "        # color=None,\n",
    "        # fill=None,\n",
    "    )\n",
    "#     + p9u.scale_fill_prism(\"mila_purples_reverse\")\n",
    "#     + p9u.scale_color_prism(\"formal\")\n",
    "    #         + p9.theme_light()\n",
    "    + p9u.theme_formal(grid=\"Y\",\n",
    "                       axis_text_size=28,\n",
    "                       base_size=28,\n",
    "                      )\n",
    "#     + p9.theme_minimal()\n",
    "#     + p9u.theme_ipsum(grid=\"XY\", base_family=\"Times New Roman\", axis_title_size=12, axis_text_size=12)\n",
    "    + p9.theme(\n",
    "#         #             plot_margin=0,\n",
    "# #         text=p9.element_text(size=10),\n",
    "# #         panel_spacing=,\n",
    "#         legend_position=\"none\",\n",
    "#         # legend_box=\"vertical\",\n",
    "#         axis_title=p9.element_text(size=28),\n",
    "#         axis_title_y=p9.element_text(margin=dict(r=30)),\n",
    "        figure_size=(15, 10)\n",
    "    )\n",
    ")\n",
    "# p.save(output_dir / f\"context_size.pdf\", dpi=300)\n",
    "p"
   ]
  },
  {
   "cell_type": "code",
   "execution_count": 32,
   "metadata": {},
   "outputs": [
    {
     "data": {
      "image/png": "[encoded data removed]",
      "text/plain": [
       "<Figure size 1000x500 with 1 Axes>"
      ]
     },
     "metadata": {},
     "output_type": "display_data"
    },
    {
     "data": {
      "text/plain": [
       "<ggplot: (8763163456404)>"
      ]
     },
     "execution_count": 32,
     "metadata": {},
     "output_type": "execute_result"
    }
   ],
   "source": [
    "p9 = importlib.reload(p9)\n",
    "\n",
    "p = (\n",
    "    p9.ggplot(pdf, p9.aes(x=\"instance_len\", y=p9.after_stat('width*density')))\n",
    "    + p9.geom_histogram(\n",
    "        bins=50,\n",
    "        color=\"black\",\n",
    "        fill=\"#6E006E\",\n",
    "        # size=1,\n",
    "        # width=0.6,\n",
    "    )\n",
    "    + p9.scale_y_continuous(\n",
    "        breaks=np.arange(0, 1, 0.05),\n",
    "#         limits=[0, 55000],\n",
    "#         expand = (0, 0)\n",
    "    )\n",
    "    + p9.scale_x_continuous(\n",
    "        breaks=np.arange(0, 6000, 1000),\n",
    "#         limits=[0, 55000],\n",
    "#         expand = (0, 0)\n",
    "    )\n",
    "#     + p9.facet_wrap(\"dataset\", ncol=1)\n",
    "    + p9.labs(\n",
    "        x=r\"Example Length\",\n",
    "        y=\"Fraction\",\n",
    "        # y=r\"\\textbf{Training} Context Size (Number of Tokens)\",\n",
    "        # color=None,\n",
    "        # fill=None,\n",
    "    )\n",
    "#     + p9u.scale_fill_prism(\"mila_purples_reverse\")\n",
    "#     + p9u.scale_color_prism(\"formal\")\n",
    "    #         + p9.theme_light()\n",
    "    + p9u.theme_formal(grid=\"Y\",\n",
    "                       axis_text_size=18,\n",
    "#                        base_size=28,\n",
    "                       base_family=\"Computer Modern Sans serif\",\n",
    "                      )\n",
    "#     + p9.theme_minimal()\n",
    "#     + p9u.theme_ipsum(grid=\"XY\", base_family=\"Times New Roman\", axis_title_size=12, axis_text_size=12)\n",
    "    + p9.theme(\n",
    "#         #             plot_margin=0,\n",
    "# #         text=p9.element_text(size=10),\n",
    "# #         panel_spacing=,\n",
    "#         legend_position=\"none\",\n",
    "#         # legend_box=\"vertical\",\n",
    "#         axis_title=p9.element_text(size=28),\n",
    "#         axis_title_y=p9.element_text(margin=dict(r=30)),\n",
    "        figure_size=(10, 5)\n",
    "    )\n",
    ")\n",
    "# p.save(output_dir / f\"instance_seq_len_flan.pdf\", dpi=300)\n",
    "p"
   ]
  },
  {
   "cell_type": "code",
   "execution_count": 71,
   "metadata": {},
   "outputs": [
    {
     "name": "stderr",
     "output_type": "stream",
     "text": [
      "/var/folders/1v/7yt3f78s4xq7g51lj7r4v9800000gn/T/ipykernel_84935/885198822.py:7: SettingWithCopyWarning: \n",
      "A value is trying to be set on a copy of a slice from a DataFrame.\n",
      "Try using .loc[row_indexer,col_indexer] = value instead\n",
      "\n",
      "See the caveats in the documentation: https://pandas.pydata.org/pandas-docs/stable/user_guide/indexing.html#returning-a-view-versus-a-copy\n",
      "/usr/local/miniconda3/envs/comp-gen_v2/lib/python3.9/site-packages/plotnine/ggplot.py:718: PlotnineWarning: Saving 10 x 5 in image.\n",
      "/usr/local/miniconda3/envs/comp-gen_v2/lib/python3.9/site-packages/plotnine/ggplot.py:719: PlotnineWarning: Filename: output_plots/instruction_length_dist/instance_seq_len_flan.pdf\n"
     ]
    },
    {
     "data": {
      "image/png": "[encoded data removed]",
      "text/plain": [
       "<Figure size 1000x500 with 1 Axes>"
      ]
     },
     "metadata": {},
     "output_type": "display_data"
    },
    {
     "data": {
      "text/plain": [
       "<ggplot: (8763062947503)>"
      ]
     },
     "execution_count": 71,
     "metadata": {},
     "output_type": "execute_result"
    }
   ],
   "source": [
    "p9 = importlib.reload(p9)\n",
    "\n",
    "pdf = df\n",
    "\n",
    "\n",
    "pdf = pdf[pdf[\"dataset\"] == \"cot_fsopt\"]\n",
    "pdf[\"instance_len\"] = pdf[\"input_len\"] + pdf[\"target_len\"]\n",
    "\n",
    "median = pdf[\"instance_len\"].median()\n",
    "\n",
    "p = (\n",
    "    p9.ggplot(pdf, p9.aes(\n",
    "        x=\"instance_len\", \n",
    "#         y=p9.after_stat('width*density')\n",
    "    ))\n",
    "    + p9.geom_histogram(\n",
    "        bins=50,\n",
    "        color=\"black\",\n",
    "        fill=\"#6E006E\",\n",
    "        # size=1,\n",
    "        # width=0.6,\n",
    "    )\n",
    "    + p9.geom_vline(xintercept=median, linetype=\"dotted\",\n",
    "                color = \"#EBC591\", size=1.5)\n",
    "    + p9.scale_y_continuous(\n",
    "#         breaks=np.arange(0, 1, 0.05),\n",
    "        limits=[0, 55000],\n",
    "        expand = (0, 0)\n",
    "    )\n",
    "    + p9.scale_x_continuous(\n",
    "        breaks=np.arange(0, 6000, 1000),\n",
    "#         limits=[0, 55000],\n",
    "#         expand = (0, 0)\n",
    "    )\n",
    "#     + p9.facet_wrap(\"dataset\", ncol=1)\n",
    "    + p9.labs(\n",
    "        x=r\"Example Length\",\n",
    "        y=\"Count\",\n",
    "        # y=r\"\\textbf{Training} Context Size (Number of Tokens)\",\n",
    "        # color=None,\n",
    "        # fill=None,\n",
    "    )\n",
    "#     + p9u.scale_fill_prism(\"mila_purples_reverse\")\n",
    "#     + p9u.scale_color_prism(\"formal\")\n",
    "    #         + p9.theme_light()\n",
    "    + p9u.theme_formal(grid=\"Y\",\n",
    "                       axis_text_size=18,\n",
    "#                        base_size=28,\n",
    "                       base_family=\"Computer Modern Sans serif\",\n",
    "                      )\n",
    "#     + p9.theme_minimal()\n",
    "#     + p9u.theme_ipsum(grid=\"XY\", base_family=\"Times New Roman\", axis_title_size=12, axis_text_size=12)\n",
    "    + p9.theme(\n",
    "#         #             plot_margin=0,\n",
    "# #         text=p9.element_text(size=10),\n",
    "# #         panel_spacing=,\n",
    "#         legend_position=\"none\",\n",
    "#         # legend_box=\"vertical\",\n",
    "#         axis_title=p9.element_text(size=28),\n",
    "#         axis_title_y=p9.element_text(margin=dict(r=30)),\n",
    "        figure_size=(10, 5)\n",
    "    )\n",
    ")\n",
    "p.save(output_dir / f\"instance_seq_len_flan.pdf\", dpi=300)\n",
    "p"
   ]
  },
  {
   "cell_type": "code",
   "execution_count": 16,
   "metadata": {},
   "outputs": [
    {
     "data": {
      "text/plain": [
       "670930"
      ]
     },
     "execution_count": 16,
     "metadata": {},
     "output_type": "execute_result"
    }
   ],
   "source": [
    "len(df)"
   ]
  },
  {
   "cell_type": "code",
   "execution_count": 72,
   "metadata": {},
   "outputs": [
    {
     "name": "stderr",
     "output_type": "stream",
     "text": [
      "/var/folders/1v/7yt3f78s4xq7g51lj7r4v9800000gn/T/ipykernel_84935/3947783485.py:8: SettingWithCopyWarning: \n",
      "A value is trying to be set on a copy of a slice from a DataFrame.\n",
      "Try using .loc[row_indexer,col_indexer] = value instead\n",
      "\n",
      "See the caveats in the documentation: https://pandas.pydata.org/pandas-docs/stable/user_guide/indexing.html#returning-a-view-versus-a-copy\n"
     ]
    },
    {
     "name": "stdout",
     "output_type": "stream",
     "text": [
      "180000\n"
     ]
    },
    {
     "data": {
      "image/png": "[encoded data removed]",
      "text/plain": [
       "<Figure size 1000x500 with 1 Axes>"
      ]
     },
     "metadata": {},
     "output_type": "display_data"
    },
    {
     "data": {
      "text/plain": [
       "<ggplot: (8763067536249)>"
      ]
     },
     "execution_count": 72,
     "metadata": {},
     "output_type": "execute_result"
    }
   ],
   "source": [
    "from matplotlib import rc\n",
    "rc('text', usetex=True)\n",
    "\n",
    "pdf = df\n",
    "\n",
    "\n",
    "pdf = pdf[pdf[\"dataset\"] == \"niv2_submix\"]\n",
    "pdf[\"instance_len\"] = pdf[\"input_len\"] + pdf[\"target_len\"]\n",
    "\n",
    "column = \"target_len\"\n",
    "\n",
    "print(len(pdf))\n",
    "\n",
    "p9 = importlib.reload(p9)\n",
    "\n",
    "p = (\n",
    "    p9.ggplot(pdf, p9.aes(x=\"instance_len\", y=p9.after_stat('width*density')))\n",
    "    + p9.geom_histogram(\n",
    "        bins=50,\n",
    "        color=\"black\",\n",
    "        fill=\"#6E006E\",\n",
    "        # size=1,\n",
    "        # width=0.6,\n",
    "    )\n",
    "    + p9.scale_y_continuous(\n",
    "        breaks=np.arange(0, 1, 0.1),\n",
    "#         limits=[0, 55000],\n",
    "#         expand = (0, 0)\n",
    "    )\n",
    "    + p9.scale_x_continuous(\n",
    "        breaks=np.arange(0, 12000, 1000),\n",
    "#         limits=[0, 55000],\n",
    "#         expand = (0, 0)\n",
    "    )\n",
    "#     + p9.facet_wrap(\"dataset\", ncol=1)\n",
    "    + p9.labs(\n",
    "        x=r\"Example Length\",\n",
    "        y=\"Fraction\",\n",
    "        # y=r\"\\textbf{Training} Context Size (Number of Tokens)\",\n",
    "        # color=None,\n",
    "        # fill=None,\n",
    "    )\n",
    "#     + p9u.scale_fill_prism(\"mila_purples_reverse\")\n",
    "#     + p9u.scale_color_prism(\"formal\")\n",
    "    #         + p9.theme_light()\n",
    "    + p9u.theme_formal(grid=\"Y\",\n",
    "                       axis_text_size=18,\n",
    "#                        base_size=28,\n",
    "                       base_family=\"Computer Modern Sans serif\",\n",
    "                      )\n",
    "#     + p9.theme_minimal()\n",
    "#     + p9u.theme_ipsum(grid=\"XY\", base_family=\"Times New Roman\", axis_title_size=12, axis_text_size=12)\n",
    "    + p9.theme(\n",
    "#         #             plot_margin=0,\n",
    "# #         text=p9.element_text(size=10),\n",
    "# #         panel_spacing=,\n",
    "#         legend_position=\"none\",\n",
    "#         # legend_box=\"vertical\",\n",
    "#         axis_title=p9.element_text(size=28),\n",
    "#         axis_title_y=p9.element_text(margin=dict(r=30)),\n",
    "        figure_size=(10, 5)\n",
    "    )\n",
    ")\n",
    "# p.save(output_dir / f\"instance_seq_len_flan.pdf\", dpi=300)\n",
    "p"
   ]
  },
  {
   "cell_type": "code",
   "execution_count": 75,
   "metadata": {
    "ExecuteTime": {
     "end_time": "2023-04-21T17:38:50.015284Z",
     "start_time": "2023-04-21T17:38:48.415540Z"
    }
   },
   "outputs": [
    {
     "name": "stderr",
     "output_type": "stream",
     "text": [
      "/var/folders/1v/7yt3f78s4xq7g51lj7r4v9800000gn/T/ipykernel_84935/2354806373.py:8: SettingWithCopyWarning: \n",
      "A value is trying to be set on a copy of a slice from a DataFrame.\n",
      "Try using .loc[row_indexer,col_indexer] = value instead\n",
      "\n",
      "See the caveats in the documentation: https://pandas.pydata.org/pandas-docs/stable/user_guide/indexing.html#returning-a-view-versus-a-copy\n",
      "/usr/local/miniconda3/envs/comp-gen_v2/lib/python3.9/site-packages/plotnine/ggplot.py:718: PlotnineWarning: Saving 10 x 5 in image.\n",
      "/usr/local/miniconda3/envs/comp-gen_v2/lib/python3.9/site-packages/plotnine/ggplot.py:719: PlotnineWarning: Filename: output_plots/instruction_length_dist/instance_seq_len_niv2.pdf\n"
     ]
    },
    {
     "name": "stdout",
     "output_type": "stream",
     "text": [
      "180000\n"
     ]
    },
    {
     "data": {
      "image/png": "[encoded data removed]",
      "text/plain": [
       "<Figure size 1000x500 with 1 Axes>"
      ]
     },
     "metadata": {},
     "output_type": "display_data"
    },
    {
     "data": {
      "text/plain": [
       "<ggplot: (8763167468234)>"
      ]
     },
     "execution_count": 75,
     "metadata": {},
     "output_type": "execute_result"
    }
   ],
   "source": [
    "from matplotlib import rc\n",
    "rc('text', usetex=True)\n",
    "\n",
    "pdf = df\n",
    "\n",
    "\n",
    "pdf = pdf[pdf[\"dataset\"] == \"niv2_submix\"]\n",
    "pdf[\"instance_len\"] = pdf[\"input_len\"] + pdf[\"target_len\"]\n",
    "\n",
    "median = pdf['instance_len'].median()\n",
    "median\n",
    "\n",
    "print(len(pdf))\n",
    "\n",
    "p9 = importlib.reload(p9)\n",
    "\n",
    "p = (\n",
    "    p9.ggplot(pdf, p9.aes(\n",
    "        x=\"instance_len\", \n",
    "#         y=p9.after_stat('width*density')\n",
    "    ))\n",
    "    + p9.geom_histogram(\n",
    "        bins=50,\n",
    "        color=\"black\",\n",
    "        fill=\"#6E006E\",\n",
    "        # size=1,\n",
    "        # width=0.6,\n",
    "    )\n",
    "    + p9.geom_vline(xintercept=median, linetype=\"dotted\",\n",
    "                color = \"#EBC591\", size=1.5)\n",
    "    + p9.scale_y_continuous(\n",
    "        breaks=np.arange(0, 120000, 20000),\n",
    "        limits=[0, 105000],\n",
    "        expand = (0, 0)\n",
    "    )\n",
    "    + p9.scale_x_continuous(\n",
    "        breaks=np.arange(0, 10000, 1500),\n",
    "# #         limits=[0, 55000],\n",
    "# #         expand = (0, 0)\n",
    "    )\n",
    "#     + p9.facet_wrap(\"dataset\", ncol=1)\n",
    "    + p9.labs(\n",
    "        x=r\"Example Length\",\n",
    "        y=\"Count\",\n",
    "        # y=r\"\\textbf{Training} Context Size (Number of Tokens)\",\n",
    "        # color=None,\n",
    "        # fill=None,\n",
    "    )\n",
    "#     + p9u.scale_fill_prism(\"mila_purples_reverse\")\n",
    "#     + p9u.scale_color_prism(\"formal\")\n",
    "    #         + p9.theme_light()\n",
    "    + p9u.theme_formal(grid=\"Y\",\n",
    "                       axis_text_size=18,\n",
    "#                        base_size=28,\n",
    "                       base_family=\"Computer Modern Sans serif\",\n",
    "                      )\n",
    "#     + p9.theme_minimal()\n",
    "#     + p9u.theme_ipsum(grid=\"XY\", base_family=\"Times New Roman\", axis_title_size=12, axis_text_size=12)\n",
    "    + p9.theme(\n",
    "#         #             plot_margin=0,\n",
    "# #         text=p9.element_text(size=10),\n",
    "# #         panel_spacing=,\n",
    "#         legend_position=\"none\",\n",
    "#         # legend_box=\"vertical\",\n",
    "#         axis_title=p9.element_text(size=28),\n",
    "#         axis_title_y=p9.element_text(margin=dict(r=30)),\n",
    "        figure_size=(10, 5)\n",
    "    )\n",
    ")\n",
    "p.save(output_dir / f\"instance_seq_len_niv2.pdf\", dpi=300)\n",
    "p"
   ]
  },
  {
   "cell_type": "code",
   "execution_count": 114,
   "metadata": {
    "scrolled": true
   },
   "outputs": [
    {
     "name": "stderr",
     "output_type": "stream",
     "text": [
      "/var/folders/1v/7yt3f78s4xq7g51lj7r4v9800000gn/T/ipykernel_84935/1794291216.py:4: SettingWithCopyWarning: \n",
      "A value is trying to be set on a copy of a slice from a DataFrame.\n",
      "Try using .loc[row_indexer,col_indexer] = value instead\n",
      "\n",
      "See the caveats in the documentation: https://pandas.pydata.org/pandas-docs/stable/user_guide/indexing.html#returning-a-view-versus-a-copy\n",
      "/var/folders/1v/7yt3f78s4xq7g51lj7r4v9800000gn/T/ipykernel_84935/1794291216.py:5: SettingWithCopyWarning: \n",
      "A value is trying to be set on a copy of a slice from a DataFrame.\n",
      "Try using .loc[row_indexer,col_indexer] = value instead\n",
      "\n",
      "See the caveats in the documentation: https://pandas.pydata.org/pandas-docs/stable/user_guide/indexing.html#returning-a-view-versus-a-copy\n",
      "/var/folders/1v/7yt3f78s4xq7g51lj7r4v9800000gn/T/ipykernel_84935/1794291216.py:9: SettingWithCopyWarning: \n",
      "A value is trying to be set on a copy of a slice from a DataFrame.\n",
      "Try using .loc[row_indexer,col_indexer] = value instead\n",
      "\n",
      "See the caveats in the documentation: https://pandas.pydata.org/pandas-docs/stable/user_guide/indexing.html#returning-a-view-versus-a-copy\n",
      "/var/folders/1v/7yt3f78s4xq7g51lj7r4v9800000gn/T/ipykernel_84935/1794291216.py:10: SettingWithCopyWarning: \n",
      "A value is trying to be set on a copy of a slice from a DataFrame.\n",
      "Try using .loc[row_indexer,col_indexer] = value instead\n",
      "\n",
      "See the caveats in the documentation: https://pandas.pydata.org/pandas-docs/stable/user_guide/indexing.html#returning-a-view-versus-a-copy\n"
     ]
    },
    {
     "name": "stdout",
     "output_type": "stream",
     "text": [
      "       dataset  median              pretty_dataset\n",
      "0  niv2_submix   141.0  Super-Natural Instructions\n",
      "1    cot_fsopt   454.0                  FLAN (CoT)\n"
     ]
    },
    {
     "name": "stderr",
     "output_type": "stream",
     "text": [
      "/usr/local/miniconda3/envs/comp-gen_v2/lib/python3.9/site-packages/plotnine/ggplot.py:718: PlotnineWarning: Saving 20 x 5 in image.\n",
      "/usr/local/miniconda3/envs/comp-gen_v2/lib/python3.9/site-packages/plotnine/ggplot.py:719: PlotnineWarning: Filename: output_plots/instruction_length_dist/instance_len_flan_niv2.pdf\n",
      "/usr/local/miniconda3/envs/comp-gen_v2/lib/python3.9/site-packages/plotnine/layer.py:411: PlotnineWarning: geom_histogram : Removed 4 rows containing missing values.\n",
      "/usr/local/miniconda3/envs/comp-gen_v2/lib/python3.9/site-packages/plotnine/layer.py:411: PlotnineWarning: geom_histogram : Removed 4 rows containing missing values.\n"
     ]
    },
    {
     "data": {
      "image/png": "[encoded data removed]",
      "text/plain": [
       "<Figure size 2000x500 with 2 Axes>"
      ]
     },
     "metadata": {},
     "output_type": "display_data"
    },
    {
     "data": {
      "text/plain": [
       "<ggplot: (8763067496105)>"
      ]
     },
     "execution_count": 114,
     "metadata": {},
     "output_type": "execute_result"
    }
   ],
   "source": [
    "# Combined\n",
    "\n",
    "pdf1 = df[df[\"dataset\"] == \"niv2_submix\"]\n",
    "pdf1[\"pretty_dataset\"] = \"Super-Natural Instructions\"\n",
    "pdf1[\"instance_len\"] = pdf1[\"input_len\"] + pdf1[\"target_len\"]\n",
    "pdf1 = pdf1[pdf1[\"instance_len\"] <= 4000] \n",
    "\n",
    "pdf2 = df[df[\"dataset\"] == \"cot_fsopt\"]\n",
    "pdf2[\"pretty_dataset\"] = \"FLAN (CoT)\"\n",
    "pdf2[\"instance_len\"] = pdf2[\"input_len\"] + pdf2[\"target_len\"]\n",
    "pdf2 = pdf2[pdf2[\"instance_len\"] <= 4000] \n",
    "\n",
    "median_pdf = pd.DataFrame.from_records(\n",
    "    {\n",
    "        \"dataset\": [\"niv2_submix\", \"cot_fsopt\"],\n",
    "        \"pretty_dataset\": [\"Super-Natural Instructions\", \"FLAN (CoT)\"],\n",
    "        \"median\": [pdf1[\"instance_len\"].median(), pdf2[\"instance_len\"].median()]\n",
    "    }\n",
    ")\n",
    "\n",
    "pdf = pd.concat([\n",
    "    pdf1, pdf2\n",
    "])\n",
    "\n",
    "from matplotlib import rc\n",
    "rc('text', usetex=True)\n",
    "\n",
    "\n",
    "print(median_pdf)\n",
    "# print(len(median))\n",
    "\n",
    "p9 = importlib.reload(p9)\n",
    "\n",
    "p = (\n",
    "    p9.ggplot(pdf, p9.aes(\n",
    "        x=\"instance_len\", \n",
    "#         y=p9.after_stat('width*density')\n",
    "    ))\n",
    "    + p9.geom_histogram(\n",
    "        bins=50,\n",
    "        color=\"black\",\n",
    "        fill=\"#6E006E\",\n",
    "        # size=1,\n",
    "        # width=0.6,\n",
    "    )\n",
    "    + p9.geom_vline(data=median_pdf, mapping=p9.aes(xintercept=\"median\"), linetype=\"dotted\",\n",
    "                color = \"#EBC591\", size=2.5)\n",
    "    + p9.scale_y_continuous(\n",
    "        breaks=np.arange(0, 120000, 15000),\n",
    "#         limits=[0, 105000],\n",
    "#         expand = (0, 0)\n",
    "    )\n",
    "    + p9.scale_x_continuous(\n",
    "#         breaks=np.arange(0, 10000, 1500),\n",
    "        limits=[0, 4000],\n",
    "#         expand = (0, 0)\n",
    "    )\n",
    "    + p9.facet_wrap(\"pretty_dataset\", ncol=2, scales=\"free_x\")\n",
    "    + p9.labs(\n",
    "        x=r\"Example Length\",\n",
    "        y=\"Count\",\n",
    "        # y=r\"\\textbf{Training} Context Size (Number of Tokens)\",\n",
    "        # color=None,\n",
    "        # fill=None,\n",
    "    )\n",
    "#     + p9u.scale_fill_prism(\"mila_purples_reverse\")\n",
    "#     + p9u.scale_color_prism(\"formal\")\n",
    "    #         + p9.theme_light()\n",
    "    + p9u.theme_formal(grid=\"Y\",\n",
    "                       axis_text_size=22,\n",
    "                       base_size=22,\n",
    "                       base_family=\"Computer Modern Sans serif\",\n",
    "                      )\n",
    "#     + p9.theme_minimal()\n",
    "#     + p9u.theme_ipsum(grid=\"XY\", base_family=\"Times New Roman\", axis_title_size=12, axis_text_size=12)\n",
    "    + p9.theme(\n",
    "#         #             plot_margin=0,\n",
    "# #         text=p9.element_text(size=10),\n",
    "        panel_spacing=0.4,\n",
    "#         legend_position=\"none\",\n",
    "#         # legend_box=\"vertical\",\n",
    "        strip_text=p9.element_text(size=22),\n",
    "        axis_title=p9.element_text(size=22),\n",
    "#         axis_title_y=p9.element_text(margin=dict(r=30)),\n",
    "        figure_size=(20, 5)\n",
    "    )\n",
    ")\n",
    "p.save(output_dir / f\"instance_len_flan_niv2.pdf\", dpi=300)\n",
    "p"
   ]
  },
  {
   "cell_type": "code",
   "execution_count": null,
   "metadata": {},
   "outputs": [],
   "source": [
    "# Combined\n",
    "\n",
    "pdf1 = df[df[\"dataset\"] == \"niv2_submix\"]\n",
    "pdf1[\"instance_len\"] = pdf1[\"input_len\"] + pdf1[\"target_len\"]\n",
    "\n",
    "pdf2 = df[df[\"dataset\"] == \"cot_fsopt\"]\n",
    "pdf2[\"instance_len\"] = pdf2[\"input_len\"] + pdf2[\"target_len\"]\n",
    "\n",
    "median_pdf = pd.DataFrame.from_records(\n",
    "    {\n",
    "        \"dataset\": [\"niv2_submix\", \"cot_fsopt\"],\n",
    "        \"median\": [pdf1[\"instance_len\"].median(), pdf2[\"instance_len\"].median()]\n",
    "    }\n",
    ")\n",
    "\n",
    "pdf = pd.concat([\n",
    "    pdf1, pdf2\n",
    "])\n",
    "\n",
    "from matplotlib import rc\n",
    "rc('text', usetex=True)\n",
    "\n",
    "# pdf = df\n",
    "\n",
    "\n",
    "# pdf = pdf[pdf[\"dataset\"] == \"niv2_submix\"]\n",
    "# pdf[\"instance_len\"] = pdf[\"input_len\"] + pdf[\"target_len\"]\n",
    "\n",
    "median = pdf['instance_len'].median()\n",
    "median\n",
    "\n",
    "print(len(pdf))\n",
    "\n",
    "p9 = importlib.reload(p9)\n",
    "\n",
    "p = (\n",
    "    p9.ggplot(pdf, p9.aes(\n",
    "        x=\"instance_len\", \n",
    "#         y=p9.after_stat('width*density')\n",
    "    ))\n",
    "    + p9.geom_histogram(\n",
    "        bins=50,\n",
    "        color=\"black\",\n",
    "        fill=\"#6E006E\",\n",
    "        # size=1,\n",
    "        # width=0.6,\n",
    "    )\n",
    "    + p9.geom_vline(data=median_pdf, mapping=p9.aes(xintercept=\"median\"), linetype=\"dotted\",\n",
    "                color = \"#EBC591\", size=1.5)\n",
    "#     + p9.scale_y_continuous(\n",
    "#         breaks=np.arange(0, 120000, 20000),\n",
    "#         limits=[0, 105000],\n",
    "#         expand = (0, 0)\n",
    "#     )\n",
    "#     + p9.scale_x_continuous(\n",
    "#         breaks=np.arange(0, 10000, 1500),\n",
    "# #         limits=[0, 55000],\n",
    "# #         expand = (0, 0)\n",
    "#     )\n",
    "    + p9.facet_wrap(\"dataset\", ncol=2, scales=\"free_x\")\n",
    "    + p9.labs(\n",
    "        x=r\"Example Length\",\n",
    "        y=\"Count\",\n",
    "        # y=r\"\\textbf{Training} Context Size (Number of Tokens)\",\n",
    "        # color=None,\n",
    "        # fill=None,\n",
    "    )\n",
    "#     + p9u.scale_fill_prism(\"mila_purples_reverse\")\n",
    "#     + p9u.scale_color_prism(\"formal\")\n",
    "    #         + p9.theme_light()\n",
    "    + p9u.theme_formal(grid=\"Y\",\n",
    "                       axis_text_size=18,\n",
    "#                        base_size=28,\n",
    "                       base_family=\"Computer Modern Sans serif\",\n",
    "                      )\n",
    "#     + p9.theme_minimal()\n",
    "#     + p9u.theme_ipsum(grid=\"XY\", base_family=\"Times New Roman\", axis_title_size=12, axis_text_size=12)\n",
    "    + p9.theme(\n",
    "#         #             plot_margin=0,\n",
    "# #         text=p9.element_text(size=10),\n",
    "        panel_spacing=0.4,\n",
    "#         legend_position=\"none\",\n",
    "#         # legend_box=\"vertical\",\n",
    "#         axis_title=p9.element_text(size=28),\n",
    "#         axis_title_y=p9.element_text(margin=dict(r=30)),\n",
    "        figure_size=(20, 5)\n",
    "    )\n",
    ")\n",
    "# p.save(output_dir / f\"instance_seq_len_niv2.pdf\", dpi=300)\n",
    "p"
   ]
  },
  {
   "cell_type": "code",
   "execution_count": 44,
   "metadata": {},
   "outputs": [
    {
     "data": {
      "text/plain": [
       "214.28847"
      ]
     },
     "execution_count": 44,
     "metadata": {},
     "output_type": "execute_result"
    }
   ],
   "source": [
    "pdf['instance_len'].mean()"
   ]
  },
  {
   "cell_type": "code",
   "execution_count": 41,
   "metadata": {
    "ExecuteTime": {
     "end_time": "2023-04-21T17:36:36.350609Z",
     "start_time": "2023-04-21T17:36:36.319362Z"
    }
   },
   "outputs": [
    {
     "data": {
      "text/plain": [
       "141.0"
      ]
     },
     "execution_count": 41,
     "metadata": {},
     "output_type": "execute_result"
    }
   ],
   "source": [
    "# Compute the median of pdf['instance_len']\n",
    "median = pdf['instance_len'].median()\n",
    "median"
   ]
  },
  {
   "cell_type": "code",
   "execution_count": null,
   "metadata": {},
   "outputs": [],
   "source": [
    "p9 = importlib.reload(p9)\n",
    "\n",
    "p = (\n",
    "    p9.ggplot(pdf, p9.aes(x=\"instance_len\", y=p9.after_stat('width*density')))\n",
    "    + p9.geom_histogram(\n",
    "        bins=50,\n",
    "        color=\"black\",\n",
    "        fill=\"#6E006E\",\n",
    "        # size=1,\n",
    "        # width=0.6,\n",
    "    )\n",
    "    + p9.scale_y_continuous(\n",
    "        breaks=np.arange(0, 1, 0.05),\n",
    "#         limits=[0, 55000],\n",
    "#         expand = (0, 0)\n",
    "    )\n",
    "    + p9.scale_x_continuous(\n",
    "        breaks=np.arange(0, 6000, 1000),\n",
    "#         limits=[0, 55000],\n",
    "#         expand = (0, 0)\n",
    "    )\n",
    "#     + p9.facet_wrap(\"dataset\", ncol=1)\n",
    "    + p9.labs(\n",
    "        x=r\"Example Length\",\n",
    "        y=\"Fraction\",\n",
    "        # y=r\"\\textbf{Training} Context Size (Number of Tokens)\",\n",
    "        # color=None,\n",
    "        # fill=None,\n",
    "    )\n",
    "#     + p9u.scale_fill_prism(\"mila_purples_reverse\")\n",
    "#     + p9u.scale_color_prism(\"formal\")\n",
    "    #         + p9.theme_light()\n",
    "    + p9u.theme_formal(grid=\"Y\",\n",
    "                       axis_text_size=18,\n",
    "#                        base_size=28,\n",
    "                       base_family=\"Computer Modern Sans serif\",\n",
    "                      )\n",
    "#     + p9.theme_minimal()\n",
    "#     + p9u.theme_ipsum(grid=\"XY\", base_family=\"Times New Roman\", axis_title_size=12, axis_text_size=12)\n",
    "    + p9.theme(\n",
    "#         #             plot_margin=0,\n",
    "# #         text=p9.element_text(size=10),\n",
    "# #         panel_spacing=,\n",
    "#         legend_position=\"none\",\n",
    "#         # legend_box=\"vertical\",\n",
    "#         axis_title=p9.element_text(size=28),\n",
    "#         axis_title_y=p9.element_text(margin=dict(r=30)),\n",
    "        figure_size=(10, 5)\n",
    "    )\n",
    ")\n",
    "# p.save(output_dir / f\"instance_seq_len_flan.pdf\", dpi=300)\n",
    "p"
   ]
  },
  {
   "cell_type": "code",
   "execution_count": null,
   "metadata": {},
   "outputs": [],
   "source": [
    "p9 = importlib.reload(p9)\n",
    "\n",
    "p = (\n",
    "    p9.ggplot(pdf, p9.aes(\n",
    "        x=\"instance_len\", \n",
    "#         y=p9.after_stat('width*density')\n",
    "    ))\n",
    "    + p9.geom_histogram(\n",
    "        bins=50,\n",
    "        color=\"black\",\n",
    "        fill=\"#6E006E\",\n",
    "        # size=1,\n",
    "        # width=0.6,\n",
    "    )\n",
    "    + p9.scale_y_continuous(\n",
    "#         breaks=np.arange(0, 1, 0.05),\n",
    "        limits=[0, 55000],\n",
    "        expand = (0, 0)\n",
    "    )\n",
    "    + p9.scale_x_continuous(\n",
    "        breaks=np.arange(0, 6000, 1000),\n",
    "#         limits=[0, 55000],\n",
    "#         expand = (0, 0)\n",
    "    )\n",
    "#     + p9.facet_wrap(\"dataset\", ncol=1)\n",
    "    + p9.labs(\n",
    "        x=r\"Example Length\",\n",
    "        y=\"Count\",\n",
    "        # y=r\"\\textbf{Training} Context Size (Number of Tokens)\",\n",
    "        # color=None,\n",
    "        # fill=None,\n",
    "    )\n",
    "#     + p9u.scale_fill_prism(\"mila_purples_reverse\")\n",
    "#     + p9u.scale_color_prism(\"formal\")\n",
    "    #         + p9.theme_light()\n",
    "    + p9u.theme_formal(grid=\"Y\",\n",
    "                       axis_text_size=18,\n",
    "#                        base_size=28,\n",
    "                       base_family=\"Computer Modern Sans serif\",\n",
    "                      )\n",
    "#     + p9.theme_minimal()\n",
    "#     + p9u.theme_ipsum(grid=\"XY\", base_family=\"Times New Roman\", axis_title_size=12, axis_text_size=12)\n",
    "    + p9.theme(\n",
    "#         #             plot_margin=0,\n",
    "# #         text=p9.element_text(size=10),\n",
    "# #         panel_spacing=,\n",
    "#         legend_position=\"none\",\n",
    "#         # legend_box=\"vertical\",\n",
    "#         axis_title=p9.element_text(size=28),\n",
    "#         axis_title_y=p9.element_text(margin=dict(r=30)),\n",
    "        figure_size=(10, 5)\n",
    "    )\n",
    ")\n",
    "p.save(output_dir / f\"instance_seq_len_flan.pdf\", dpi=300)\n",
    "p"
   ]
  },
  {
   "cell_type": "code",
   "execution_count": 6,
   "metadata": {},
   "outputs": [
    {
     "data": {
      "image/png": "[encoded data removed]",
      "text/plain": [
       "<Figure size 1000x500 with 1 Axes>"
      ]
     },
     "metadata": {},
     "output_type": "display_data"
    },
    {
     "data": {
      "text/plain": [
       "<ggplot: (8763165927668)>"
      ]
     },
     "execution_count": 6,
     "metadata": {},
     "output_type": "execute_result"
    }
   ],
   "source": [
    "p9 = importlib.reload(p9)\n",
    "\n",
    "p = (\n",
    "    p9.ggplot(pdf, p9.aes(x=\"input_len\", y=p9.after_stat('width*density')))\n",
    "    + p9.geom_histogram(\n",
    "        bins=50,\n",
    "        color=\"black\",\n",
    "        fill=\"#6E006E\",\n",
    "        # size=1,\n",
    "        # width=0.6,\n",
    "    )\n",
    "    + p9.scale_y_continuous(\n",
    "        breaks=np.arange(0, 1, 0.05),\n",
    "        limits=[0, 0.33],\n",
    "        expand = (0, 0)\n",
    "    )\n",
    "#     + p9.facet_wrap(\"dataset\", ncol=1)\n",
    "    + p9.labs(\n",
    "        x=r\"Input Length ($x$)\",\n",
    "        y=\"Fraction of samples\",\n",
    "        # y=r\"\\textbf{Training} Context Size (Number of Tokens)\",\n",
    "        # color=None,\n",
    "        # fill=None,\n",
    "    )\n",
    "#     + p9u.scale_fill_prism(\"mila_purples_reverse\")\n",
    "#     + p9u.scale_color_prism(\"formal\")\n",
    "    #         + p9.theme_light()\n",
    "    + p9u.theme_formal(grid=\"Y\",\n",
    "                       axis_text_size=18,\n",
    "#                        base_size=28,\n",
    "                      )\n",
    "#     + p9.theme_minimal()\n",
    "#     + p9u.theme_ipsum(grid=\"XY\", base_family=\"Times New Roman\", axis_title_size=12, axis_text_size=12)\n",
    "    + p9.theme(\n",
    "#         #             plot_margin=0,\n",
    "# #         text=p9.element_text(size=10),\n",
    "# #         panel_spacing=,\n",
    "#         legend_position=\"none\",\n",
    "#         # legend_box=\"vertical\",\n",
    "#         axis_title=p9.element_text(size=28),\n",
    "#         axis_title_y=p9.element_text(margin=dict(r=30)),\n",
    "        figure_size=(10, 5)\n",
    "    )\n",
    ")\n",
    "# p.save(output_dir / f\"context_size.pdf\", dpi=300)\n",
    "p"
   ]
  },
  {
   "cell_type": "markdown",
   "metadata": {},
   "source": [
    "## Plot side by side"
   ]
  },
  {
   "cell_type": "code",
   "execution_count": 98,
   "metadata": {},
   "outputs": [
    {
     "name": "stdout",
     "output_type": "stream",
     "text": [
      "547020\n"
     ]
    },
    {
     "name": "stderr",
     "output_type": "stream",
     "text": [
      "/var/folders/1v/7yt3f78s4xq7g51lj7r4v9800000gn/T/ipykernel_19693/3934966528.py:8: SettingWithCopyWarning: \n",
      "A value is trying to be set on a copy of a slice from a DataFrame.\n",
      "Try using .loc[row_indexer,col_indexer] = value instead\n",
      "\n",
      "See the caveats in the documentation: https://pandas.pydata.org/pandas-docs/stable/user_guide/indexing.html#returning-a-view-versus-a-copy\n"
     ]
    }
   ],
   "source": [
    "from matplotlib import rc\n",
    "rc('text', usetex=True)\n",
    "\n",
    "pdf = df\n",
    "\n",
    "\n",
    "pdf = pdf[pdf[\"dataset\"] == \"cot_fsopt\"]\n",
    "pdf[\"instance_len\"] = pdf[\"input_len\"] + pdf[\"target_len\"]\n",
    "\n",
    "# Sample pandas dataframe\n",
    "# pdf = pdf.sample(n=50000)\n",
    "\n",
    "pdf_lst = []\n",
    "for c in [\"input_len\", \"target_len\", \"instance_len\"]:\n",
    "    xpdf = pdf.copy()\n",
    "    xpdf[\"len\"] = xpdf[c]\n",
    "    if c == \"input_len\":\n",
    "        xpdf[\"type\"] = \"Input\"\n",
    "    elif c == \"target_len\":\n",
    "        xpdf[\"type\"] = \"Output\"\n",
    "    else:\n",
    "        xpdf[\"type\"] = \"Instance\"\n",
    "    pdf_lst.append(xpdf)\n",
    "\n",
    "pdf = pd.concat(pdf_lst)\n",
    "\n",
    "column = \"target_len\"\n",
    "\n",
    "print(len(pdf))"
   ]
  },
  {
   "cell_type": "code",
   "execution_count": 100,
   "metadata": {},
   "outputs": [
    {
     "name": "stderr",
     "output_type": "stream",
     "text": [
      "/usr/local/miniconda3/envs/comp-gen_v2/lib/python3.9/site-packages/plotnine/ggplot.py:718: PlotnineWarning: Saving 19 x 5 in image.\n",
      "/usr/local/miniconda3/envs/comp-gen_v2/lib/python3.9/site-packages/plotnine/ggplot.py:719: PlotnineWarning: Filename: output_plots/instruction_length_dist/side_by_side.pdf\n",
      "/usr/local/miniconda3/envs/comp-gen_v2/lib/python3.9/site-packages/plotnine/facets/facet.py:440: PlotnineWarning: If you need more space for the x-axis tick text use ... + theme(subplots_adjust={'wspace': 0.25}). Choose an appropriate value for 'wspace'.\n",
      "/usr/local/miniconda3/envs/comp-gen_v2/lib/python3.9/site-packages/plotnine/facets/facet.py:446: PlotnineWarning: If you need more space for the y-axis tick text use ... + theme(subplots_adjust={'hspace': 0.25}). Choose an appropriate value for 'hspace'\n",
      "/usr/local/miniconda3/envs/comp-gen_v2/lib/python3.9/site-packages/plotnine/facets/facet.py:440: PlotnineWarning: If you need more space for the x-axis tick text use ... + theme(subplots_adjust={'wspace': 0.25}). Choose an appropriate value for 'wspace'.\n",
      "/usr/local/miniconda3/envs/comp-gen_v2/lib/python3.9/site-packages/plotnine/facets/facet.py:446: PlotnineWarning: If you need more space for the y-axis tick text use ... + theme(subplots_adjust={'hspace': 0.25}). Choose an appropriate value for 'hspace'\n"
     ]
    },
    {
     "data": {
      "image/png": "[encoded data removed]",
      "text/plain": [
       "<Figure size 1900x500 with 3 Axes>"
      ]
     },
     "metadata": {},
     "output_type": "display_data"
    },
    {
     "data": {
      "text/plain": [
       "<ggplot: (8778411186005)>"
      ]
     },
     "execution_count": 100,
     "metadata": {},
     "output_type": "execute_result"
    }
   ],
   "source": [
    "p9 = importlib.reload(p9)\n",
    "\n",
    "p = (\n",
    "    p9.ggplot(pdf, p9.aes(\n",
    "        x=\"len\", \n",
    "#         y=p9.after_stat('width*density')\n",
    "    ))\n",
    "    + p9.geom_histogram(\n",
    "        bins=100,\n",
    "        color=\"black\",\n",
    "        fill=\"#6E006E\",\n",
    "        # size=1,\n",
    "        # width=0.6,\n",
    "    )\n",
    "    + p9.scale_y_continuous(\n",
    "#         breaks=np.arange(0, 1, 0.05),\n",
    "#         limits=[0, 0.4],\n",
    "        expand = (0, 0)\n",
    "    )\n",
    "    + p9.facet_wrap(\"type\", ncol=2, scales=\"free\")\n",
    "    + p9.labs(\n",
    "        x=r\"Sequence Length (Num. of Tokens)\",\n",
    "        y=\"Fraction of samples\",\n",
    "        # y=r\"\\textbf{Training} Context Size (Number of Tokens)\",\n",
    "        # color=None,\n",
    "        # fill=None,\n",
    "    )\n",
    "#     + p9u.scale_fill_prism(\"mila_purples_reverse\")\n",
    "#     + p9u.scale_color_prism(\"formal\")\n",
    "    #         + p9.theme_light()\n",
    "    + p9u.theme_formal(grid=\"Y\",\n",
    "                       axis_text_size=19,\n",
    "                       base_size=20,\n",
    "                       strip_text_size=21,\n",
    "                      )\n",
    "#     + p9.theme_minimal()\n",
    "#     + p9u.theme_ipsum(grid=\"XY\", base_family=\"Times New Roman\", axis_title_size=12, axis_text_size=12)\n",
    "    + p9.theme(\n",
    "#         #             plot_margin=0,\n",
    "# #         text=p9.element_text(size=10),\n",
    "        panel_spacing=1,\n",
    "#         legend_position=\"none\",\n",
    "#         # legend_box=\"vertical\",\n",
    "        axis_title=p9.element_text(size=20),\n",
    "#         axis_title_y=p9.element_text(margin=dict(r=30)),\n",
    "        figure_size=(19, 5)\n",
    "    )\n",
    ")\n",
    "p.save(output_dir / f\"side_by_side.pdf\", dpi=300)\n",
    "p"
   ]
  }
 ],
 "metadata": {
  "kernelspec": {
   "display_name": "Python 3 (ipykernel)",
   "language": "python",
   "name": "python3"
  },
  "language_info": {
   "codemirror_mode": {
    "name": "ipython",
    "version": 3
   },
   "file_extension": ".py",
   "mimetype": "text/x-python",
   "name": "python",
   "nbconvert_exporter": "python",
   "pygments_lexer": "ipython3",
   "version": "3.9.7"
  }
 },
 "nbformat": 4,
 "nbformat_minor": 1
}
