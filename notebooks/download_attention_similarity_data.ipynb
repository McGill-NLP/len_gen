{
 "cells": [
  {
   "cell_type": "markdown",
   "metadata": {},
   "source": [
    "# Plot Scratchpad Results"
   ]
  },
  {
   "cell_type": "markdown",
   "metadata": {},
   "source": [
    "## Prerequisites"
   ]
  },
  {
   "cell_type": "code",
   "execution_count": 1,
   "metadata": {},
   "outputs": [],
   "source": [
    "import copy\n",
    "import datetime\n",
    "import importlib\n",
    "import re\n",
    "\n",
    "from pathlib import Path\n",
    "from typing import List, Dict, Any\n",
    "\n",
    "\n",
    "import numpy as np\n",
    "from tqdm import tqdm\n",
    "\n",
    "import plotnine as p9\n",
    "\n",
    "import pandas as pd\n",
    "from collections import deque\n",
    "\n",
    "from utils import add_src_to_sys_path\n",
    "\n",
    "add_src_to_sys_path()\n",
    "\n",
    "from common import wandb_utils, nest\n",
    "from common import plotnine_utils as p9u\n",
    "\n",
    "from plotting import attention_analysis_utils as aa_utils\n",
    "\n",
    "wandb_utils = importlib.reload(wandb_utils)\n",
    "p9u = importlib.reload(p9u)\n",
    "aa_utils = importlib.reload(aa_utils)\n",
    "\n",
    "wandb_api = wandb_utils.get_wandb_api()"
   ]
  },
  {
   "cell_type": "markdown",
   "metadata": {},
   "source": [
    "## Load the experiments"
   ]
  },
  {
   "cell_type": "code",
   "execution_count": 2,
   "metadata": {},
   "outputs": [],
   "source": [
    "tags = [\"attention_analysis\"]"
   ]
  },
  {
   "cell_type": "code",
   "execution_count": 3,
   "metadata": {},
   "outputs": [],
   "source": [
    "plot_dir_name = \"__\".join(tags)\n",
    "output_dir = Path(\"output_plots\") / f\"{plot_dir_name}\"\n",
    "output_dir.mkdir(parents=True, exist_ok=True)"
   ]
  },
  {
   "cell_type": "code",
   "execution_count": 4,
   "metadata": {},
   "outputs": [
    {
     "data": {
      "text/plain": "  0%|          | 0/115 [00:00<?, ?it/s]",
      "application/vnd.jupyter.widget-view+json": {
       "version_major": 2,
       "version_minor": 0,
       "model_id": "e0b7dbfa031f4a64be446fae12ec1678"
      }
     },
     "metadata": {},
     "output_type": "display_data"
    },
    {
     "name": "stdout",
     "output_type": "stream",
     "text": [
      "Building dataframe...\n",
      "Saving results to /Users/amirhosein/Development/PycharmProjects/len_gen/results/attention_analysis.jsonl\n"
     ]
    },
    {
     "data": {
      "text/plain": "115"
     },
     "execution_count": 4,
     "metadata": {},
     "output_type": "execute_result"
    }
   ],
   "source": [
    "df = wandb_utils.download_and_load_results(\n",
    "    tags=tags,\n",
    "    force_download=True,\n",
    ")\n",
    "len(df)"
   ]
  },
  {
   "cell_type": "code",
   "execution_count": null,
   "outputs": [],
   "source": [
    "# or load manually\n",
    "import jsonlines\n",
    "def load_dataframe_from_jsonlines(path: Path) -> pd.DataFrame:\n",
    "    data = []\n",
    "    with jsonlines.open(path) as reader:\n",
    "        for obj in reader:\n",
    "            data.append(obj)\n",
    "    return pd.DataFrame.from_records(data)\n",
    "def get_result_name(tags: List[str]) -> str:\n",
    "    return \"_\".join(tags)\n",
    "\n",
    "df = load_dataframe_from_jsonlines(Path(\"../results\") / f\"{get_result_name(tags)}.jsonl\")\n",
    "len(df)"
   ],
   "metadata": {
    "collapsed": false
   }
  },
  {
   "attachments": {},
   "cell_type": "markdown",
   "metadata": {},
   "source": [
    "## Load the data"
   ]
  },
  {
   "cell_type": "code",
   "execution_count": null,
   "outputs": [],
   "source": [
    "df[\"cfg__dataset.name\"].unique()"
   ],
   "metadata": {
    "collapsed": false
   }
  },
  {
   "cell_type": "code",
   "execution_count": null,
   "outputs": [],
   "source": [
    "df[\"cfg__dataset.split\"].unique()"
   ],
   "metadata": {
    "collapsed": false
   }
  },
  {
   "cell_type": "code",
   "execution_count": null,
   "outputs": [],
   "source": [
    "DATASET = \"scan\"\n",
    "SPLIT = \"len_tr25_ts48\"\n",
    "\n",
    "df = df[(df[\"cfg__dataset.name\"] == DATASET) & (df[\"cfg__dataset.split\"] == SPLIT)]\n",
    "len(df)"
   ],
   "metadata": {
    "collapsed": false
   }
  },
  {
   "cell_type": "code",
   "execution_count": 5,
   "metadata": {},
   "outputs": [
    {
     "data": {
      "text/plain": [
       "defaultdict(set,\n",
       "            {'mila': {'i0_c1_o1_v1_r1',\n",
       "              'i1_c0_o1_v1_r1',\n",
       "              'i1_c1_o0_v1_r1',\n",
       "              'i1_c1_o1_v0_r1',\n",
       "              'i1_c1_o1_v1_r0',\n",
       "              'i1_c1_o1_v1_r1'},\n",
       "             'cc_cedar': {'i0_c1_o1_v0_r0', 'no_scratchpad'}})"
      ]
     },
     "execution_count": 5,
     "metadata": {},
     "output_type": "execute_result"
    }
   ],
   "source": [
    "from collections import defaultdict\n",
    "\n",
    "scratchpad_config_pattern = re.compile(\n",
    "    r\"(.)*_scratchpad(.)+_ufs__(i._c._o._v._r.)_.*___.*\"\n",
    ")\n",
    "\n",
    "def get_compute_cluster(host: str):\n",
    "    if \"cedar\" in host:\n",
    "        return \"cc_cedar\"\n",
    "    elif \"narval\" in host:\n",
    "        return \"cc_narval\"\n",
    "    elif host.startswith(\"cn-\"):\n",
    "        return \"mila\"\n",
    "    else:\n",
    "        raise ValueError(f\"Unknown host {host}\")\n",
    "\n",
    "def get_scratchpad_config(group: str):\n",
    "    scratchpad_config = \"no_scratchpad\"\n",
    "    result = scratchpad_config_pattern.search(group)\n",
    "    if result:\n",
    "        scratchpad_config = result.group(3)\n",
    "    return scratchpad_config\n",
    "\n",
    "df[\"scratchpad_config\"] = df[\"run_group\"].apply(get_scratchpad_config)\n",
    "\n",
    "# Map run group to their hostname\n",
    "scratchpad_config_to_cluster_name = defaultdict(set)\n",
    "run_group_to_cluster_name = {}\n",
    "for scratchpad_config, hostname in zip(df[\"scratchpad_config\"], df[\"host\"]):\n",
    "    cluster_name = get_compute_cluster(hostname)\n",
    "    scratchpad_config_to_cluster_name[scratchpad_config].add(cluster_name)\n",
    "\n",
    "cluster_name_to_scratchpad_configs = defaultdict(set)\n",
    "for scratchpad_config, cluster_names in scratchpad_config_to_cluster_name.items():\n",
    "    for cluster_name in cluster_names:\n",
    "        cluster_name_to_scratchpad_configs[cluster_name].add(scratchpad_config)\n",
    "\n",
    "cluster_name_to_scratchpad_configs"
   ]
  },
  {
   "cell_type": "code",
   "execution_count": 6,
   "metadata": {},
   "outputs": [
    {
     "data": {
      "text/plain": [
       "'mila'"
      ]
     },
     "execution_count": 6,
     "metadata": {},
     "output_type": "execute_result"
    }
   ],
   "source": [
    "import os\n",
    "\n",
    "localhost = os.uname()[1]\n",
    "local_cluster = get_compute_cluster(localhost)\n",
    "# local_cluster = \"mila\"\n",
    "local_cluster"
   ]
  },
  {
   "cell_type": "code",
   "execution_count": 18,
   "metadata": {},
   "outputs": [
    {
     "data": {
      "application/json": {
       "ascii": false,
       "bar_format": null,
       "colour": null,
       "elapsed": 0.004123687744140625,
       "initial": 0,
       "n": 0,
       "ncols": null,
       "nrows": null,
       "postfix": null,
       "prefix": "",
       "rate": null,
       "total": 54,
       "unit": "it",
       "unit_divisor": 1000,
       "unit_scale": false
      },
      "application/vnd.jupyter.widget-view+json": {
       "model_id": "d69fe0d839914ad5afd65a704d6ed1fa",
       "version_major": 2,
       "version_minor": 0
      },
      "text/plain": [
       "  0%|          | 0/54 [00:00<?, ?it/s]"
      ]
     },
     "metadata": {},
     "output_type": "display_data"
    }
   ],
   "source": [
    "from tqdm.auto import tqdm\n",
    "analysis_root_dir = Path.home() / \"scratch\" / \"len_gen\" / \"experiments\" / \"attention_analysis_data\"\n",
    "\n",
    "aa_utils = importlib.reload(aa_utils)\n",
    "\n",
    "for _, row in tqdm(df.iterrows(), total=len(df)):\n",
    "    if row[\"job_type\"] == \"agent\":\n",
    "        continue\n",
    "\n",
    "    if row[\"cfg__model.position_encoding_type\"] != \"none\":\n",
    "        continue\n",
    "\n",
    "    scratchpad_config = row[\"scratchpad_config\"]\n",
    "    if scratchpad_config not in cluster_name_to_scratchpad_configs[local_cluster]:\n",
    "        continue\n",
    "\n",
    "    hostname = get_compute_cluster(row[\"host\"])\n",
    "\n",
    "    run = wandb_api.run(f\"{wandb_utils.get_entity_name()}/{wandb_utils.get_project_name()}/{row['id']}\")\n",
    "    aa_utils.download_the_entire_run2(local_cluster, run, root_dir=analysis_root_dir)\n"
   ]
  }
 ],
 "metadata": {
  "kernelspec": {
   "display_name": "Python 3 (ipykernel)",
   "language": "python",
   "name": "python3"
  },
  "language_info": {
   "codemirror_mode": {
    "name": "ipython",
    "version": 3
   },
   "file_extension": ".py",
   "mimetype": "text/x-python",
   "name": "python",
   "nbconvert_exporter": "python",
   "pygments_lexer": "ipython3",
   "version": "3.9.7"
  }
 },
 "nbformat": 4,
 "nbformat_minor": 1
}
